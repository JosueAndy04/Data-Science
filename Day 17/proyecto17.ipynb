{
 "cells": [
  {
   "cell_type": "markdown",
   "id": "3b0b4cd4",
   "metadata": {},
   "source": [
    "# DashBoard de Terremotos a Nivel Mundial"
   ]
  },
  {
   "cell_type": "code",
   "execution_count": null,
   "id": "2d7c82f9",
   "metadata": {},
   "outputs": [],
   "source": [
    "import pandas as pd\n",
    "import plotly.graph_objects as go\n",
    "import plotly.express as px\n",
    "import dash\n",
    "from dash import dcc, html"
   ]
  },
  {
   "cell_type": "code",
   "execution_count": null,
   "id": "c8d27d16",
   "metadata": {},
   "outputs": [],
   "source": [
    "# Cargar y preparar datos\n",
    "terremotos = pd.read_csv(\n",
    "    \"/home/anderson-josue/Documents/Programming/Learn/Data-Science/Data-Science/Day 17/earthquake+data.csv\"\n",
    ")"
   ]
  },
  {
   "cell_type": "code",
   "execution_count": null,
   "id": "45fdc2a2",
   "metadata": {},
   "outputs": [],
   "source": [
    "terremotos"
   ]
  },
  {
   "cell_type": "code",
   "execution_count": null,
   "id": "5b279615",
   "metadata": {},
   "outputs": [],
   "source": [
    "terremotos['Date & Time'] =pd.to_datetime(terremotos['Date & Time'])"
   ]
  },
  {
   "cell_type": "code",
   "execution_count": null,
   "id": "e6c4d266",
   "metadata": {},
   "outputs": [],
   "source": [
    "# Mapa Coroplectico\n",
    "fig1 = px.choropleth(\n",
    "    terremotos,\n",
    "    locations=\"Country\",\n",
    "    locationmode=\"country names\",\n",
    "    color=\"Magnitude\",\n",
    "    hover_name=\"Country\",\n",
    "    projection=\"natural earth\",\n",
    ")\n",
    "fig1.update_layout(title=\"Mapa Global de Terremotos segun Magnitud\")"
   ]
  },
  {
   "cell_type": "code",
   "execution_count": null,
   "id": "e7284b35",
   "metadata": {},
   "outputs": [],
   "source": [
    "# Grafico de barras\n",
    "magnitudes = terremotos[\"Magnitude\"].value_counts().sort_index()\n",
    "fig2 = go.Figure(\n",
    "    go.Bar(\n",
    "        x=magnitudes.index,\n",
    "        y=magnitudes.values,\n",
    "        marker=dict(\n",
    "            color=magnitudes.values,\n",
    "            colorscale=\"Viridis\",\n",
    "            showscale=True,\n",
    "            colorbar=dict(title=\"Numero de Terremotos\"),\n",
    "        ),\n",
    "        text=magnitudes.values,\n",
    "        textposition=\"outside\",\n",
    "    )\n",
    ")\n",
    "fig2.update_layout(\n",
    "    title=\"Numero de Terremotos por Magnitud\",\n",
    "    xaxis_title=\"Magnitud\",\n",
    "    yaxis_title=\"NUmero de Terremotos\",\n",
    ")"
   ]
  },
  {
   "cell_type": "code",
   "execution_count": null,
   "id": "7386f365",
   "metadata": {},
   "outputs": [],
   "source": [
    "# Grafico de lineas\n",
    "terremotos.sort_values(\"Date & Time\", inplace=True)\n",
    "fig3 = go.Figure(\n",
    "    go.Scatter(\n",
    "        x=terremotos[\"Date & Time\"],\n",
    "        y=terremotos[\"Magnitude\"],\n",
    "        mode=\"lines\",\n",
    "        line=dict(color=\"royalblue\", width=2),\n",
    "        text=terremotos[\"Magnitude\"],\n",
    "        textposition=\"top center\",\n",
    "    )\n",
    ")\n",
    "fig3.update_layout(\n",
    "    title=\"Tendencia de Magnitud de Terremotosa lo largo del Tiempo\",\n",
    "    xaxis_title=\"Fecha\",\n",
    "    yaxis_title=\"Magnitud\",\n",
    ")"
   ]
  },
  {
   "cell_type": "code",
   "execution_count": null,
   "id": "d5454955",
   "metadata": {},
   "outputs": [],
   "source": [
    "# Grafico de dispersion\n",
    "fig4 = go.Figure(\n",
    "    go.Scatter(\n",
    "        x=terremotos[\"Depth\"],\n",
    "        y=terremotos[\"Magnitude\"],\n",
    "        mode=\"markers\",\n",
    "        marker=dict(\n",
    "            size=10,\n",
    "            color=terremotos[\"Magnitude\"],\n",
    "            colorscale=\"Viridis\",\n",
    "            showscale=True,\n",
    "            colorbar=dict(title=\"Magnitud\"),\n",
    "        ),\n",
    "        text=terremotos[\"Magnitude\"],\n",
    "        hoverinfo=\"text+x+y\",\n",
    "    )\n",
    ")\n",
    "fig4.update_layout(\n",
    "    title=\"Relacion entre Magnitud y Profundidad de Terremotos\",\n",
    "    xaxis_title=\"Profundidad\",\n",
    "    yaxis_title=\"Magnitud\",\n",
    ")"
   ]
  },
  {
   "cell_type": "code",
   "execution_count": null,
   "id": "6e35e0f6",
   "metadata": {},
   "outputs": [],
   "source": [
    "# Grafico 3d\n",
    "fig5 = go.Figure(\n",
    "    go.Scatter3d(\n",
    "        x=terremotos[\"Date & Time\"],\n",
    "        y=terremotos[\"Depth\"],\n",
    "        z=terremotos[\"Magnitude\"],\n",
    "        mode=\"markers\",\n",
    "        marker=dict(\n",
    "            size=5, color=terremotos[\"Magnitude\"], colorscale=\"Viridis\", opacity=0.8\n",
    "        ),\n",
    "    )\n",
    ")\n",
    "fig5.update_layout(\n",
    "    title=\"Relacion 3D entre Magnitud, Profundidad y Tiempo\",\n",
    "    scene=dict(xaxis_title=\"Fecha\", yaxis_title=\"Profundidad\", zaxis_title=\"Magnitud\"),\n",
    ")"
   ]
  },
  {
   "cell_type": "code",
   "execution_count": null,
   "id": "4c13d4bf",
   "metadata": {},
   "outputs": [],
   "source": [
    "# Inicializar la aplicacion Dash \n",
    "app = dash.Dash(__name__)"
   ]
  },
  {
   "cell_type": "code",
   "execution_count": null,
   "id": "9ad53105",
   "metadata": {},
   "outputs": [],
   "source": [
    "# Creacion del Layout general de la app\n",
    "app.layout = html.Div(\n",
    "    [\n",
    "        html.H1(\"DashBoard de Terremotos\"),\n",
    "        dcc.Graph(id=\"mapa-coropleto\", figure=fig1),\n",
    "        dcc.Graph(id=\"grafico-barras\", figure=fig2),\n",
    "        dcc.Graph(id=\"grafico=lineas\", figure=fig3),\n",
    "        dcc.Graph(\"grafico-dispersion\", figure=fig4),\n",
    "        dcc.Graph(id=\"grafico-3d\", figure=fig5),\n",
    "    ]\n",
    ")"
   ]
  },
  {
   "cell_type": "code",
   "execution_count": null,
   "id": "d15eb535",
   "metadata": {},
   "outputs": [],
   "source": [
    "if __name__ == \"__main__\":\n",
    "    app.run(debug=True)"
   ]
  },
  {
   "cell_type": "code",
   "execution_count": null,
   "id": "d470a1b1",
   "metadata": {},
   "outputs": [],
   "source": []
  }
 ],
 "metadata": {
  "kernelspec": {
   "display_name": "base",
   "language": "python",
   "name": "python3"
  },
  "language_info": {
   "codemirror_mode": {
    "name": "ipython",
    "version": 3
   },
   "file_extension": ".py",
   "mimetype": "text/x-python",
   "name": "python",
   "nbconvert_exporter": "python",
   "pygments_lexer": "ipython3",
   "version": "3.13.5"
  }
 },
 "nbformat": 4,
 "nbformat_minor": 5
}
