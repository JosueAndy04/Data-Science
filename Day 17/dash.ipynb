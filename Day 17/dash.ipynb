{
 "cells": [
  {
   "cell_type": "markdown",
   "id": "e9b2f4bf",
   "metadata": {},
   "source": [
    "\n",
    "# DashBoard"
   ]
  },
  {
   "cell_type": "code",
   "execution_count": 7,
   "id": "6cb63d91",
   "metadata": {},
   "outputs": [],
   "source": [
    "import dash \n",
    "from dash import dcc, html\n",
    "import pandas as pd\n",
    "import plotly.express as px"
   ]
  },
  {
   "cell_type": "code",
   "execution_count": null,
   "id": "84026a16",
   "metadata": {},
   "outputs": [],
   "source": [
    "app = dash.Dash(__name__)"
   ]
  },
  {
   "cell_type": "code",
   "execution_count": null,
   "id": "52968eb0",
   "metadata": {},
   "outputs": [],
   "source": [
    "app.layout = html.Div(\n",
    "    children=[\n",
    "        dcc.Input(id=\"caja-texto\", type=\"text\", value=\"\"),\n",
    "        html.Button(\"Enviar\", id=\"boton\"),\n",
    "        html.Div(id=\"salida-boton\", children=\"\"),\n",
    "    ]\n",
    ")"
   ]
  },
  {
   "cell_type": "code",
   "execution_count": null,
   "id": "c6d4bcff",
   "metadata": {},
   "outputs": [],
   "source": [
    "@app.callback(\n",
    "    dash.Output(\"salida-boton\", \"children\"),\n",
    "    [dash.Input(\"boton\", \"n_clicks\")],\n",
    "    [dash.State(\"caja-texto\", \"value\")],\n",
    ")\n",
    "def actualizar_salida(n_clicks, valor):\n",
    "    if n_clicks == None:\n",
    "        return \"Introduza un valor y presione el boton\"\n",
    "    else:\n",
    "        return f\"El valor ingresado es:  {valor}, el botono fue presionado {n_clicks} veces\""
   ]
  },
  {
   "cell_type": "code",
   "execution_count": null,
   "id": "76c3a53a",
   "metadata": {},
   "outputs": [],
   "source": [
    "if __name__ == '__main__':\n",
    "    app.run(debug=True)"
   ]
  },
  {
   "cell_type": "code",
   "execution_count": 8,
   "id": "ef5ec3ab",
   "metadata": {},
   "outputs": [],
   "source": [
    "# Crear un DataFrame de ejemplo\n",
    "df = pd.DataFrame(\n",
    "    {\n",
    "        \"Fruta\": [\"Manzanas\", \"Naranja\", \"Bananas\", \"Manzanas\", \"Naranjas\", \"Bananas\"],\n",
    "        \"Cantidad\": [4, 1, 2, 2, 4, 5],\n",
    "        \"Ciudad\": [\"BG\", \"BG\", \"BG\", \"BCN\", \"BCN\", \"BCN\"],\n",
    "    }\n",
    ")"
   ]
  },
  {
   "cell_type": "code",
   "execution_count": 9,
   "id": "e097c2f3",
   "metadata": {},
   "outputs": [],
   "source": [
    "# Crear la aplicacion Dash\n",
    "app = dash.Dash(__name__)"
   ]
  },
  {
   "cell_type": "code",
   "execution_count": 10,
   "id": "10861de5",
   "metadata": {},
   "outputs": [],
   "source": [
    "# Definir el layout de la aplicacion\n",
    "app.layout = html.Div(\n",
    "    children=[\n",
    "        html.H1(children=\"Dashboard Interactivo Avnzado\"),\n",
    "        dcc.Dropdown(\n",
    "            id=\"desplegable\",\n",
    "            options=[\n",
    "                {\"label\": \"Bogota\", \"value\": \"BG\"},\n",
    "                {\"label\": \"Barcelona\", \"value\": \"BCN\"},\n",
    "            ],\n",
    "            value=\"BG\",\n",
    "        ),\n",
    "        dcc.Graph(id=\"grafico\"),\n",
    "    ]\n",
    ")"
   ]
  },
  {
   "cell_type": "code",
   "execution_count": 11,
   "id": "4a000854",
   "metadata": {},
   "outputs": [],
   "source": [
    "# Callback para actualizar el grafico basado en la seleccion del dropdwon\n",
    "@app.callback(\n",
    "    dash.Output('grafico', 'figure'), [dash.Input('desplegable', 'value')]\n",
    ")\n",
    "def actualizar_grafico(ciudad_seleccionada):\n",
    "    df_filtrado = df[df['Ciudad'] == ciudad_seleccionada]\n",
    "    fig = px.bar(df_filtrado, x='Fruta', y='Cantidad', color='Fruta')\n",
    "    return fig"
   ]
  },
  {
   "cell_type": "code",
   "execution_count": 12,
   "id": "3b14a6ff",
   "metadata": {},
   "outputs": [
    {
     "data": {
      "text/html": [
       "\n",
       "        <iframe\n",
       "            width=\"100%\"\n",
       "            height=\"650\"\n",
       "            src=\"http://127.0.0.1:8050/\"\n",
       "            frameborder=\"0\"\n",
       "            allowfullscreen\n",
       "            \n",
       "        ></iframe>\n",
       "        "
      ],
      "text/plain": [
       "<IPython.lib.display.IFrame at 0x76f987913b10>"
      ]
     },
     "metadata": {},
     "output_type": "display_data"
    }
   ],
   "source": [
    "# Ejecutar la aplicacion\n",
    "if __name__ == \"__main__\":\n",
    "    app.run(debug=True)"
   ]
  }
 ],
 "metadata": {
  "kernelspec": {
   "display_name": "base",
   "language": "python",
   "name": "python3"
  },
  "language_info": {
   "codemirror_mode": {
    "name": "ipython",
    "version": 3
   },
   "file_extension": ".py",
   "mimetype": "text/x-python",
   "name": "python",
   "nbconvert_exporter": "python",
   "pygments_lexer": "ipython3",
   "version": "3.13.5"
  }
 },
 "nbformat": 4,
 "nbformat_minor": 5
}
