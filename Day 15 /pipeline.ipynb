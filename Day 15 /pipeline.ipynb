{
 "cells": [
  {
   "cell_type": "markdown",
   "id": "8d34bfc3",
   "metadata": {},
   "source": [
    "# Pipelines y Automatizacion"
   ]
  },
  {
   "cell_type": "code",
   "execution_count": 1,
   "id": "b8a9c424",
   "metadata": {},
   "outputs": [
    {
     "name": "stdout",
     "output_type": "stream",
     "text": [
      "Las predicciones son: [2 1 0 2 0 2 0 1 1 1 2 1 1 1 1 0 1 1 0 0 2 1 0 0 2 0 0 1 1 0 2 1 0 2 2 1 0\n",
      " 2]\n",
      "La precision del modelo es:  0.97\n"
     ]
    }
   ],
   "source": [
    "# Codigo de ejemplo\n",
    "# Librerias\n",
    "from sklearn.datasets import load_iris\n",
    "from sklearn.model_selection import train_test_split\n",
    "from sklearn.preprocessing import StandardScaler\n",
    "from sklearn.linear_model import LogisticRegression\n",
    "\n",
    "# Cargamos el dataset\n",
    "data = load_iris()\n",
    "X = data.data\n",
    "y = data.target\n",
    "\n",
    "# Dividmos el dataset en conjunto de entrenamiento y prueba\n",
    "X_entrena, X_prueba, y_entrena, y_prueba = train_test_split(\n",
    "    X, y, test_size=0.25, random_state=0\n",
    ")\n",
    "\n",
    "# Creamos una instancia del escalador\n",
    "scaler = StandardScaler()\n",
    "\n",
    "# Estimador (StandardScaler): Aprendemos los parametros deescalado fit\n",
    "scaler.fit(X_entrena)\n",
    "\n",
    "# Transformador (StandardScaler): Aplicamos la transformacion a los datos de entrenamiento y prueba\n",
    "X_entrena_escalado = scaler.transform(X_entrena)\n",
    "X_prueba_escalado = scaler.transform(X_prueba)\n",
    "\n",
    "# Creamos una instancia del modelo\n",
    "modelo = LogisticRegression()\n",
    "\n",
    "# Estimador (LogisticRegression): Entrenamos el modelo con los datos escalados\n",
    "modelo.fit(X_entrena_escalado, y_entrena)\n",
    "\n",
    "# Predictor (LogisticRegression): Hacemos predicciones y evaluamos el modelo\n",
    "y_pred = modelo.predict(X_prueba_escalado)\n",
    "puntaje = modelo.score(X_prueba_escalado, y_prueba)\n",
    "print(f'Las predicciones son: {y_pred}')\n",
    "print(f'La precision del modelo es: {puntaje: .2f}')"
   ]
  },
  {
   "cell_type": "code",
   "execution_count": 2,
   "id": "98415fc2",
   "metadata": {},
   "outputs": [
    {
     "name": "stdout",
     "output_type": "stream",
     "text": [
      "Las predicciones son: [2 1 0 2 0 2 0 1 1 1 2 1 1 1 1 0 1 1 0 0 2 1 0 0 2 0 0 1 1 0 2 1 0 2 2 1 0\n",
      " 2]\n",
      "La precision del modelo es:  0.97\n"
     ]
    }
   ],
   "source": [
    "# Codigo de ejemplo\n",
    "# Librerias\n",
    "from sklearn.datasets import load_iris\n",
    "from sklearn.model_selection import train_test_split\n",
    "from sklearn.preprocessing import StandardScaler\n",
    "from sklearn.linear_model import LogisticRegression\n",
    "from sklearn.pipeline import Pipeline\n",
    "\n",
    "# Cargamos el dataset\n",
    "data = load_iris()\n",
    "X = data.data\n",
    "y = data.target\n",
    "\n",
    "# Dividmos el dataset en conjunto de entrenamiento y prueba\n",
    "X_entrena, X_prueba, y_entrena, y_prueba = train_test_split(\n",
    "    X, y, test_size=0.25, random_state=0\n",
    ")\n",
    "\n",
    "pipeline = Pipeline([\n",
    "    ('scaler', StandardScaler()),\n",
    "    ('modelo', LogisticRegression())\n",
    "])\n",
    "\n",
    "pipeline.fit(X_entrena, y_entrena)\n",
    "\n",
    "# Predictor (LogisticRegression): Hacemos predicciones y evaluamos el modelo\n",
    "y_pred = pipeline.predict(X_prueba)\n",
    "puntaje = pipeline.score(X_prueba, y_prueba)\n",
    "print(f\"Las predicciones son: {y_pred}\")\n",
    "print(f\"La precision del modelo es: {puntaje: .2f}\")"
   ]
  },
  {
   "cell_type": "code",
   "execution_count": 3,
   "id": "13475063",
   "metadata": {},
   "outputs": [
    {
     "name": "stdout",
     "output_type": "stream",
     "text": [
      "Las predicciones son: [2 1 0 2 0 2 0 1 1 1 2 1 1 1 1 0 1 1 0 0 2 1 0 0 2 0 0 1 1 0 2 1 0 2 2 1 0\n",
      " 2]\n",
      "La precision del modelo es:  0.97\n"
     ]
    }
   ],
   "source": [
    "# Codigo de ejemplo\n",
    "# Librerias\n",
    "from sklearn.datasets import load_iris\n",
    "from sklearn.model_selection import train_test_split\n",
    "from sklearn.preprocessing import StandardScaler\n",
    "from sklearn.linear_model import LogisticRegression\n",
    "from sklearn.pipeline import make_pipeline\n",
    "\n",
    "# Cargamos el dataset\n",
    "data = load_iris()\n",
    "X = data.data\n",
    "y = data.target\n",
    "\n",
    "# Dividmos el dataset en conjunto de entrenamiento y prueba\n",
    "X_entrena, X_prueba, y_entrena, y_prueba = train_test_split(\n",
    "    X, y, test_size=0.25, random_state=0\n",
    ")\n",
    "\n",
    "pipeline = make_pipeline(StandardScaler(), LogisticRegression())\n",
    "\n",
    "pipeline.fit(X_entrena, y_entrena)\n",
    "\n",
    "# Predictor (LogisticRegression): Hacemos predicciones y evaluamos el modelo\n",
    "y_pred = pipeline.predict(X_prueba)\n",
    "puntaje = pipeline.score(X_prueba, y_prueba)\n",
    "print(f\"Las predicciones son: {y_pred}\")\n",
    "print(f\"La precision del modelo es: {puntaje: .2f}\")"
   ]
  }
 ],
 "metadata": {
  "kernelspec": {
   "display_name": "base",
   "language": "python",
   "name": "python3"
  },
  "language_info": {
   "codemirror_mode": {
    "name": "ipython",
    "version": 3
   },
   "file_extension": ".py",
   "mimetype": "text/x-python",
   "name": "python",
   "nbconvert_exporter": "python",
   "pygments_lexer": "ipython3",
   "version": "3.13.5"
  }
 },
 "nbformat": 4,
 "nbformat_minor": 5
}
