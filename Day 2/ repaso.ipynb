{
 "cells": [
  {
   "cell_type": "code",
   "execution_count": 1,
   "id": "38e7ea2f",
   "metadata": {},
   "outputs": [],
   "source": [
    "miNumero = 1"
   ]
  },
  {
   "cell_type": "code",
   "execution_count": 2,
   "id": "8712c800",
   "metadata": {},
   "outputs": [
    {
     "data": {
      "text/plain": [
       "2"
      ]
     },
     "execution_count": 2,
     "metadata": {},
     "output_type": "execute_result"
    }
   ],
   "source": [
    "miNumero + 1"
   ]
  },
  {
   "cell_type": "code",
   "execution_count": 3,
   "id": "f3d87aac",
   "metadata": {},
   "outputs": [],
   "source": [
    "otroNumero = 2"
   ]
  },
  {
   "cell_type": "code",
   "execution_count": 4,
   "id": "85138267",
   "metadata": {},
   "outputs": [
    {
     "data": {
      "text/plain": [
       "3"
      ]
     },
     "execution_count": 4,
     "metadata": {},
     "output_type": "execute_result"
    }
   ],
   "source": [
    "miNumero + otroNumero"
   ]
  },
  {
   "cell_type": "code",
   "execution_count": 5,
   "id": "c39cb3a5",
   "metadata": {},
   "outputs": [],
   "source": [
    "miNumero = 3"
   ]
  },
  {
   "cell_type": "code",
   "execution_count": 6,
   "id": "dfd9b063",
   "metadata": {},
   "outputs": [
    {
     "data": {
      "text/plain": [
       "3"
      ]
     },
     "execution_count": 6,
     "metadata": {},
     "output_type": "execute_result"
    }
   ],
   "source": [
    "miNumero"
   ]
  },
  {
   "cell_type": "code",
   "execution_count": null,
   "id": "df6f46c9",
   "metadata": {},
   "outputs": [],
   "source": []
  }
 ],
 "metadata": {
  "kernelspec": {
   "display_name": "base",
   "language": "python",
   "name": "python3"
  },
  "language_info": {
   "codemirror_mode": {
    "name": "ipython",
    "version": 3
   },
   "file_extension": ".py",
   "mimetype": "text/x-python",
   "name": "python",
   "nbconvert_exporter": "python",
   "pygments_lexer": "ipython3",
   "version": "3.12.7"
  }
 },
 "nbformat": 4,
 "nbformat_minor": 5
}
