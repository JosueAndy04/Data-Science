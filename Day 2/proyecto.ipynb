{
 "cells": [
  {
   "cell_type": "code",
   "execution_count": 13,
   "id": "6bcb002e",
   "metadata": {},
   "outputs": [],
   "source": [
    "nombre = 'Anderson '\n",
    "fecha = '6/5/2024'\n",
    "saludo = 'Buenas Noches '"
   ]
  },
  {
   "cell_type": "code",
   "execution_count": 14,
   "id": "71876097",
   "metadata": {},
   "outputs": [],
   "source": [
    "bienvenida = 'Hola ' + saludo + nombre + 'Fecha: ' + fecha"
   ]
  },
  {
   "cell_type": "code",
   "execution_count": 93,
   "id": "eb323502",
   "metadata": {},
   "outputs": [],
   "source": [
    "dolares = float(210)\n",
    "euros_a_reibir = dolares * 0.8817"
   ]
  },
  {
   "cell_type": "code",
   "execution_count": 94,
   "id": "03c20e1f",
   "metadata": {},
   "outputs": [],
   "source": [
    "billetes_10 = int(euros_a_reibir // 10)\n",
    "billetes_1 = int(euros_a_reibir - (billetes_10 * 10) )\n",
    "monedas = int((euros_a_reibir - billetes_10*10 - billetes_1) * 100)"
   ]
  },
  {
   "cell_type": "code",
   "execution_count": 95,
   "id": "1d7a8d3a",
   "metadata": {},
   "outputs": [
    {
     "name": "stdout",
     "output_type": "stream",
     "text": [
      "Hola Buenas Noches Anderson Fecha: 6/5/2024\n",
      "Dolares a depositar: 210.0\n",
      "Euros Correspondientes: 185.157\n",
      "Uds, tiene 18 billetes de 10 euros\n",
      "Uds, tiene 5 billetes de 1 euros\n",
      "Uds, tiene 15 monedas\n"
     ]
    }
   ],
   "source": [
    "print(bienvenida)\n",
    "print('Dolares a depositar: ' + str(dolares))\n",
    "print('Euros Correspondientes: ' + str(euros_a_reibir))\n",
    "print(f'Uds, tiene {billetes_10} billetes de 10 euros')\n",
    "print(f'Uds, tiene {billetes_1} billetes de 1 euros')\n",
    "print(f'Uds, tiene {monedas} monedas')"
   ]
  }
 ],
 "metadata": {
  "kernelspec": {
   "display_name": "base",
   "language": "python",
   "name": "python3"
  },
  "language_info": {
   "codemirror_mode": {
    "name": "ipython",
    "version": 3
   },
   "file_extension": ".py",
   "mimetype": "text/x-python",
   "name": "python",
   "nbconvert_exporter": "python",
   "pygments_lexer": "ipython3",
   "version": "3.12.7"
  }
 },
 "nbformat": 4,
 "nbformat_minor": 5
}
