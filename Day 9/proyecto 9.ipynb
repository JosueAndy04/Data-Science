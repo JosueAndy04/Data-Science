{
 "cells": [
  {
   "cell_type": "markdown",
   "id": "4faab40f",
   "metadata": {},
   "source": [
    "## Consulta de Temperaturas INteractivo por Ciudad y Mes"
   ]
  },
  {
   "cell_type": "code",
   "execution_count": 1,
   "id": "3c6c7f51",
   "metadata": {},
   "outputs": [],
   "source": [
    "import pandas as pd\n",
    "import numpy as np\n",
    "import matplotlib.pyplot as plt "
   ]
  },
  {
   "cell_type": "markdown",
   "id": "b9be7516",
   "metadata": {},
   "source": [
    "1. Cragar un dataframe con los datos meteorologicos"
   ]
  },
  {
   "cell_type": "code",
   "execution_count": 3,
   "id": "0d245a93",
   "metadata": {},
   "outputs": [
    {
     "name": "stdout",
     "output_type": "stream",
     "text": [
      "<class 'pandas.core.frame.DataFrame'>\n",
      "RangeIndex: 1825 entries, 0 to 1824\n",
      "Data columns (total 7 columns):\n",
      " #   Column                Non-Null Count  Dtype  \n",
      "---  ------                --------------  -----  \n",
      " 0   Fecha                 1825 non-null   object \n",
      " 1   Ciudad                1825 non-null   object \n",
      " 2   Temperatura Maxima    1825 non-null   int64  \n",
      " 3   Temperatura Minima    1825 non-null   int64  \n",
      " 4   Precipitacion         1825 non-null   float64\n",
      " 5   Velocidad del Viento  1825 non-null   float64\n",
      " 6   Humedad Relativa      1825 non-null   float64\n",
      "dtypes: float64(3), int64(2), object(2)\n",
      "memory usage: 99.9+ KB\n"
     ]
    },
    {
     "data": {
      "text/html": [
       "<div>\n",
       "<style scoped>\n",
       "    .dataframe tbody tr th:only-of-type {\n",
       "        vertical-align: middle;\n",
       "    }\n",
       "\n",
       "    .dataframe tbody tr th {\n",
       "        vertical-align: top;\n",
       "    }\n",
       "\n",
       "    .dataframe thead th {\n",
       "        text-align: right;\n",
       "    }\n",
       "</style>\n",
       "<table border=\"1\" class=\"dataframe\">\n",
       "  <thead>\n",
       "    <tr style=\"text-align: right;\">\n",
       "      <th></th>\n",
       "      <th>Fecha</th>\n",
       "      <th>Ciudad</th>\n",
       "      <th>Temperatura Maxima</th>\n",
       "      <th>Temperatura Minima</th>\n",
       "      <th>Precipitacion</th>\n",
       "      <th>Velocidad del Viento</th>\n",
       "      <th>Humedad Relativa</th>\n",
       "    </tr>\n",
       "  </thead>\n",
       "  <tbody>\n",
       "    <tr>\n",
       "      <th>0</th>\n",
       "      <td>1/1/2023</td>\n",
       "      <td>Buenos Aires</td>\n",
       "      <td>27</td>\n",
       "      <td>18</td>\n",
       "      <td>0.0</td>\n",
       "      <td>22.7</td>\n",
       "      <td>68.8</td>\n",
       "    </tr>\n",
       "    <tr>\n",
       "      <th>1</th>\n",
       "      <td>1/1/2023</td>\n",
       "      <td>Cordoba</td>\n",
       "      <td>35</td>\n",
       "      <td>18</td>\n",
       "      <td>0.0</td>\n",
       "      <td>33.8</td>\n",
       "      <td>61.7</td>\n",
       "    </tr>\n",
       "    <tr>\n",
       "      <th>2</th>\n",
       "      <td>1/1/2023</td>\n",
       "      <td>Rosario</td>\n",
       "      <td>23</td>\n",
       "      <td>21</td>\n",
       "      <td>0.0</td>\n",
       "      <td>10.6</td>\n",
       "      <td>80.0</td>\n",
       "    </tr>\n",
       "    <tr>\n",
       "      <th>3</th>\n",
       "      <td>1/1/2023</td>\n",
       "      <td>Mendoza</td>\n",
       "      <td>35</td>\n",
       "      <td>21</td>\n",
       "      <td>0.0</td>\n",
       "      <td>23.8</td>\n",
       "      <td>76.8</td>\n",
       "    </tr>\n",
       "    <tr>\n",
       "      <th>4</th>\n",
       "      <td>1/1/2023</td>\n",
       "      <td>Tucuman</td>\n",
       "      <td>36</td>\n",
       "      <td>18</td>\n",
       "      <td>17.2</td>\n",
       "      <td>25.7</td>\n",
       "      <td>54.9</td>\n",
       "    </tr>\n",
       "  </tbody>\n",
       "</table>\n",
       "</div>"
      ],
      "text/plain": [
       "      Fecha        Ciudad  Temperatura Maxima  Temperatura Minima  \\\n",
       "0  1/1/2023  Buenos Aires                  27                  18   \n",
       "1  1/1/2023       Cordoba                  35                  18   \n",
       "2  1/1/2023       Rosario                  23                  21   \n",
       "3  1/1/2023       Mendoza                  35                  21   \n",
       "4  1/1/2023       Tucuman                  36                  18   \n",
       "\n",
       "   Precipitacion  Velocidad del Viento  Humedad Relativa  \n",
       "0            0.0                  22.7              68.8  \n",
       "1            0.0                  33.8              61.7  \n",
       "2            0.0                  10.6              80.0  \n",
       "3            0.0                  23.8              76.8  \n",
       "4           17.2                  25.7              54.9  "
      ]
     },
     "execution_count": 3,
     "metadata": {},
     "output_type": "execute_result"
    }
   ],
   "source": [
    "df = pd.read_csv('/home/anderson-josue/Documents/Data Science/Day 9/Datos+Meteorológicos_Arg_2023.csv')\n",
    "\n",
    "df.info()\n",
    "df.describe()\n",
    "df.head(5)"
   ]
  },
  {
   "cell_type": "markdown",
   "id": "b75b730f",
   "metadata": {},
   "source": [
    "2. Formatear las fechas "
   ]
  },
  {
   "cell_type": "code",
   "execution_count": 19,
   "id": "fb5015fa",
   "metadata": {},
   "outputs": [
    {
     "data": {
      "text/html": [
       "<div>\n",
       "<style scoped>\n",
       "    .dataframe tbody tr th:only-of-type {\n",
       "        vertical-align: middle;\n",
       "    }\n",
       "\n",
       "    .dataframe tbody tr th {\n",
       "        vertical-align: top;\n",
       "    }\n",
       "\n",
       "    .dataframe thead th {\n",
       "        text-align: right;\n",
       "    }\n",
       "</style>\n",
       "<table border=\"1\" class=\"dataframe\">\n",
       "  <thead>\n",
       "    <tr style=\"text-align: right;\">\n",
       "      <th></th>\n",
       "      <th>Fecha</th>\n",
       "      <th>Ciudad</th>\n",
       "      <th>Temperatura Maxima</th>\n",
       "      <th>Temperatura Minima</th>\n",
       "      <th>Precipitacion</th>\n",
       "      <th>Velocidad del Viento</th>\n",
       "      <th>Humedad Relativa</th>\n",
       "      <th>Meses</th>\n",
       "    </tr>\n",
       "  </thead>\n",
       "  <tbody>\n",
       "    <tr>\n",
       "      <th>0</th>\n",
       "      <td>2023-01-01</td>\n",
       "      <td>Buenos Aires</td>\n",
       "      <td>27</td>\n",
       "      <td>18</td>\n",
       "      <td>0.0</td>\n",
       "      <td>22.7</td>\n",
       "      <td>68.8</td>\n",
       "      <td>Enero</td>\n",
       "    </tr>\n",
       "    <tr>\n",
       "      <th>1</th>\n",
       "      <td>2023-01-01</td>\n",
       "      <td>Cordoba</td>\n",
       "      <td>35</td>\n",
       "      <td>18</td>\n",
       "      <td>0.0</td>\n",
       "      <td>33.8</td>\n",
       "      <td>61.7</td>\n",
       "      <td>Enero</td>\n",
       "    </tr>\n",
       "    <tr>\n",
       "      <th>2</th>\n",
       "      <td>2023-01-01</td>\n",
       "      <td>Rosario</td>\n",
       "      <td>23</td>\n",
       "      <td>21</td>\n",
       "      <td>0.0</td>\n",
       "      <td>10.6</td>\n",
       "      <td>80.0</td>\n",
       "      <td>Enero</td>\n",
       "    </tr>\n",
       "    <tr>\n",
       "      <th>3</th>\n",
       "      <td>2023-01-01</td>\n",
       "      <td>Mendoza</td>\n",
       "      <td>35</td>\n",
       "      <td>21</td>\n",
       "      <td>0.0</td>\n",
       "      <td>23.8</td>\n",
       "      <td>76.8</td>\n",
       "      <td>Enero</td>\n",
       "    </tr>\n",
       "    <tr>\n",
       "      <th>4</th>\n",
       "      <td>2023-01-01</td>\n",
       "      <td>Tucuman</td>\n",
       "      <td>36</td>\n",
       "      <td>18</td>\n",
       "      <td>17.2</td>\n",
       "      <td>25.7</td>\n",
       "      <td>54.9</td>\n",
       "      <td>Enero</td>\n",
       "    </tr>\n",
       "  </tbody>\n",
       "</table>\n",
       "</div>"
      ],
      "text/plain": [
       "       Fecha        Ciudad  Temperatura Maxima  Temperatura Minima  \\\n",
       "0 2023-01-01  Buenos Aires                  27                  18   \n",
       "1 2023-01-01       Cordoba                  35                  18   \n",
       "2 2023-01-01       Rosario                  23                  21   \n",
       "3 2023-01-01       Mendoza                  35                  21   \n",
       "4 2023-01-01       Tucuman                  36                  18   \n",
       "\n",
       "   Precipitacion  Velocidad del Viento  Humedad Relativa  Meses  \n",
       "0            0.0                  22.7              68.8  Enero  \n",
       "1            0.0                  33.8              61.7  Enero  \n",
       "2            0.0                  10.6              80.0  Enero  \n",
       "3            0.0                  23.8              76.8  Enero  \n",
       "4           17.2                  25.7              54.9  Enero  "
      ]
     },
     "execution_count": 19,
     "metadata": {},
     "output_type": "execute_result"
    }
   ],
   "source": [
    "df['Fecha'] = pd.to_datetime(df['Fecha'], format='%d/%m/%Y')\n",
    "df['Meses'] = df['Fecha'].dt.month\n",
    "mes = pd.Series(['Enero', 'Febrero', 'Marzo', 'Abril', 'Mayo', 'Junio',\n",
    "                 'Julio', 'Agosto', 'Septiembre', 'Octubre', 'Noviembre', 'Diciembre'])\n",
    "df['Meses'] = df['Meses'].apply(lambda x: mes[x - 1])\n",
    "df.head()"
   ]
  },
  {
   "cell_type": "markdown",
   "id": "ec1693e1",
   "metadata": {},
   "source": [
    "3. Funcion o funciones que pida al usuario una ciduda, mes de la lista de ciudades disponibles"
   ]
  },
  {
   "cell_type": "code",
   "execution_count": 83,
   "id": "bfd21cf1",
   "metadata": {},
   "outputs": [],
   "source": [
    "def mostra_ciudades():\n",
    "    ciudades = df['Ciudad'].unique()\n",
    "    i = 0\n",
    "    print('Ciudades disponibles: ')\n",
    "    print('Eliga el nombre de la ciudad: ')\n",
    "    for ciudad in ciudades:\n",
    "        i += 1\n",
    "        print(f'{i}.- {ciudad}')\n",
    "\n",
    "def elegir_ciudad():\n",
    "    ciudad = input('Ingrese el nombre de la ciudad: ').title()\n",
    "    try:\n",
    "        if ciudad in df['Ciudad'].values:\n",
    "            return ciudad\n",
    "        else:\n",
    "            print('Ciudad no encontrada')\n",
    "    except Exception as e:\n",
    "        print(f'Error: {e}')\n",
    "\n",
    "def mostrar_fecha():\n",
    "    fecha =df['Meses'].unique()\n",
    "    i = 0\n",
    "    print('Fechas Disponibles: ')\n",
    "    print('Eliga la fecha: ')\n",
    "    for f in fecha:\n",
    "        i+=1\n",
    "        print(f'{i}.- {f}')\n",
    "\n",
    "def elegir_fecha():\n",
    "    fecha = input('Ingrese el nombre del mes\" ').title()\n",
    "    try:\n",
    "        if fecha in df['Meses'].values:\n",
    "            return fecha\n",
    "        else:\n",
    "            print('Fecha no encontrada')\n",
    "    except Exception as e:\n",
    "        print(f'Error: {e}')"
   ]
  },
  {
   "cell_type": "code",
   "execution_count": null,
   "id": "20eeb208",
   "metadata": {},
   "outputs": [],
   "source": [
    "def ciudad_fecha_dataframe(ciudad, fecha):\n",
    "    df_ciudad = df[df['Ciudad'] == ciudad]\n",
    "    df_mes = df_ciudad[df_ciudad['Meses'] == fecha]\n",
    "    return df_mes\n"
   ]
  },
  {
   "cell_type": "code",
   "execution_count": 46,
   "id": "e013ed3f",
   "metadata": {},
   "outputs": [
    {
     "data": {
      "text/html": [
       "<div>\n",
       "<style scoped>\n",
       "    .dataframe tbody tr th:only-of-type {\n",
       "        vertical-align: middle;\n",
       "    }\n",
       "\n",
       "    .dataframe tbody tr th {\n",
       "        vertical-align: top;\n",
       "    }\n",
       "\n",
       "    .dataframe thead th {\n",
       "        text-align: right;\n",
       "    }\n",
       "</style>\n",
       "<table border=\"1\" class=\"dataframe\">\n",
       "  <thead>\n",
       "    <tr style=\"text-align: right;\">\n",
       "      <th></th>\n",
       "      <th>Fecha</th>\n",
       "      <th>Ciudad</th>\n",
       "      <th>Temperatura Maxima</th>\n",
       "      <th>Temperatura Minima</th>\n",
       "      <th>Precipitacion</th>\n",
       "      <th>Velocidad del Viento</th>\n",
       "      <th>Humedad Relativa</th>\n",
       "      <th>Meses</th>\n",
       "    </tr>\n",
       "  </thead>\n",
       "  <tbody>\n",
       "    <tr>\n",
       "      <th>3</th>\n",
       "      <td>2023-01-01</td>\n",
       "      <td>Mendoza</td>\n",
       "      <td>35</td>\n",
       "      <td>21</td>\n",
       "      <td>0.0</td>\n",
       "      <td>23.8</td>\n",
       "      <td>76.8</td>\n",
       "      <td>Enero</td>\n",
       "    </tr>\n",
       "    <tr>\n",
       "      <th>8</th>\n",
       "      <td>2023-01-02</td>\n",
       "      <td>Mendoza</td>\n",
       "      <td>34</td>\n",
       "      <td>19</td>\n",
       "      <td>0.0</td>\n",
       "      <td>39.7</td>\n",
       "      <td>36.1</td>\n",
       "      <td>Enero</td>\n",
       "    </tr>\n",
       "    <tr>\n",
       "      <th>13</th>\n",
       "      <td>2023-01-03</td>\n",
       "      <td>Mendoza</td>\n",
       "      <td>29</td>\n",
       "      <td>19</td>\n",
       "      <td>0.0</td>\n",
       "      <td>11.9</td>\n",
       "      <td>71.5</td>\n",
       "      <td>Enero</td>\n",
       "    </tr>\n",
       "    <tr>\n",
       "      <th>18</th>\n",
       "      <td>2023-01-04</td>\n",
       "      <td>Mendoza</td>\n",
       "      <td>33</td>\n",
       "      <td>15</td>\n",
       "      <td>53.7</td>\n",
       "      <td>31.0</td>\n",
       "      <td>47.8</td>\n",
       "      <td>Enero</td>\n",
       "    </tr>\n",
       "    <tr>\n",
       "      <th>23</th>\n",
       "      <td>2023-01-05</td>\n",
       "      <td>Mendoza</td>\n",
       "      <td>21</td>\n",
       "      <td>17</td>\n",
       "      <td>0.0</td>\n",
       "      <td>23.1</td>\n",
       "      <td>83.5</td>\n",
       "      <td>Enero</td>\n",
       "    </tr>\n",
       "  </tbody>\n",
       "</table>\n",
       "</div>"
      ],
      "text/plain": [
       "        Fecha   Ciudad  Temperatura Maxima  Temperatura Minima  Precipitacion  \\\n",
       "3  2023-01-01  Mendoza                  35                  21            0.0   \n",
       "8  2023-01-02  Mendoza                  34                  19            0.0   \n",
       "13 2023-01-03  Mendoza                  29                  19            0.0   \n",
       "18 2023-01-04  Mendoza                  33                  15           53.7   \n",
       "23 2023-01-05  Mendoza                  21                  17            0.0   \n",
       "\n",
       "    Velocidad del Viento  Humedad Relativa  Meses  \n",
       "3                   23.8              76.8  Enero  \n",
       "8                   39.7              36.1  Enero  \n",
       "13                  11.9              71.5  Enero  \n",
       "18                  31.0              47.8  Enero  \n",
       "23                  23.1              83.5  Enero  "
      ]
     },
     "execution_count": 46,
     "metadata": {},
     "output_type": "execute_result"
    }
   ],
   "source": [
    "temperatura = ciudad_fecha_dataframe(elegir_ciudad(), elegir_fecha())\n",
    "temperatura.head()"
   ]
  },
  {
   "cell_type": "markdown",
   "id": "5d2ee1fe",
   "metadata": {},
   "source": [
    "4. Muestra en un grafico, Tempreatura minimas y maximas que se registraron en la ciudad elegida y el mes elegido"
   ]
  },
  {
   "cell_type": "code",
   "execution_count": 88,
   "id": "d9833a20",
   "metadata": {},
   "outputs": [],
   "source": [
    "def plot_temperature(df):\n",
    "    plt.fill_between(df['Fecha'], df['Temperatura Maxima'], color='red', alpha=0.5)\n",
    "    plt.fill_between(df['Fecha'], df['Temperatura Minima'], color='blue', alpha=0.9)\n",
    "    plt.xticks(rotation=90)\n",
    "    plt.title(df['Ciudad'].values[0])\n",
    "    plt.xlabel('Fecha')\n",
    "    plt.ylabel('Temperatura')"
   ]
  },
  {
   "cell_type": "markdown",
   "id": "04840435",
   "metadata": {},
   "source": [
    "5. Dese seguir consultado "
   ]
  },
  {
   "cell_type": "code",
   "execution_count": 89,
   "id": "891544a7",
   "metadata": {},
   "outputs": [],
   "source": [
    "def main():\n",
    "    mostra_ciudades()\n",
    "    mostrar_fecha()\n",
    "    while True:    \n",
    "        ciudad = elegir_ciudad()\n",
    "        fecha = elegir_fecha()\n",
    "        plot_temperature(ciudad_fecha_dataframe(ciudad, fecha))\n",
    "        plt.show()\n",
    "\n",
    "        consulta = input('Desea seguir con el programa? (S/N): ')\n",
    "        if consulta.lower() != 's':\n",
    "            break"
   ]
  },
  {
   "cell_type": "code",
   "execution_count": 91,
   "id": "c1f53cee",
   "metadata": {},
   "outputs": [
    {
     "name": "stdout",
     "output_type": "stream",
     "text": [
      "Ciudades disponibles: \n",
      "Eliga el nombre de la ciudad: \n",
      "1.- Buenos Aires\n",
      "2.- Cordoba\n",
      "3.- Rosario\n",
      "4.- Mendoza\n",
      "5.- Tucuman\n",
      "Fechas Disponibles: \n",
      "Eliga la fecha: \n",
      "1.- Enero\n",
      "2.- Febrero\n",
      "3.- Marzo\n",
      "4.- Abril\n",
      "5.- Mayo\n",
      "6.- Junio\n",
      "7.- Julio\n",
      "8.- Agosto\n",
      "9.- Septiembre\n",
      "10.- Octubre\n",
      "11.- Noviembre\n",
      "12.- Diciembre\n"
     ]
    },
    {
     "data": {
      "image/png": "[encoded data removed]",
      "text/plain": [
       "<Figure size 640x480 with 1 Axes>"
      ]
     },
     "metadata": {},
     "output_type": "display_data"
    },
    {
     "data": {
      "image/png": "[encoded data removed]",
      "text/plain": [
       "<Figure size 640x480 with 1 Axes>"
      ]
     },
     "metadata": {},
     "output_type": "display_data"
    }
   ],
   "source": [
    "main()"
   ]
  },
  {
   "cell_type": "code",
   "execution_count": null,
   "id": "e6c6ecf4",
   "metadata": {},
   "outputs": [],
   "source": []
  }
 ],
 "metadata": {
  "kernelspec": {
   "display_name": "base",
   "language": "python",
   "name": "python3"
  },
  "language_info": {
   "codemirror_mode": {
    "name": "ipython",
    "version": 3
   },
   "file_extension": ".py",
   "mimetype": "text/x-python",
   "name": "python",
   "nbconvert_exporter": "python",
   "pygments_lexer": "ipython3",
   "version": "3.12.7"
  }
 },
 "nbformat": 4,
 "nbformat_minor": 5
}
