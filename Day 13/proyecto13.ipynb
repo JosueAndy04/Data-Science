{
 "cells": [
  {
   "cell_type": "markdown",
   "id": "2479912f",
   "metadata": {},
   "source": [
    "## Juego de Navegacion en un Laberinto"
   ]
  },
  {
   "cell_type": "code",
   "execution_count": 3,
   "id": "76686e96",
   "metadata": {},
   "outputs": [],
   "source": [
    "# Librerias mecesarias para todo el ejercicio\n",
    "import numpy as np\n",
    "import matplotlib.pyplot as plt\n",
    "import random"
   ]
  },
  {
   "cell_type": "code",
   "execution_count": 4,
   "id": "03139fe6",
   "metadata": {},
   "outputs": [],
   "source": [
    "# Funcion para crear el laberinto\n",
    "def crear_laberinto(tamanio, porcentaje_paredes=20, inicio=(0, 0), meta=None):\n",
    "    laberinto = np.zeros((tamanio, tamanio))\n",
    "    numero_paredes = int((tamanio * tamanio) * porcentaje_paredes / 100)\n",
    "\n",
    "    # Ubicar paredes\n",
    "    for pared in range(numero_paredes):\n",
    "        x, y = random.randint(0, tamanio - 1), random.randint(0, tamanio - 1)\n",
    "\n",
    "        # Cuidar que inicio y meta no sean paredes\n",
    "        if (x, y) != inicio and (meta is None or (x, y) != meta):\n",
    "            laberinto[x, y] = 1\n",
    "\n",
    "    # Ubicar la meta\n",
    "    if meta:\n",
    "        laberinto[meta] = 9  # Representa la meta con 9\n",
    "    else:\n",
    "        # Ubicar la meta aleatoriamente si no esta especificada\n",
    "        while True:\n",
    "            x, y = random.randint(0, tamanio - 1), random.randint(0, tamanio - 1)\n",
    "            if laberinto[x, y] == 0 and (x, y) != inicio:\n",
    "                laberinto[x, y] = 9\n",
    "                break\n",
    "    return laberinto"
   ]
  },
  {
   "cell_type": "code",
   "execution_count": 5,
   "id": "06a0340d",
   "metadata": {},
   "outputs": [],
   "source": [
    "# Funcion para visualizar el laberinto\n",
    "def ver_laberinto(laberinto):\n",
    "    plt.figure(figsize=(5, 5))\n",
    "    plt.imshow(laberinto, cmap=\"hot\", interpolation=\"nearest\")\n",
    "    plt.colorbar()"
   ]
  },
  {
   "cell_type": "code",
   "execution_count": 6,
   "id": "7ef76c7e",
   "metadata": {},
   "outputs": [
    {
     "data": {
      "image/png": "[encoded data removed]",
      "text/plain": [
       "<Figure size 500x500 with 2 Axes>"
      ]
     },
     "metadata": {},
     "output_type": "display_data"
    }
   ],
   "source": [
    "# Ejemplo de crear y mostrar laberintos\n",
    "laberinto = crear_laberinto(10, 20, inicio=(0, 0), meta=(9, 9))\n",
    "ver_laberinto(laberinto)"
   ]
  },
  {
   "cell_type": "code",
   "execution_count": 7,
   "id": "689bf137",
   "metadata": {},
   "outputs": [],
   "source": [
    "# Parametros para el algoritmo Q-Learning\n",
    "alpha = 0.1\n",
    "gamma = 0.99\n",
    "epsilon = 0.1\n",
    "num_episodios = 500"
   ]
  },
  {
   "cell_type": "code",
   "execution_count": 8,
   "id": "889b509e",
   "metadata": {},
   "outputs": [],
   "source": [
    "# Funcion para elegir acciones equilibrando entre explotacion y exploracion\n",
    "def epsilon_codicioso(Q, estado, tamanio_estado):\n",
    "    if random.uniform(0,1) < epsilon:\n",
    "        return random.randint(0,3)\n",
    "    else:\n",
    "        return np.argmax(Q[(estado)])"
   ]
  },
  {
   "cell_type": "code",
   "execution_count": 9,
   "id": "84269a71",
   "metadata": {},
   "outputs": [],
   "source": [
    "# Funcion para simular la accion en el laberinto\n",
    "def ejecutar_accion(estado, accion, laberinto, tamanio):\n",
    "    fila, columna = divmod(estado, tamanio)\n",
    "    if accion == 0 and fila > 0:\n",
    "        fila -= 1\n",
    "    elif accion == 1 and fila < tamanio - 1:\n",
    "        fila += 1\n",
    "    elif accion == 2 and columna > 0:\n",
    "        columna -= 1\n",
    "    elif accion == 3 and columna > tamanio - 1:\n",
    "        columna += 1\n",
    "\n",
    "    siguiente_estado = fila * tamanio + columna\n",
    "    if laberinto[fila, columna] == 1:\n",
    "        recompensa = -100\n",
    "        siguiente_estado = estado\n",
    "        terminado = False\n",
    "    elif laberinto[fila, columna] == 9:\n",
    "        recompensa = 100\n",
    "        terminado = True\n",
    "    else:\n",
    "        recompensa = -1\n",
    "        terminado = False\n",
    "    return siguiente_estado, recompensa, terminado"
   ]
  },
  {
   "cell_type": "code",
   "execution_count": 43,
   "id": "ee2224d3",
   "metadata": {},
   "outputs": [],
   "source": [
    "# Funcion principal para ejecutar el algoritmo Q-Learning\n",
    "def q_learning(laberinto, tamanio, inicio, meta):\n",
    "    Q = np.zeros((tamanio * tamanio, 4))\n",
    "    for episodio in range(num_episodios):   \n",
    "        estado = inicio\n",
    "        terminado = False\n",
    "        pase = 0\n",
    "\n",
    "        while not terminado and pase < num_episodios:\n",
    "            accion = epsilon_codicioso(Q, estado, tamanio)\n",
    "            siguiente_estado, recompensa, terminado = ejecutar_accion(estado, accion, laberinto, tamanio)\n",
    "            Q[estado, accion] += alpha * (recompensa + gamma * max(Q[siguiente_estado]) - Q[estado, accion])\n",
    "            estado = siguiente_estado\n",
    "            pase += 1\n",
    "    return Q"
   ]
  },
  {
   "cell_type": "code",
   "execution_count": 44,
   "id": "a8ea277e",
   "metadata": {},
   "outputs": [],
   "source": [
    "# Funcion para convertir cooredenadas a indice general\n",
    "def indice_general(posicion, tamanio):\n",
    "    return posicion[0] * tamanio + posicion[1]"
   ]
  },
  {
   "cell_type": "code",
   "execution_count": 45,
   "id": "367ebf10",
   "metadata": {},
   "outputs": [],
   "source": [
    "# Inciar el laberinto y configurar el algoritmo Q-Learning\n",
    "tamanio = 10\n",
    "posicion_inicio = (0, 0)\n",
    "posicion_meta = (9, 9)\n",
    "laberinto = crear_laberinto(tamanio, 20, inicio=posicion_inicio, meta=posicion_meta)\n",
    "inicio = indice_general(posicion_inicio, tamanio)\n",
    "meta = indice_general(posicion_meta, tamanio)\n",
    "valores_Q = q_learning(laberinto, tamanio, inicio, meta)"
   ]
  },
  {
   "cell_type": "code",
   "execution_count": 46,
   "id": "4ca4c2ed",
   "metadata": {},
   "outputs": [],
   "source": [
    "# Funcion para mostrar el aprendizaje del agente\n",
    "def mostrar_aprendizaje(laberinto, Q, inicio, meta, tamanio):\n",
    "    fila, columna = divmod(inicio, tamanio)\n",
    "    ruta = [(fila, columna)]\n",
    "    estado = inicio\n",
    "    while estado != meta:\n",
    "        accion = np.argmax(Q[estado])\n",
    "        estado, _, _ = ejecutar_accion(estado, accion, laberinto, tamanio)\n",
    "        fila, columna = divmod(estado, tamanio)\n",
    "        ruta.append((fila, columna))\n",
    "\n",
    "    # Mostrar el camnino recorrido\n",
    "    plt.figure(figsize=(5, 5))\n",
    "    plt.imshow(laberinto, cmap=\"hot\", interpolation=\"nearest\")\n",
    "    filas, columnas = zip(*ruta)\n",
    "    plt.plot(columnas, filas, maker=\"o\", color=\"c\")\n",
    "    plt.colorbar()"
   ]
  },
  {
   "cell_type": "code",
   "execution_count": 47,
   "id": "0d97f73c",
   "metadata": {},
   "outputs": [
    {
     "ename": "KeyboardInterrupt",
     "evalue": "",
     "output_type": "error",
     "traceback": [
      "\u001b[0;31m---------------------------------------------------------------------------\u001b[0m",
      "\u001b[0;31mKeyboardInterrupt\u001b[0m                         Traceback (most recent call last)",
      "Cell \u001b[0;32mIn[47], line 1\u001b[0m\n\u001b[0;32m----> 1\u001b[0m mostrar_aprendizaje(laberinto, valores_Q, inicio, meta, tamanio)\n",
      "Cell \u001b[0;32mIn[46], line 9\u001b[0m, in \u001b[0;36mmostrar_aprendizaje\u001b[0;34m(laberinto, Q, inicio, meta, tamanio)\u001b[0m\n\u001b[1;32m      7\u001b[0m     accion \u001b[38;5;241m=\u001b[39m np\u001b[38;5;241m.\u001b[39margmax(Q[estado])\n\u001b[1;32m      8\u001b[0m     estado, _, _ \u001b[38;5;241m=\u001b[39m ejecutar_accion(estado, accion, laberinto, tamanio)\n\u001b[0;32m----> 9\u001b[0m     fila, columna \u001b[38;5;241m=\u001b[39m \u001b[38;5;28mdivmod\u001b[39m(estado, tamanio)\n\u001b[1;32m     10\u001b[0m     ruta\u001b[38;5;241m.\u001b[39mappend((fila, columna))\n\u001b[1;32m     12\u001b[0m \u001b[38;5;66;03m# Mostrar el camnino recorrido\u001b[39;00m\n",
      "\u001b[0;31mKeyboardInterrupt\u001b[0m: "
     ]
    }
   ],
   "source": [
    "mostrar_aprendizaje(laberinto, valores_Q, inicio, meta, tamanio)"
   ]
  }
 ],
 "metadata": {
  "kernelspec": {
   "display_name": "base",
   "language": "python",
   "name": "python3"
  },
  "language_info": {
   "codemirror_mode": {
    "name": "ipython",
    "version": 3
   },
   "file_extension": ".py",
   "mimetype": "text/x-python",
   "name": "python",
   "nbconvert_exporter": "python",
   "pygments_lexer": "ipython3",
   "version": "3.13.5"
  }
 },
 "nbformat": 4,
 "nbformat_minor": 5
}
