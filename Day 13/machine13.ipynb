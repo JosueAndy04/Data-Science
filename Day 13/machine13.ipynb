{
 "cells": [
  {
   "cell_type": "markdown",
   "id": "9e05d7dd",
   "metadata": {},
   "source": [
    "## Aprendizaje por reforzamiento"
   ]
  },
  {
   "cell_type": "markdown",
   "id": "7f0beade",
   "metadata": {},
   "source": [
    "Q-learning"
   ]
  },
  {
   "cell_type": "code",
   "execution_count": 3,
   "id": "0b7e5758",
   "metadata": {},
   "outputs": [],
   "source": [
    "import numpy as np\n",
    "import random"
   ]
  },
  {
   "cell_type": "code",
   "execution_count": 91,
   "id": "f9870e10",
   "metadata": {},
   "outputs": [],
   "source": [
    "dimensiones = (5, 5)\n",
    "estado_inicial = (0, 0)\n",
    "estado_objetivo = (4, 4)\n",
    "obstaculos = [(1, 1), (2, 3), (3, 0)]\n",
    "acciones = [(-1, 0), (1, 0), (0, -1), (0, 1)]"
   ]
  },
  {
   "cell_type": "code",
   "execution_count": 92,
   "id": "843cedc7",
   "metadata": {},
   "outputs": [
    {
     "data": {
      "text/plain": [
       "25"
      ]
     },
     "execution_count": 92,
     "metadata": {},
     "output_type": "execute_result"
    }
   ],
   "source": [
    "num_estados = dimensiones[0] * dimensiones[1]\n",
    "num_estados"
   ]
  },
  {
   "cell_type": "code",
   "execution_count": 93,
   "id": "1546b0ac",
   "metadata": {},
   "outputs": [
    {
     "data": {
      "text/plain": [
       "4"
      ]
     },
     "execution_count": 93,
     "metadata": {},
     "output_type": "execute_result"
    }
   ],
   "source": [
    "num_acciones = len(acciones)\n",
    "num_acciones"
   ]
  },
  {
   "cell_type": "code",
   "execution_count": 94,
   "id": "4db19743",
   "metadata": {},
   "outputs": [
    {
     "data": {
      "text/plain": [
       "array([[0., 0., 0., 0.],\n",
       "       [0., 0., 0., 0.],\n",
       "       [0., 0., 0., 0.],\n",
       "       [0., 0., 0., 0.],\n",
       "       [0., 0., 0., 0.],\n",
       "       [0., 0., 0., 0.],\n",
       "       [0., 0., 0., 0.],\n",
       "       [0., 0., 0., 0.],\n",
       "       [0., 0., 0., 0.],\n",
       "       [0., 0., 0., 0.],\n",
       "       [0., 0., 0., 0.],\n",
       "       [0., 0., 0., 0.],\n",
       "       [0., 0., 0., 0.],\n",
       "       [0., 0., 0., 0.],\n",
       "       [0., 0., 0., 0.],\n",
       "       [0., 0., 0., 0.],\n",
       "       [0., 0., 0., 0.],\n",
       "       [0., 0., 0., 0.],\n",
       "       [0., 0., 0., 0.],\n",
       "       [0., 0., 0., 0.],\n",
       "       [0., 0., 0., 0.],\n",
       "       [0., 0., 0., 0.],\n",
       "       [0., 0., 0., 0.],\n",
       "       [0., 0., 0., 0.],\n",
       "       [0., 0., 0., 0.]])"
      ]
     },
     "execution_count": 94,
     "metadata": {},
     "output_type": "execute_result"
    }
   ],
   "source": [
    "Q = np.zeros((num_estados, num_acciones))\n",
    "Q"
   ]
  },
  {
   "cell_type": "code",
   "execution_count": 95,
   "id": "34bd69e4",
   "metadata": {},
   "outputs": [],
   "source": [
    "def estado_a_indice(estado):\n",
    "    return estado[0] * dimensiones[1] + estado[1]"
   ]
  },
  {
   "cell_type": "code",
   "execution_count": 96,
   "id": "cd8280f5",
   "metadata": {},
   "outputs": [],
   "source": [
    "ejemplo = estado_a_indice((4, 4))"
   ]
  },
  {
   "cell_type": "code",
   "execution_count": 97,
   "id": "574ac835",
   "metadata": {},
   "outputs": [
    {
     "data": {
      "text/plain": [
       "24"
      ]
     },
     "execution_count": 97,
     "metadata": {},
     "output_type": "execute_result"
    }
   ],
   "source": [
    "ejemplo"
   ]
  },
  {
   "cell_type": "code",
   "execution_count": 98,
   "id": "25016a98",
   "metadata": {},
   "outputs": [],
   "source": [
    "alpha = 0.1 # Tasa de aprendizaje\n",
    "gamma = 0.99 #Factor de descuento\n",
    "epsilon = 0.2 # Tasa de exploracion\n",
    "episodios = 100 "
   ]
  },
  {
   "cell_type": "code",
   "execution_count": 99,
   "id": "92ffd23b",
   "metadata": {},
   "outputs": [],
   "source": [
    "def indice_a_estado(indice):\n",
    "    return (indice // dimensiones[1], indice % dimensiones[1])"
   ]
  },
  {
   "cell_type": "code",
   "execution_count": 100,
   "id": "b34eadd5",
   "metadata": {},
   "outputs": [
    {
     "data": {
      "text/plain": [
       "(0, 4)"
      ]
     },
     "execution_count": 100,
     "metadata": {},
     "output_type": "execute_result"
    }
   ],
   "source": [
    "indice_a_estado(4)"
   ]
  },
  {
   "cell_type": "code",
   "execution_count": 106,
   "id": "cd835e99",
   "metadata": {},
   "outputs": [],
   "source": [
    "def elegir_accion(estado):\n",
    "    if random.uniform(0,1) < epsilon:\n",
    "        return random.choice(range(num_acciones))\n",
    "    else:\n",
    "        # indice_estado = estado_a_indice(estado) --- IGNORE ---\n",
    "        return np.argmax(Q[estado_a_indice(estado)])"
   ]
  },
  {
   "cell_type": "code",
   "execution_count": 102,
   "id": "8a67e916",
   "metadata": {},
   "outputs": [],
   "source": [
    "def aplicar_accion(estado, accion_idx):\n",
    "    accion = acciones[accion_idx]\n",
    "    nuevo_estado = tuple(np.add(estado, accion) % dimensiones)\n",
    "\n",
    "    if nuevo_estado in obstaculos or nuevo_estado == estado:\n",
    "        return estado, -100, False\n",
    "    if nuevo_estado == estado_objetivo:\n",
    "        return nuevo_estado, 100, True\n",
    "    return nuevo_estado, -1, False"
   ]
  },
  {
   "cell_type": "code",
   "execution_count": 103,
   "id": "d436087a",
   "metadata": {},
   "outputs": [],
   "source": [
    "for episodio in range(episodios):\n",
    "    estado = estado_inicial\n",
    "    terminado = False\n",
    "\n",
    "    while not terminado:\n",
    "        idx_estado = estado_a_indice(estado)\n",
    "        accion_idx = elegir_accion(estado)\n",
    "        nuevo_estado, recompensa, terminado = aplicar_accion(estado, accion_idx)\n",
    "        idx_nuevo_estado = estado_a_indice(nuevo_estado)\n",
    "\n",
    "        Q[idx_estado, accion_idx] = Q[idx_estado, accion_idx] + alpha * (recompensa + gamma * np.max(Q[idx_nuevo_estado]) - Q[idx_estado, accion_idx])\n",
    "\n",
    "        estado = nuevo_estado"
   ]
  },
  {
   "cell_type": "code",
   "execution_count": 104,
   "id": "7d2146f7",
   "metadata": {},
   "outputs": [
    {
     "data": {
      "text/plain": [
       "array([[0, 0, 0, 0, 0],\n",
       "       [0, 0, 0, 0, 0],\n",
       "       [0, 0, 0, 0, 0],\n",
       "       [0, 0, 0, 0, 0],\n",
       "       [0, 0, 0, 0, 0]])"
      ]
     },
     "execution_count": 104,
     "metadata": {},
     "output_type": "execute_result"
    }
   ],
   "source": [
    "politica = np.zeros(dimensiones, dtype=int)\n",
    "politica"
   ]
  },
  {
   "cell_type": "code",
   "execution_count": 105,
   "id": "bb540348",
   "metadata": {},
   "outputs": [
    {
     "name": "stdout",
     "output_type": "stream",
     "text": [
      "Politica aprendida: (0: Arriba, 1: Abajo, 2: Izquierda, 3:Derecha)\n",
      "[[2 2 1 3 0]\n",
      " [0 0 1 1 0]\n",
      " [0 1 0 0 2]\n",
      " [0 3 2 2 1]\n",
      " [2 2 2 3 0]]\n"
     ]
    }
   ],
   "source": [
    "for i in range(dimensiones[0]):\n",
    "    for j in range(dimensiones[1]):\n",
    "        estado = (i, j)\n",
    "        idx_estado = estado_a_indice(estado)\n",
    "        mejor_accion = np.argmax(Q[idx_estado])\n",
    "        politica[i, j] = mejor_accion\n",
    "\n",
    "print('Politica aprendida: (0: Arriba, 1: Abajo, 2: Izquierda, 3:Derecha)')\n",
    "print(politica)"
   ]
  },
  {
   "cell_type": "markdown",
   "id": "d06f40fe",
   "metadata": {},
   "source": [
    "## SARSA"
   ]
  },
  {
   "cell_type": "code",
   "execution_count": 2,
   "id": "b18211f6",
   "metadata": {},
   "outputs": [],
   "source": [
    "import numpy as np \n",
    "import matplotlib.pyplot as plt"
   ]
  },
  {
   "cell_type": "code",
   "execution_count": 109,
   "id": "75223add",
   "metadata": {},
   "outputs": [],
   "source": [
    "dimensiones = (4, 4)\n",
    "estado_inicial = (0, 0)\n",
    "estado_objetivo = (3, 3)\n",
    "acciones = [(0, -1), (0, 1), (-1, 0), (1, 0)]\n",
    "acciones_simbolos = [\"Arriba\", \"Abajo\", \"Izquierda\", \"Derecha\"]"
   ]
  },
  {
   "cell_type": "code",
   "execution_count": 110,
   "id": "6cc6ae39",
   "metadata": {},
   "outputs": [],
   "source": [
    "num_estados = dimensiones[0] * dimensiones[1]\n",
    "num_acciones = len(acciones)"
   ]
  },
  {
   "cell_type": "code",
   "execution_count": 111,
   "id": "6a464bfb",
   "metadata": {},
   "outputs": [],
   "source": [
    "Q = np.zeros((num_estados, num_acciones))"
   ]
  },
  {
   "cell_type": "code",
   "execution_count": null,
   "id": "4b5c044e",
   "metadata": {},
   "outputs": [],
   "source": [
    "alpha = 0.1\n",
    "gamma = 0.99\n",
    "epsilon = 0.2\n",
    "episodios = 1000"
   ]
  },
  {
   "cell_type": "code",
   "execution_count": null,
   "id": "abadda76",
   "metadata": {},
   "outputs": [],
   "source": [
    "def estado_a_indice(estado):\n",
    "    return estado[0] * dimensiones[1] + estado[1]"
   ]
  },
  {
   "cell_type": "code",
   "execution_count": 115,
   "id": "a33d0e7c",
   "metadata": {},
   "outputs": [],
   "source": [
    "def elegir_accion(estado):\n",
    "    if random.uniform(0, 1) < epsilon:\n",
    "        return random.randint(0, num_acciones - 1)\n",
    "    else:\n",
    "        return np.argmax(Q[estado_a_indice(estado)])"
   ]
  },
  {
   "cell_type": "code",
   "execution_count": 116,
   "id": "cdd1b2e5",
   "metadata": {},
   "outputs": [],
   "source": [
    "def aplicar_accion(estado, accion_idx):\n",
    "    accion = acciones[accion_idx]\n",
    "    nuevo_estado = tuple(np.add(estado, accion) % np.array(dimensiones))\n",
    "\n",
    "\n",
    "    if nuevo_estado == estado_objetivo:\n",
    "        recompensa = 1\n",
    "    else:\n",
    "        recompensa = -1\n",
    "\n",
    "    return nuevo_estado, recompensa, nuevo_estado == estado_objetivo"
   ]
  },
  {
   "cell_type": "code",
   "execution_count": 118,
   "id": "bedf3dd9",
   "metadata": {},
   "outputs": [],
   "source": [
    "for episodio in range(episodios):\n",
    "    estado = estado_inicial\n",
    "    accion_idx = elegir_accion(estado)\n",
    "    terminado = False\n",
    "\n",
    "    while not terminado:\n",
    "        nuevo_estado, recompensa, terminado = aplicar_accion(estado, accion_idx)\n",
    "        num_acciones_idx = elegir_accion(nuevo_estado)\n",
    "\n",
    "        indice = estado_a_indice(estado)\n",
    "        Q[indice, accion_idx] += alpha * (\n",
    "            recompensa\n",
    "            + gamma * Q[estado_a_indice(nuevo_estado), num_acciones_idx]\n",
    "            - Q[indice, accion_idx]\n",
    "        )\n",
    "        estado, accion_idx = nuevo_estado, num_acciones_idx"
   ]
  },
  {
   "cell_type": "code",
   "execution_count": 119,
   "id": "184c5964",
   "metadata": {},
   "outputs": [
    {
     "data": {
      "text/plain": [
       "array([['', '', '', ''],\n",
       "       ['', '', '', ''],\n",
       "       ['', '', '', ''],\n",
       "       ['', '', '', '']], dtype='<U2')"
      ]
     },
     "execution_count": 119,
     "metadata": {},
     "output_type": "execute_result"
    }
   ],
   "source": [
    "politica_simbolos = np.empty(dimensiones, dtype='<U2')\n",
    "politica_simbolos"
   ]
  },
  {
   "cell_type": "code",
   "execution_count": 120,
   "id": "3a50b2ae",
   "metadata": {},
   "outputs": [],
   "source": [
    "for i in range(dimensiones[0]):\n",
    "    for j in range(dimensiones[1]):\n",
    "        estado = (i, j)\n",
    "        mejor_accion = np.argmax(Q[estado_a_indice(estado)])\n",
    "        politica_simbolos[i, j] = acciones_simbolos[mejor_accion]"
   ]
  },
  {
   "cell_type": "code",
   "execution_count": 121,
   "id": "6c7361ae",
   "metadata": {},
   "outputs": [
    {
     "data": {
      "text/plain": [
       "array([['Iz', 'Ab', 'Ar', 'Iz'],\n",
       "       ['Ar', 'De', 'De', 'De'],\n",
       "       ['Iz', 'De', 'De', 'De'],\n",
       "       ['Ar', 'Ar', 'Ab', 'Ar']], dtype='<U2')"
      ]
     },
     "execution_count": 121,
     "metadata": {},
     "output_type": "execute_result"
    }
   ],
   "source": [
    "politica_simbolos"
   ]
  },
  {
   "cell_type": "markdown",
   "id": "6ca6928a",
   "metadata": {},
   "source": [
    "## Redes Q Profundas"
   ]
  },
  {
   "cell_type": "code",
   "execution_count": 1,
   "id": "028e9c2f",
   "metadata": {},
   "outputs": [
    {
     "name": "stderr",
     "output_type": "stream",
     "text": [
      "2025-09-16 19:57:32.405016: I external/local_xla/xla/tsl/cuda/cudart_stub.cc:31] Could not find cuda drivers on your machine, GPU will not be used.\n",
      "2025-09-16 19:57:33.078113: I tensorflow/core/platform/cpu_feature_guard.cc:210] This TensorFlow binary is optimized to use available CPU instructions in performance-critical operations.\n",
      "To enable the following instructions: AVX2 FMA, in other operations, rebuild TensorFlow with the appropriate compiler flags.\n",
      "2025-09-16 19:57:35.224697: I external/local_xla/xla/tsl/cuda/cudart_stub.cc:31] Could not find cuda drivers on your machine, GPU will not be used.\n"
     ]
    }
   ],
   "source": [
    "from keras.datasets import mnist\n",
    "from keras.models import Sequential\n",
    "from keras.layers import Dense, Flatten\n",
    "from keras.utils import to_categorical\n"
   ]
  },
  {
   "cell_type": "code",
   "execution_count": 4,
   "id": "66946c56",
   "metadata": {},
   "outputs": [
    {
     "data": {
      "text/plain": [
       "((array([[[0, 0, 0, ..., 0, 0, 0],\n",
       "          [0, 0, 0, ..., 0, 0, 0],\n",
       "          [0, 0, 0, ..., 0, 0, 0],\n",
       "          ...,\n",
       "          [0, 0, 0, ..., 0, 0, 0],\n",
       "          [0, 0, 0, ..., 0, 0, 0],\n",
       "          [0, 0, 0, ..., 0, 0, 0]],\n",
       "  \n",
       "         [[0, 0, 0, ..., 0, 0, 0],\n",
       "          [0, 0, 0, ..., 0, 0, 0],\n",
       "          [0, 0, 0, ..., 0, 0, 0],\n",
       "          ...,\n",
       "          [0, 0, 0, ..., 0, 0, 0],\n",
       "          [0, 0, 0, ..., 0, 0, 0],\n",
       "          [0, 0, 0, ..., 0, 0, 0]],\n",
       "  \n",
       "         [[0, 0, 0, ..., 0, 0, 0],\n",
       "          [0, 0, 0, ..., 0, 0, 0],\n",
       "          [0, 0, 0, ..., 0, 0, 0],\n",
       "          ...,\n",
       "          [0, 0, 0, ..., 0, 0, 0],\n",
       "          [0, 0, 0, ..., 0, 0, 0],\n",
       "          [0, 0, 0, ..., 0, 0, 0]],\n",
       "  \n",
       "         ...,\n",
       "  \n",
       "         [[0, 0, 0, ..., 0, 0, 0],\n",
       "          [0, 0, 0, ..., 0, 0, 0],\n",
       "          [0, 0, 0, ..., 0, 0, 0],\n",
       "          ...,\n",
       "          [0, 0, 0, ..., 0, 0, 0],\n",
       "          [0, 0, 0, ..., 0, 0, 0],\n",
       "          [0, 0, 0, ..., 0, 0, 0]],\n",
       "  \n",
       "         [[0, 0, 0, ..., 0, 0, 0],\n",
       "          [0, 0, 0, ..., 0, 0, 0],\n",
       "          [0, 0, 0, ..., 0, 0, 0],\n",
       "          ...,\n",
       "          [0, 0, 0, ..., 0, 0, 0],\n",
       "          [0, 0, 0, ..., 0, 0, 0],\n",
       "          [0, 0, 0, ..., 0, 0, 0]],\n",
       "  \n",
       "         [[0, 0, 0, ..., 0, 0, 0],\n",
       "          [0, 0, 0, ..., 0, 0, 0],\n",
       "          [0, 0, 0, ..., 0, 0, 0],\n",
       "          ...,\n",
       "          [0, 0, 0, ..., 0, 0, 0],\n",
       "          [0, 0, 0, ..., 0, 0, 0],\n",
       "          [0, 0, 0, ..., 0, 0, 0]]], dtype=uint8),\n",
       "  array([5, 0, 4, ..., 5, 6, 8], dtype=uint8)),\n",
       " (array([[[0, 0, 0, ..., 0, 0, 0],\n",
       "          [0, 0, 0, ..., 0, 0, 0],\n",
       "          [0, 0, 0, ..., 0, 0, 0],\n",
       "          ...,\n",
       "          [0, 0, 0, ..., 0, 0, 0],\n",
       "          [0, 0, 0, ..., 0, 0, 0],\n",
       "          [0, 0, 0, ..., 0, 0, 0]],\n",
       "  \n",
       "         [[0, 0, 0, ..., 0, 0, 0],\n",
       "          [0, 0, 0, ..., 0, 0, 0],\n",
       "          [0, 0, 0, ..., 0, 0, 0],\n",
       "          ...,\n",
       "          [0, 0, 0, ..., 0, 0, 0],\n",
       "          [0, 0, 0, ..., 0, 0, 0],\n",
       "          [0, 0, 0, ..., 0, 0, 0]],\n",
       "  \n",
       "         [[0, 0, 0, ..., 0, 0, 0],\n",
       "          [0, 0, 0, ..., 0, 0, 0],\n",
       "          [0, 0, 0, ..., 0, 0, 0],\n",
       "          ...,\n",
       "          [0, 0, 0, ..., 0, 0, 0],\n",
       "          [0, 0, 0, ..., 0, 0, 0],\n",
       "          [0, 0, 0, ..., 0, 0, 0]],\n",
       "  \n",
       "         ...,\n",
       "  \n",
       "         [[0, 0, 0, ..., 0, 0, 0],\n",
       "          [0, 0, 0, ..., 0, 0, 0],\n",
       "          [0, 0, 0, ..., 0, 0, 0],\n",
       "          ...,\n",
       "          [0, 0, 0, ..., 0, 0, 0],\n",
       "          [0, 0, 0, ..., 0, 0, 0],\n",
       "          [0, 0, 0, ..., 0, 0, 0]],\n",
       "  \n",
       "         [[0, 0, 0, ..., 0, 0, 0],\n",
       "          [0, 0, 0, ..., 0, 0, 0],\n",
       "          [0, 0, 0, ..., 0, 0, 0],\n",
       "          ...,\n",
       "          [0, 0, 0, ..., 0, 0, 0],\n",
       "          [0, 0, 0, ..., 0, 0, 0],\n",
       "          [0, 0, 0, ..., 0, 0, 0]],\n",
       "  \n",
       "         [[0, 0, 0, ..., 0, 0, 0],\n",
       "          [0, 0, 0, ..., 0, 0, 0],\n",
       "          [0, 0, 0, ..., 0, 0, 0],\n",
       "          ...,\n",
       "          [0, 0, 0, ..., 0, 0, 0],\n",
       "          [0, 0, 0, ..., 0, 0, 0],\n",
       "          [0, 0, 0, ..., 0, 0, 0]]], dtype=uint8),\n",
       "  array([7, 2, 1, ..., 4, 5, 6], dtype=uint8)))"
      ]
     },
     "execution_count": 4,
     "metadata": {},
     "output_type": "execute_result"
    }
   ],
   "source": [
    "mnist.load_data()"
   ]
  },
  {
   "cell_type": "code",
   "execution_count": 5,
   "id": "5377dd73",
   "metadata": {},
   "outputs": [],
   "source": [
    "(imagenes_entrenamiento, etiquetas_entrenamiento), (imagenes_prueba, etiquetas_prueba) = mnist.load_data()"
   ]
  },
  {
   "cell_type": "code",
   "execution_count": 6,
   "id": "976e2f1a",
   "metadata": {},
   "outputs": [],
   "source": [
    "imagenes_entrenamiento = imagenes_entrenamiento / 255.0\n",
    "imagenes_prueba = imagenes_prueba / 255.0"
   ]
  },
  {
   "cell_type": "code",
   "execution_count": 7,
   "id": "9129d9cd",
   "metadata": {},
   "outputs": [],
   "source": [
    "etiquetas_entrenamiento = to_categorical(etiquetas_entrenamiento)\n",
    "etiquetas_prueba = to_categorical(etiquetas_prueba)"
   ]
  },
  {
   "cell_type": "code",
   "execution_count": 9,
   "id": "0349ea83",
   "metadata": {},
   "outputs": [
    {
     "name": "stderr",
     "output_type": "stream",
     "text": [
      "/home/anderson-josue/anaconda3/lib/python3.13/site-packages/keras/src/layers/reshaping/flatten.py:37: UserWarning: Do not pass an `input_shape`/`input_dim` argument to a layer. When using Sequential models, prefer using an `Input(shape)` object as the first layer in the model instead.\n",
      "  super().__init__(**kwargs)\n",
      "WARNING: All log messages before absl::InitializeLog() is called are written to STDERR\n",
      "E0000 00:00:1758071124.774191   16813 cuda_executor.cc:1309] INTERNAL: CUDA Runtime error: Failed call to cudaGetRuntimeVersion: Error loading CUDA libraries. GPU will not be used.: Error loading CUDA libraries. GPU will not be used.\n",
      "W0000 00:00:1758071124.782027   16813 gpu_device.cc:2342] Cannot dlopen some GPU libraries. Please make sure the missing libraries mentioned above are installed properly if you would like to use GPU. Follow the guide at https://www.tensorflow.org/install/gpu for how to download and setup the required libraries for your platform.\n",
      "Skipping registering GPU devices...\n"
     ]
    }
   ],
   "source": [
    "modelo = Sequential(\n",
    "    [\n",
    "        Flatten(input_shape=(28, 28)),\n",
    "        Dense(128, activation=\"relu\"),\n",
    "        Dense(10, activation=\"softmax\"),\n",
    "    ]\n",
    ")"
   ]
  },
  {
   "cell_type": "code",
   "execution_count": 10,
   "id": "bc8b5298",
   "metadata": {},
   "outputs": [],
   "source": [
    "modelo.compile(optimizer=\"adam\", loss='categorical_crossentropy', metrics=['accuracy'])"
   ]
  },
  {
   "cell_type": "code",
   "execution_count": 11,
   "id": "cfb6bf94",
   "metadata": {},
   "outputs": [
    {
     "name": "stdout",
     "output_type": "stream",
     "text": [
      "Epoch 1/5\n"
     ]
    },
    {
     "name": "stderr",
     "output_type": "stream",
     "text": [
      "2025-09-16 20:11:16.199059: W external/local_xla/xla/tsl/framework/cpu_allocator_impl.cc:84] Allocation of 188160000 exceeds 10% of free system memory.\n"
     ]
    },
    {
     "name": "stdout",
     "output_type": "stream",
     "text": [
      "\u001b[1m1856/1875\u001b[0m \u001b[32m━━━━━━━━━━━━━━━━━━━\u001b[0m\u001b[37m━\u001b[0m \u001b[1m0s\u001b[0m 2ms/step - accuracy: 0.8737 - loss: 0.4434"
     ]
    },
    {
     "name": "stderr",
     "output_type": "stream",
     "text": [
      "2025-09-16 20:11:21.496444: W external/local_xla/xla/tsl/framework/cpu_allocator_impl.cc:84] Allocation of 31360000 exceeds 10% of free system memory.\n"
     ]
    },
    {
     "name": "stdout",
     "output_type": "stream",
     "text": [
      "\u001b[1m1875/1875\u001b[0m \u001b[32m━━━━━━━━━━━━━━━━━━━━\u001b[0m\u001b[37m\u001b[0m \u001b[1m6s\u001b[0m 2ms/step - accuracy: 0.9257 - loss: 0.2597 - val_accuracy: 0.9591 - val_loss: 0.1371\n",
      "Epoch 2/5\n",
      "\u001b[1m1875/1875\u001b[0m \u001b[32m━━━━━━━━━━━━━━━━━━━━\u001b[0m\u001b[37m\u001b[0m \u001b[1m4s\u001b[0m 2ms/step - accuracy: 0.9656 - loss: 0.1147 - val_accuracy: 0.9698 - val_loss: 0.0974\n",
      "Epoch 3/5\n",
      "\u001b[1m1875/1875\u001b[0m \u001b[32m━━━━━━━━━━━━━━━━━━━━\u001b[0m\u001b[37m\u001b[0m \u001b[1m5s\u001b[0m 2ms/step - accuracy: 0.9762 - loss: 0.0807 - val_accuracy: 0.9724 - val_loss: 0.0921\n",
      "Epoch 4/5\n",
      "\u001b[1m1875/1875\u001b[0m \u001b[32m━━━━━━━━━━━━━━━━━━━━\u001b[0m\u001b[37m\u001b[0m \u001b[1m4s\u001b[0m 2ms/step - accuracy: 0.9820 - loss: 0.0593 - val_accuracy: 0.9744 - val_loss: 0.0796\n",
      "Epoch 5/5\n",
      "\u001b[1m1875/1875\u001b[0m \u001b[32m━━━━━━━━━━━━━━━━━━━━\u001b[0m\u001b[37m\u001b[0m \u001b[1m4s\u001b[0m 2ms/step - accuracy: 0.9850 - loss: 0.0480 - val_accuracy: 0.9737 - val_loss: 0.0866\n"
     ]
    },
    {
     "data": {
      "text/plain": [
       "<keras.src.callbacks.history.History at 0x7c3fed8d4ad0>"
      ]
     },
     "execution_count": 11,
     "metadata": {},
     "output_type": "execute_result"
    }
   ],
   "source": [
    "modelo.fit(\n",
    "    imagenes_entrenamiento,\n",
    "    etiquetas_entrenamiento,\n",
    "    epochs=5,\n",
    "    validation_data=(imagenes_prueba, etiquetas_prueba),\n",
    ")"
   ]
  },
  {
   "cell_type": "code",
   "execution_count": 12,
   "id": "ce35d0a7",
   "metadata": {},
   "outputs": [
    {
     "name": "stdout",
     "output_type": "stream",
     "text": [
      "\u001b[1m 95/313\u001b[0m \u001b[32m━━━━━━\u001b[0m\u001b[37m━━━━━━━━━━━━━━\u001b[0m \u001b[1m0s\u001b[0m 1ms/step"
     ]
    },
    {
     "name": "stderr",
     "output_type": "stream",
     "text": [
      "2025-09-16 20:17:45.931179: W external/local_xla/xla/tsl/framework/cpu_allocator_impl.cc:84] Allocation of 31360000 exceeds 10% of free system memory.\n"
     ]
    },
    {
     "name": "stdout",
     "output_type": "stream",
     "text": [
      "\u001b[1m313/313\u001b[0m \u001b[32m━━━━━━━━━━━━━━━━━━━━\u001b[0m\u001b[37m\u001b[0m \u001b[1m0s\u001b[0m 993us/step\n"
     ]
    }
   ],
   "source": [
    "predicts = modelo.predict(imagenes_prueba)"
   ]
  },
  {
   "cell_type": "code",
   "execution_count": null,
   "id": "ce617ef9",
   "metadata": {},
   "outputs": [],
   "source": [
    "def ver_imagen(array_predicciones, etiqueta_real, img):\n",
    "    etiqueta_real, img = etiqueta_real.argmax(), img.squeeze()\n",
    "    plt.grid(False)\n",
    "    plt.xticks([])\n",
    "    plt.yticks([])\n",
    "    plt.imshow(img, cmap=plt.cm.binary)\n",
    "\n",
    "    etiqueta_predicha = np.argmax(array_predicciones)\n",
    "    if etiqueta_predicha == etiqueta_real:\n",
    "        color = \"blue\"\n",
    "    else:\n",
    "        color = \"red\"\n",
    "\n",
    "    plt.xlabel(f\"Pred: {etiqueta_predicha} Real: {etiqueta_real}\", color=color)"
   ]
  },
  {
   "cell_type": "code",
   "execution_count": 14,
   "id": "b8e173f5",
   "metadata": {},
   "outputs": [
    {
     "data": {
      "image/png": "[encoded data removed]",
      "text/plain": [
       "<Figure size 1200x1000 with 15 Axes>"
      ]
     },
     "metadata": {},
     "output_type": "display_data"
    }
   ],
   "source": [
    "filas = 5 \n",
    "columnas =3\n",
    "numero_imagenes = filas * columnas\n",
    "plt.figure(figsize=(2*2*columnas, 2*filas))\n",
    "\n",
    "for i in range(numero_imagenes):\n",
    "    plt.subplot(filas, 2*columnas, 2*i+1)\n",
    "    ver_imagen(predicts[i], etiquetas_prueba[i], imagenes_prueba[i])"
   ]
  },
  {
   "cell_type": "code",
   "execution_count": null,
   "id": "f8a82448",
   "metadata": {},
   "outputs": [],
   "source": []
  }
 ],
 "metadata": {
  "kernelspec": {
   "display_name": "base",
   "language": "python",
   "name": "python3"
  },
  "language_info": {
   "codemirror_mode": {
    "name": "ipython",
    "version": 3
   },
   "file_extension": ".py",
   "mimetype": "text/x-python",
   "name": "python",
   "nbconvert_exporter": "python",
   "pygments_lexer": "ipython3",
   "version": "3.13.5"
  }
 },
 "nbformat": 4,
 "nbformat_minor": 5
}
