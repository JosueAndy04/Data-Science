{
 "cells": [
  {
   "cell_type": "code",
   "execution_count": 1,
   "id": "043ac81d",
   "metadata": {},
   "outputs": [],
   "source": [
    "import pandas as pd\n",
    "import numpy as np"
   ]
  },
  {
   "cell_type": "code",
   "execution_count": 2,
   "id": "51f70f6b",
   "metadata": {},
   "outputs": [
    {
     "data": {
      "text/html": [
       "<div>\n",
       "<style scoped>\n",
       "    .dataframe tbody tr th:only-of-type {\n",
       "        vertical-align: middle;\n",
       "    }\n",
       "\n",
       "    .dataframe tbody tr th {\n",
       "        vertical-align: top;\n",
       "    }\n",
       "\n",
       "    .dataframe thead th {\n",
       "        text-align: right;\n",
       "    }\n",
       "</style>\n",
       "<table border=\"1\" class=\"dataframe\">\n",
       "  <thead>\n",
       "    <tr style=\"text-align: right;\">\n",
       "      <th></th>\n",
       "      <th>nombre</th>\n",
       "      <th>email</th>\n",
       "      <th>edad</th>\n",
       "      <th>ubicacion</th>\n",
       "      <th>salario</th>\n",
       "      <th>banco</th>\n",
       "    </tr>\n",
       "  </thead>\n",
       "  <tbody>\n",
       "    <tr>\n",
       "      <th>0</th>\n",
       "      <td>Ana</td>\n",
       "      <td>ana@ejemplo.com</td>\n",
       "      <td>22</td>\n",
       "      <td>Ciudad A</td>\n",
       "      <td>55000</td>\n",
       "      <td>Banco 1</td>\n",
       "    </tr>\n",
       "    <tr>\n",
       "      <th>1</th>\n",
       "      <td>Juan</td>\n",
       "      <td>juan@ejemplo.com</td>\n",
       "      <td>37</td>\n",
       "      <td>Ciudad B</td>\n",
       "      <td>34000</td>\n",
       "      <td>Banco 2</td>\n",
       "    </tr>\n",
       "    <tr>\n",
       "      <th>2</th>\n",
       "      <td>Luis</td>\n",
       "      <td>luis@ejemplo.com</td>\n",
       "      <td>15</td>\n",
       "      <td>Ciudad C</td>\n",
       "      <td>76000</td>\n",
       "      <td>Banco 3</td>\n",
       "    </tr>\n",
       "    <tr>\n",
       "      <th>3</th>\n",
       "      <td>Pedro</td>\n",
       "      <td>pedro@ejemplo.com</td>\n",
       "      <td>49</td>\n",
       "      <td>Ciudad D</td>\n",
       "      <td>51000</td>\n",
       "      <td>Banco 4</td>\n",
       "    </tr>\n",
       "    <tr>\n",
       "      <th>4</th>\n",
       "      <td>Silvina</td>\n",
       "      <td>silvina@ejemplo.com</td>\n",
       "      <td>63</td>\n",
       "      <td>Ciudad E</td>\n",
       "      <td>62000</td>\n",
       "      <td>Banco 5</td>\n",
       "    </tr>\n",
       "  </tbody>\n",
       "</table>\n",
       "</div>"
      ],
      "text/plain": [
       "    nombre                email  edad ubicacion  salario    banco\n",
       "0      Ana      ana@ejemplo.com    22  Ciudad A    55000  Banco 1\n",
       "1     Juan     juan@ejemplo.com    37  Ciudad B    34000  Banco 2\n",
       "2     Luis     luis@ejemplo.com    15  Ciudad C    76000  Banco 3\n",
       "3    Pedro    pedro@ejemplo.com    49  Ciudad D    51000  Banco 4\n",
       "4  Silvina  silvina@ejemplo.com    63  Ciudad E    62000  Banco 5"
      ]
     },
     "execution_count": 2,
     "metadata": {},
     "output_type": "execute_result"
    }
   ],
   "source": [
    "data = pd.DataFrame(\n",
    "    {\n",
    "        \"nombre\": [\"Ana\", \"Juan\", \"Luis\", \"Pedro\", \"Silvina\"],\n",
    "        \"email\": [\n",
    "            \"ana@ejemplo.com\",\n",
    "            \"juan@ejemplo.com\",\n",
    "            \"luis@ejemplo.com\",\n",
    "            \"pedro@ejemplo.com\",\n",
    "            \"silvina@ejemplo.com\",\n",
    "        ],\n",
    "        \"edad\": [22, 37, 15, 49, 63],\n",
    "        \"ubicacion\": [\"Ciudad A\", \"Ciudad B\", \"Ciudad C\", \"Ciudad D\", \"Ciudad E\"],\n",
    "        \"salario\": [55000, 34000, 76000, 51000, 62000],\n",
    "        \"banco\": [\"Banco 1\", \"Banco 2\", \"Banco 3\", \"Banco 4\", \"Banco 5\"],\n",
    "    }\n",
    ")\n",
    "\n",
    "data"
   ]
  },
  {
   "cell_type": "markdown",
   "id": "ed27b152",
   "metadata": {},
   "source": [
    "# Anonimizacion\n"
   ]
  },
  {
   "cell_type": "code",
   "execution_count": null,
   "id": "795e497a",
   "metadata": {},
   "outputs": [],
   "source": [
    "data.drop([\"nombre\", \"email\"], axis=1, inplace=True)"
   ]
  },
  {
   "cell_type": "code",
   "execution_count": 4,
   "id": "b2d865b3",
   "metadata": {},
   "outputs": [
    {
     "data": {
      "text/html": [
       "<div>\n",
       "<style scoped>\n",
       "    .dataframe tbody tr th:only-of-type {\n",
       "        vertical-align: middle;\n",
       "    }\n",
       "\n",
       "    .dataframe tbody tr th {\n",
       "        vertical-align: top;\n",
       "    }\n",
       "\n",
       "    .dataframe thead th {\n",
       "        text-align: right;\n",
       "    }\n",
       "</style>\n",
       "<table border=\"1\" class=\"dataframe\">\n",
       "  <thead>\n",
       "    <tr style=\"text-align: right;\">\n",
       "      <th></th>\n",
       "      <th>edad</th>\n",
       "      <th>ubicacion</th>\n",
       "      <th>salario</th>\n",
       "      <th>banco</th>\n",
       "    </tr>\n",
       "  </thead>\n",
       "  <tbody>\n",
       "    <tr>\n",
       "      <th>0</th>\n",
       "      <td>22</td>\n",
       "      <td>Ciudad A</td>\n",
       "      <td>55000</td>\n",
       "      <td>Banco 1</td>\n",
       "    </tr>\n",
       "    <tr>\n",
       "      <th>1</th>\n",
       "      <td>37</td>\n",
       "      <td>Ciudad B</td>\n",
       "      <td>34000</td>\n",
       "      <td>Banco 2</td>\n",
       "    </tr>\n",
       "    <tr>\n",
       "      <th>2</th>\n",
       "      <td>15</td>\n",
       "      <td>Ciudad C</td>\n",
       "      <td>76000</td>\n",
       "      <td>Banco 3</td>\n",
       "    </tr>\n",
       "    <tr>\n",
       "      <th>3</th>\n",
       "      <td>49</td>\n",
       "      <td>Ciudad D</td>\n",
       "      <td>51000</td>\n",
       "      <td>Banco 4</td>\n",
       "    </tr>\n",
       "    <tr>\n",
       "      <th>4</th>\n",
       "      <td>63</td>\n",
       "      <td>Ciudad E</td>\n",
       "      <td>62000</td>\n",
       "      <td>Banco 5</td>\n",
       "    </tr>\n",
       "  </tbody>\n",
       "</table>\n",
       "</div>"
      ],
      "text/plain": [
       "   edad ubicacion  salario    banco\n",
       "0    22  Ciudad A    55000  Banco 1\n",
       "1    37  Ciudad B    34000  Banco 2\n",
       "2    15  Ciudad C    76000  Banco 3\n",
       "3    49  Ciudad D    51000  Banco 4\n",
       "4    63  Ciudad E    62000  Banco 5"
      ]
     },
     "execution_count": 4,
     "metadata": {},
     "output_type": "execute_result"
    }
   ],
   "source": [
    "data"
   ]
  },
  {
   "cell_type": "code",
   "execution_count": null,
   "id": "623a5b95",
   "metadata": {},
   "outputs": [
    {
     "data": {
      "text/html": [
       "<div>\n",
       "<style scoped>\n",
       "    .dataframe tbody tr th:only-of-type {\n",
       "        vertical-align: middle;\n",
       "    }\n",
       "\n",
       "    .dataframe tbody tr th {\n",
       "        vertical-align: top;\n",
       "    }\n",
       "\n",
       "    .dataframe thead th {\n",
       "        text-align: right;\n",
       "    }\n",
       "</style>\n",
       "<table border=\"1\" class=\"dataframe\">\n",
       "  <thead>\n",
       "    <tr style=\"text-align: right;\">\n",
       "      <th></th>\n",
       "      <th>edad</th>\n",
       "      <th>ubicacion</th>\n",
       "      <th>salario</th>\n",
       "      <th>banco</th>\n",
       "    </tr>\n",
       "  </thead>\n",
       "  <tbody>\n",
       "    <tr>\n",
       "      <th>0</th>\n",
       "      <td>20</td>\n",
       "      <td>Ciudad A</td>\n",
       "      <td>55000</td>\n",
       "      <td>Banco 1</td>\n",
       "    </tr>\n",
       "    <tr>\n",
       "      <th>1</th>\n",
       "      <td>30</td>\n",
       "      <td>Ciudad B</td>\n",
       "      <td>34000</td>\n",
       "      <td>Banco 2</td>\n",
       "    </tr>\n",
       "    <tr>\n",
       "      <th>2</th>\n",
       "      <td>10</td>\n",
       "      <td>Ciudad C</td>\n",
       "      <td>76000</td>\n",
       "      <td>Banco 3</td>\n",
       "    </tr>\n",
       "    <tr>\n",
       "      <th>3</th>\n",
       "      <td>40</td>\n",
       "      <td>Ciudad D</td>\n",
       "      <td>51000</td>\n",
       "      <td>Banco 4</td>\n",
       "    </tr>\n",
       "    <tr>\n",
       "      <th>4</th>\n",
       "      <td>60</td>\n",
       "      <td>Ciudad E</td>\n",
       "      <td>62000</td>\n",
       "      <td>Banco 5</td>\n",
       "    </tr>\n",
       "  </tbody>\n",
       "</table>\n",
       "</div>"
      ],
      "text/plain": [
       "   edad ubicacion  salario    banco\n",
       "0    20  Ciudad A    55000  Banco 1\n",
       "1    30  Ciudad B    34000  Banco 2\n",
       "2    10  Ciudad C    76000  Banco 3\n",
       "3    40  Ciudad D    51000  Banco 4\n",
       "4    60  Ciudad E    62000  Banco 5"
      ]
     },
     "execution_count": 5,
     "metadata": {},
     "output_type": "execute_result"
    }
   ],
   "source": [
    "data[\"edad\"] = (data[\"edad\"] // 10) * 10\n",
    "data"
   ]
  },
  {
   "cell_type": "code",
   "execution_count": null,
   "id": "658e5c4b",
   "metadata": {},
   "outputs": [
    {
     "data": {
      "text/plain": [
       "array([ 87.19523411,   6.95941869, -45.12166282, 140.36947614,\n",
       "       -93.30954378])"
      ]
     },
     "execution_count": 6,
     "metadata": {},
     "output_type": "execute_result"
    }
   ],
   "source": [
    "ruido = np.random.normal(0, 100, size=data[\"salario\"].shape)\n",
    "ruido"
   ]
  },
  {
   "cell_type": "code",
   "execution_count": null,
   "id": "f3d92ec3",
   "metadata": {},
   "outputs": [
    {
     "data": {
      "text/html": [
       "<div>\n",
       "<style scoped>\n",
       "    .dataframe tbody tr th:only-of-type {\n",
       "        vertical-align: middle;\n",
       "    }\n",
       "\n",
       "    .dataframe tbody tr th {\n",
       "        vertical-align: top;\n",
       "    }\n",
       "\n",
       "    .dataframe thead th {\n",
       "        text-align: right;\n",
       "    }\n",
       "</style>\n",
       "<table border=\"1\" class=\"dataframe\">\n",
       "  <thead>\n",
       "    <tr style=\"text-align: right;\">\n",
       "      <th></th>\n",
       "      <th>edad</th>\n",
       "      <th>ubicacion</th>\n",
       "      <th>salario</th>\n",
       "      <th>banco</th>\n",
       "    </tr>\n",
       "  </thead>\n",
       "  <tbody>\n",
       "    <tr>\n",
       "      <th>0</th>\n",
       "      <td>20</td>\n",
       "      <td>Ciudad A</td>\n",
       "      <td>55087.195234</td>\n",
       "      <td>Banco 1</td>\n",
       "    </tr>\n",
       "    <tr>\n",
       "      <th>1</th>\n",
       "      <td>30</td>\n",
       "      <td>Ciudad B</td>\n",
       "      <td>34006.959419</td>\n",
       "      <td>Banco 2</td>\n",
       "    </tr>\n",
       "    <tr>\n",
       "      <th>2</th>\n",
       "      <td>10</td>\n",
       "      <td>Ciudad C</td>\n",
       "      <td>75954.878337</td>\n",
       "      <td>Banco 3</td>\n",
       "    </tr>\n",
       "    <tr>\n",
       "      <th>3</th>\n",
       "      <td>40</td>\n",
       "      <td>Ciudad D</td>\n",
       "      <td>51140.369476</td>\n",
       "      <td>Banco 4</td>\n",
       "    </tr>\n",
       "    <tr>\n",
       "      <th>4</th>\n",
       "      <td>60</td>\n",
       "      <td>Ciudad E</td>\n",
       "      <td>61906.690456</td>\n",
       "      <td>Banco 5</td>\n",
       "    </tr>\n",
       "  </tbody>\n",
       "</table>\n",
       "</div>"
      ],
      "text/plain": [
       "   edad ubicacion       salario    banco\n",
       "0    20  Ciudad A  55087.195234  Banco 1\n",
       "1    30  Ciudad B  34006.959419  Banco 2\n",
       "2    10  Ciudad C  75954.878337  Banco 3\n",
       "3    40  Ciudad D  51140.369476  Banco 4\n",
       "4    60  Ciudad E  61906.690456  Banco 5"
      ]
     },
     "execution_count": 7,
     "metadata": {},
     "output_type": "execute_result"
    }
   ],
   "source": [
    "data[\"salario\"] += ruido\n",
    "data"
   ]
  },
  {
   "cell_type": "code",
   "execution_count": null,
   "id": "37351b91",
   "metadata": {},
   "outputs": [
    {
     "data": {
      "text/html": [
       "<div>\n",
       "<style scoped>\n",
       "    .dataframe tbody tr th:only-of-type {\n",
       "        vertical-align: middle;\n",
       "    }\n",
       "\n",
       "    .dataframe tbody tr th {\n",
       "        vertical-align: top;\n",
       "    }\n",
       "\n",
       "    .dataframe thead th {\n",
       "        text-align: right;\n",
       "    }\n",
       "</style>\n",
       "<table border=\"1\" class=\"dataframe\">\n",
       "  <thead>\n",
       "    <tr style=\"text-align: right;\">\n",
       "      <th></th>\n",
       "      <th>edad</th>\n",
       "      <th>ubicacion</th>\n",
       "      <th>salario</th>\n",
       "      <th>banco</th>\n",
       "    </tr>\n",
       "  </thead>\n",
       "  <tbody>\n",
       "    <tr>\n",
       "      <th>0</th>\n",
       "      <td>20</td>\n",
       "      <td>Ciudad A</td>\n",
       "      <td>55087.195234</td>\n",
       "      <td>Banco 2</td>\n",
       "    </tr>\n",
       "    <tr>\n",
       "      <th>1</th>\n",
       "      <td>30</td>\n",
       "      <td>Ciudad B</td>\n",
       "      <td>34006.959419</td>\n",
       "      <td>Banco 1</td>\n",
       "    </tr>\n",
       "    <tr>\n",
       "      <th>2</th>\n",
       "      <td>10</td>\n",
       "      <td>Ciudad C</td>\n",
       "      <td>75954.878337</td>\n",
       "      <td>Banco 4</td>\n",
       "    </tr>\n",
       "    <tr>\n",
       "      <th>3</th>\n",
       "      <td>40</td>\n",
       "      <td>Ciudad D</td>\n",
       "      <td>51140.369476</td>\n",
       "      <td>Banco 3</td>\n",
       "    </tr>\n",
       "    <tr>\n",
       "      <th>4</th>\n",
       "      <td>60</td>\n",
       "      <td>Ciudad E</td>\n",
       "      <td>61906.690456</td>\n",
       "      <td>Banco 5</td>\n",
       "    </tr>\n",
       "  </tbody>\n",
       "</table>\n",
       "</div>"
      ],
      "text/plain": [
       "   edad ubicacion       salario    banco\n",
       "0    20  Ciudad A  55087.195234  Banco 2\n",
       "1    30  Ciudad B  34006.959419  Banco 1\n",
       "2    10  Ciudad C  75954.878337  Banco 4\n",
       "3    40  Ciudad D  51140.369476  Banco 3\n",
       "4    60  Ciudad E  61906.690456  Banco 5"
      ]
     },
     "execution_count": 8,
     "metadata": {},
     "output_type": "execute_result"
    }
   ],
   "source": [
    "data[\"banco\"] = np.random.permutation(data[\"banco\"])\n",
    "data"
   ]
  },
  {
   "cell_type": "markdown",
   "id": "29bba265",
   "metadata": {},
   "source": [
    "# Pseudo-anonimizacion\n"
   ]
  },
  {
   "cell_type": "code",
   "execution_count": 9,
   "id": "9213e4ca",
   "metadata": {},
   "outputs": [],
   "source": [
    "import uuid\n",
    "import hashlib"
   ]
  },
  {
   "cell_type": "code",
   "execution_count": 10,
   "id": "e33e82d7",
   "metadata": {},
   "outputs": [
    {
     "data": {
      "text/html": [
       "<div>\n",
       "<style scoped>\n",
       "    .dataframe tbody tr th:only-of-type {\n",
       "        vertical-align: middle;\n",
       "    }\n",
       "\n",
       "    .dataframe tbody tr th {\n",
       "        vertical-align: top;\n",
       "    }\n",
       "\n",
       "    .dataframe thead th {\n",
       "        text-align: right;\n",
       "    }\n",
       "</style>\n",
       "<table border=\"1\" class=\"dataframe\">\n",
       "  <thead>\n",
       "    <tr style=\"text-align: right;\">\n",
       "      <th></th>\n",
       "      <th>nombre</th>\n",
       "      <th>email</th>\n",
       "      <th>ubicacion</th>\n",
       "    </tr>\n",
       "  </thead>\n",
       "  <tbody>\n",
       "    <tr>\n",
       "      <th>0</th>\n",
       "      <td>Ana</td>\n",
       "      <td>ana@ejemplo.com</td>\n",
       "      <td>Ciudad A</td>\n",
       "    </tr>\n",
       "    <tr>\n",
       "      <th>1</th>\n",
       "      <td>Juan</td>\n",
       "      <td>juan@ejemplo.com</td>\n",
       "      <td>Ciudad B</td>\n",
       "    </tr>\n",
       "    <tr>\n",
       "      <th>2</th>\n",
       "      <td>Luis</td>\n",
       "      <td>luis@ejemplo.com</td>\n",
       "      <td>Ciudad C</td>\n",
       "    </tr>\n",
       "  </tbody>\n",
       "</table>\n",
       "</div>"
      ],
      "text/plain": [
       "  nombre             email ubicacion\n",
       "0    Ana   ana@ejemplo.com  Ciudad A\n",
       "1   Juan  juan@ejemplo.com  Ciudad B\n",
       "2   Luis  luis@ejemplo.com  Ciudad C"
      ]
     },
     "execution_count": 10,
     "metadata": {},
     "output_type": "execute_result"
    }
   ],
   "source": [
    "df = pd.DataFrame(\n",
    "    {\n",
    "        \"nombre\": [\"Ana\", \"Juan\", \"Luis\"],\n",
    "        \"email\": [\"ana@ejemplo.com\", \"juan@ejemplo.com\", \"luis@ejemplo.com\"],\n",
    "        \"ubicacion\": [\"Ciudad A\", \"Ciudad B\", \"Ciudad C\"],\n",
    "    }\n",
    ")\n",
    "\n",
    "df"
   ]
  },
  {
   "cell_type": "code",
   "execution_count": 11,
   "id": "42bd40b2",
   "metadata": {},
   "outputs": [],
   "source": [
    "id_pseduo = []"
   ]
  },
  {
   "cell_type": "code",
   "execution_count": 12,
   "id": "82c5bd50",
   "metadata": {},
   "outputs": [],
   "source": [
    "for n in range(len(df)):\n",
    "    id_pseduo.append(str(uuid.uuid4()))"
   ]
  },
  {
   "cell_type": "code",
   "execution_count": 13,
   "id": "9ee45088",
   "metadata": {},
   "outputs": [
    {
     "data": {
      "text/plain": [
       "['722cccdc-53c0-4ca4-9949-a7e3e72f3a16',\n",
       " '8d0ea2ac-551e-435e-a5b0-f99089c7f8da',\n",
       " 'c0a56ff8-eb22-45df-b0e2-3ad4983649e0']"
      ]
     },
     "execution_count": 13,
     "metadata": {},
     "output_type": "execute_result"
    }
   ],
   "source": [
    "id_pseduo"
   ]
  },
  {
   "cell_type": "code",
   "execution_count": null,
   "id": "ccc6459b",
   "metadata": {},
   "outputs": [
    {
     "data": {
      "text/html": [
       "<div>\n",
       "<style scoped>\n",
       "    .dataframe tbody tr th:only-of-type {\n",
       "        vertical-align: middle;\n",
       "    }\n",
       "\n",
       "    .dataframe tbody tr th {\n",
       "        vertical-align: top;\n",
       "    }\n",
       "\n",
       "    .dataframe thead th {\n",
       "        text-align: right;\n",
       "    }\n",
       "</style>\n",
       "<table border=\"1\" class=\"dataframe\">\n",
       "  <thead>\n",
       "    <tr style=\"text-align: right;\">\n",
       "      <th></th>\n",
       "      <th>email</th>\n",
       "      <th>ubicacion</th>\n",
       "      <th>id_pseudo</th>\n",
       "    </tr>\n",
       "  </thead>\n",
       "  <tbody>\n",
       "    <tr>\n",
       "      <th>0</th>\n",
       "      <td>ana@ejemplo.com</td>\n",
       "      <td>Ciudad A</td>\n",
       "      <td>722cccdc-53c0-4ca4-9949-a7e3e72f3a16</td>\n",
       "    </tr>\n",
       "    <tr>\n",
       "      <th>1</th>\n",
       "      <td>juan@ejemplo.com</td>\n",
       "      <td>Ciudad B</td>\n",
       "      <td>8d0ea2ac-551e-435e-a5b0-f99089c7f8da</td>\n",
       "    </tr>\n",
       "    <tr>\n",
       "      <th>2</th>\n",
       "      <td>luis@ejemplo.com</td>\n",
       "      <td>Ciudad C</td>\n",
       "      <td>c0a56ff8-eb22-45df-b0e2-3ad4983649e0</td>\n",
       "    </tr>\n",
       "  </tbody>\n",
       "</table>\n",
       "</div>"
      ],
      "text/plain": [
       "              email ubicacion                             id_pseudo\n",
       "0   ana@ejemplo.com  Ciudad A  722cccdc-53c0-4ca4-9949-a7e3e72f3a16\n",
       "1  juan@ejemplo.com  Ciudad B  8d0ea2ac-551e-435e-a5b0-f99089c7f8da\n",
       "2  luis@ejemplo.com  Ciudad C  c0a56ff8-eb22-45df-b0e2-3ad4983649e0"
      ]
     },
     "execution_count": 14,
     "metadata": {},
     "output_type": "execute_result"
    }
   ],
   "source": [
    "df[\"id_pseudo\"] = id_pseduo\n",
    "df.drop(\"nombre\", axis=1, inplace=True)\n",
    "df"
   ]
  },
  {
   "cell_type": "code",
   "execution_count": 15,
   "id": "2302c480",
   "metadata": {},
   "outputs": [],
   "source": [
    "def hash_data(data):\n",
    "    return hashlib.sha256(data.encode()).hexdigest()"
   ]
  },
  {
   "cell_type": "code",
   "execution_count": 16,
   "id": "f00d9814",
   "metadata": {},
   "outputs": [],
   "source": [
    "hash_email = []"
   ]
  },
  {
   "cell_type": "code",
   "execution_count": null,
   "id": "ff067909",
   "metadata": {},
   "outputs": [
    {
     "data": {
      "text/html": [
       "<div>\n",
       "<style scoped>\n",
       "    .dataframe tbody tr th:only-of-type {\n",
       "        vertical-align: middle;\n",
       "    }\n",
       "\n",
       "    .dataframe tbody tr th {\n",
       "        vertical-align: top;\n",
       "    }\n",
       "\n",
       "    .dataframe thead th {\n",
       "        text-align: right;\n",
       "    }\n",
       "</style>\n",
       "<table border=\"1\" class=\"dataframe\">\n",
       "  <thead>\n",
       "    <tr style=\"text-align: right;\">\n",
       "      <th></th>\n",
       "      <th>email</th>\n",
       "      <th>ubicacion</th>\n",
       "      <th>id_pseudo</th>\n",
       "    </tr>\n",
       "  </thead>\n",
       "  <tbody>\n",
       "    <tr>\n",
       "      <th>0</th>\n",
       "      <td>52f5655387a4bdcb850a93ce7223979b4a360fa146c89c...</td>\n",
       "      <td>Ciudad A</td>\n",
       "      <td>722cccdc-53c0-4ca4-9949-a7e3e72f3a16</td>\n",
       "    </tr>\n",
       "    <tr>\n",
       "      <th>1</th>\n",
       "      <td>37d52dabac00945d10d0879cad2564b4985b1a3303e4b5...</td>\n",
       "      <td>Ciudad B</td>\n",
       "      <td>8d0ea2ac-551e-435e-a5b0-f99089c7f8da</td>\n",
       "    </tr>\n",
       "    <tr>\n",
       "      <th>2</th>\n",
       "      <td>59f7ac6c8ec549f037cd7188ca36e499099f041159cfd9...</td>\n",
       "      <td>Ciudad C</td>\n",
       "      <td>c0a56ff8-eb22-45df-b0e2-3ad4983649e0</td>\n",
       "    </tr>\n",
       "  </tbody>\n",
       "</table>\n",
       "</div>"
      ],
      "text/plain": [
       "                                               email ubicacion  \\\n",
       "0  52f5655387a4bdcb850a93ce7223979b4a360fa146c89c...  Ciudad A   \n",
       "1  37d52dabac00945d10d0879cad2564b4985b1a3303e4b5...  Ciudad B   \n",
       "2  59f7ac6c8ec549f037cd7188ca36e499099f041159cfd9...  Ciudad C   \n",
       "\n",
       "                              id_pseudo  \n",
       "0  722cccdc-53c0-4ca4-9949-a7e3e72f3a16  \n",
       "1  8d0ea2ac-551e-435e-a5b0-f99089c7f8da  \n",
       "2  c0a56ff8-eb22-45df-b0e2-3ad4983649e0  "
      ]
     },
     "execution_count": 17,
     "metadata": {},
     "output_type": "execute_result"
    }
   ],
   "source": [
    "for email in df[\"email\"]:\n",
    "    h_email = hash_data(email)\n",
    "    hash_email.append(h_email)\n",
    "df[\"email\"] = hash_email\n",
    "df"
   ]
  },
  {
   "cell_type": "code",
   "execution_count": 18,
   "id": "3fd6c909",
   "metadata": {},
   "outputs": [],
   "source": [
    "mis_tokens = {}"
   ]
  },
  {
   "cell_type": "code",
   "execution_count": 19,
   "id": "7f2ff03a",
   "metadata": {},
   "outputs": [],
   "source": [
    "def tokenizar(dato):\n",
    "    token = str(uuid.uuid4())\n",
    "    mis_tokens[token] = dato\n",
    "    return token"
   ]
  },
  {
   "cell_type": "code",
   "execution_count": 20,
   "id": "5cdf59b8",
   "metadata": {},
   "outputs": [],
   "source": [
    "def recuperar_dato(token):\n",
    "    return mis_tokens.get(token, \"Token no encontrado\")"
   ]
  },
  {
   "cell_type": "code",
   "execution_count": null,
   "id": "373d2f47",
   "metadata": {},
   "outputs": [],
   "source": [
    "dato_original = \"123-456-789\"\n",
    "token = tokenizar(dato_original)"
   ]
  },
  {
   "cell_type": "code",
   "execution_count": null,
   "id": "81b0977b",
   "metadata": {},
   "outputs": [
    {
     "name": "stdout",
     "output_type": "stream",
     "text": [
      "Token: 832917ae-dd6d-475b-b4cb-5cf0b9b5af19\n",
      "dato_original: 123-456-789\n"
     ]
    }
   ],
   "source": [
    "print(f\"Token: {token}\")\n",
    "print(f\"dato_original: {recuperar_dato(token)}\")"
   ]
  },
  {
   "cell_type": "markdown",
   "id": "a8f71f2b",
   "metadata": {},
   "source": [
    "## Sesgos en Data Science\n"
   ]
  },
  {
   "cell_type": "markdown",
   "id": "4a7fa90d",
   "metadata": {},
   "source": [
    "1.- Seleccion\n",
    "2.- Confirmacion\n",
    "3.- Medicion\n"
   ]
  },
  {
   "cell_type": "markdown",
   "id": "f9d4c910",
   "metadata": {},
   "source": [
    "Revision por Pares\n",
    "Validacion cruzada\n"
   ]
  },
  {
   "cell_type": "code",
   "execution_count": 23,
   "id": "f813a8ed",
   "metadata": {},
   "outputs": [],
   "source": [
    "from sklearn.model_selection import train_test_split\n",
    "from sklearn.utils import resample"
   ]
  },
  {
   "cell_type": "code",
   "execution_count": 24,
   "id": "c0ed28f4",
   "metadata": {},
   "outputs": [
    {
     "data": {
      "text/html": [
       "<div>\n",
       "<style scoped>\n",
       "    .dataframe tbody tr th:only-of-type {\n",
       "        vertical-align: middle;\n",
       "    }\n",
       "\n",
       "    .dataframe tbody tr th {\n",
       "        vertical-align: top;\n",
       "    }\n",
       "\n",
       "    .dataframe thead th {\n",
       "        text-align: right;\n",
       "    }\n",
       "</style>\n",
       "<table border=\"1\" class=\"dataframe\">\n",
       "  <thead>\n",
       "    <tr style=\"text-align: right;\">\n",
       "      <th></th>\n",
       "      <th>edad</th>\n",
       "      <th>genero</th>\n",
       "      <th>contratado</th>\n",
       "    </tr>\n",
       "  </thead>\n",
       "  <tbody>\n",
       "    <tr>\n",
       "      <th>0</th>\n",
       "      <td>22</td>\n",
       "      <td>F</td>\n",
       "      <td>1</td>\n",
       "    </tr>\n",
       "    <tr>\n",
       "      <th>1</th>\n",
       "      <td>45</td>\n",
       "      <td>M</td>\n",
       "      <td>0</td>\n",
       "    </tr>\n",
       "    <tr>\n",
       "      <th>2</th>\n",
       "      <td>36</td>\n",
       "      <td>M</td>\n",
       "      <td>1</td>\n",
       "    </tr>\n",
       "    <tr>\n",
       "      <th>3</th>\n",
       "      <td>29</td>\n",
       "      <td>F</td>\n",
       "      <td>0</td>\n",
       "    </tr>\n",
       "    <tr>\n",
       "      <th>4</th>\n",
       "      <td>58</td>\n",
       "      <td>M</td>\n",
       "      <td>1</td>\n",
       "    </tr>\n",
       "  </tbody>\n",
       "</table>\n",
       "</div>"
      ],
      "text/plain": [
       "   edad genero  contratado\n",
       "0    22      F           1\n",
       "1    45      M           0\n",
       "2    36      M           1\n",
       "3    29      F           0\n",
       "4    58      M           1"
      ]
     },
     "execution_count": 24,
     "metadata": {},
     "output_type": "execute_result"
    }
   ],
   "source": [
    "data = pd.DataFrame(\n",
    "    {\n",
    "        \"edad\": [22, 45, 36, 29, 58],\n",
    "        \"genero\": [\"F\", \"M\", \"M\", \"F\", \"M\"],\n",
    "        \"contratado\": [1, 0, 1, 0, 1],\n",
    "    }\n",
    ")\n",
    "data"
   ]
  },
  {
   "cell_type": "markdown",
   "id": "3dd77792",
   "metadata": {},
   "source": [
    "# Balanceo\n"
   ]
  },
  {
   "cell_type": "code",
   "execution_count": null,
   "id": "68439d53",
   "metadata": {},
   "outputs": [
    {
     "data": {
      "text/plain": [
       "<pandas.core.groupby.generic.DataFrameGroupBy object at 0x700174ccd7f0>"
      ]
     },
     "execution_count": 25,
     "metadata": {},
     "output_type": "execute_result"
    }
   ],
   "source": [
    "agrupado = data.groupby(\"genero\")\n",
    "agrupado"
   ]
  },
  {
   "cell_type": "code",
   "execution_count": null,
   "id": "90110b88",
   "metadata": {},
   "outputs": [
    {
     "name": "stdout",
     "output_type": "stream",
     "text": [
      "F    edad genero  contratado\n",
      "0    22      F           1\n",
      "3    29      F           0\n",
      "M    edad genero  contratado\n",
      "1    45      M           0\n",
      "2    36      M           1\n",
      "4    58      M           1\n"
     ]
    }
   ],
   "source": [
    "for nombre, grupo in agrupado:\n",
    "    print(nombre, grupo)"
   ]
  },
  {
   "cell_type": "code",
   "execution_count": 27,
   "id": "c0606d4f",
   "metadata": {},
   "outputs": [],
   "source": [
    "data_balanceada = pd.DataFrame()"
   ]
  },
  {
   "cell_type": "code",
   "execution_count": 28,
   "id": "00f8acaf",
   "metadata": {},
   "outputs": [],
   "source": [
    "for nombre, grupo in agrupado:\n",
    "    grupo_balanceado = resample(grupo, replace=True, n_samples=10, random_state=123)\n",
    "    data_balanceada = pd.concat([data_balanceada, grupo_balanceado])"
   ]
  },
  {
   "cell_type": "code",
   "execution_count": 29,
   "id": "1e4e7020",
   "metadata": {},
   "outputs": [
    {
     "data": {
      "text/html": [
       "<div>\n",
       "<style scoped>\n",
       "    .dataframe tbody tr th:only-of-type {\n",
       "        vertical-align: middle;\n",
       "    }\n",
       "\n",
       "    .dataframe tbody tr th {\n",
       "        vertical-align: top;\n",
       "    }\n",
       "\n",
       "    .dataframe thead th {\n",
       "        text-align: right;\n",
       "    }\n",
       "</style>\n",
       "<table border=\"1\" class=\"dataframe\">\n",
       "  <thead>\n",
       "    <tr style=\"text-align: right;\">\n",
       "      <th></th>\n",
       "      <th>edad</th>\n",
       "      <th>genero</th>\n",
       "      <th>contratado</th>\n",
       "    </tr>\n",
       "  </thead>\n",
       "  <tbody>\n",
       "    <tr>\n",
       "      <th>0</th>\n",
       "      <td>22</td>\n",
       "      <td>F</td>\n",
       "      <td>1</td>\n",
       "    </tr>\n",
       "    <tr>\n",
       "      <th>3</th>\n",
       "      <td>29</td>\n",
       "      <td>F</td>\n",
       "      <td>0</td>\n",
       "    </tr>\n",
       "    <tr>\n",
       "      <th>0</th>\n",
       "      <td>22</td>\n",
       "      <td>F</td>\n",
       "      <td>1</td>\n",
       "    </tr>\n",
       "    <tr>\n",
       "      <th>0</th>\n",
       "      <td>22</td>\n",
       "      <td>F</td>\n",
       "      <td>1</td>\n",
       "    </tr>\n",
       "    <tr>\n",
       "      <th>0</th>\n",
       "      <td>22</td>\n",
       "      <td>F</td>\n",
       "      <td>1</td>\n",
       "    </tr>\n",
       "    <tr>\n",
       "      <th>0</th>\n",
       "      <td>22</td>\n",
       "      <td>F</td>\n",
       "      <td>1</td>\n",
       "    </tr>\n",
       "    <tr>\n",
       "      <th>0</th>\n",
       "      <td>22</td>\n",
       "      <td>F</td>\n",
       "      <td>1</td>\n",
       "    </tr>\n",
       "    <tr>\n",
       "      <th>3</th>\n",
       "      <td>29</td>\n",
       "      <td>F</td>\n",
       "      <td>0</td>\n",
       "    </tr>\n",
       "    <tr>\n",
       "      <th>3</th>\n",
       "      <td>29</td>\n",
       "      <td>F</td>\n",
       "      <td>0</td>\n",
       "    </tr>\n",
       "    <tr>\n",
       "      <th>0</th>\n",
       "      <td>22</td>\n",
       "      <td>F</td>\n",
       "      <td>1</td>\n",
       "    </tr>\n",
       "    <tr>\n",
       "      <th>4</th>\n",
       "      <td>58</td>\n",
       "      <td>M</td>\n",
       "      <td>1</td>\n",
       "    </tr>\n",
       "    <tr>\n",
       "      <th>2</th>\n",
       "      <td>36</td>\n",
       "      <td>M</td>\n",
       "      <td>1</td>\n",
       "    </tr>\n",
       "    <tr>\n",
       "      <th>4</th>\n",
       "      <td>58</td>\n",
       "      <td>M</td>\n",
       "      <td>1</td>\n",
       "    </tr>\n",
       "    <tr>\n",
       "      <th>4</th>\n",
       "      <td>58</td>\n",
       "      <td>M</td>\n",
       "      <td>1</td>\n",
       "    </tr>\n",
       "    <tr>\n",
       "      <th>1</th>\n",
       "      <td>45</td>\n",
       "      <td>M</td>\n",
       "      <td>0</td>\n",
       "    </tr>\n",
       "    <tr>\n",
       "      <th>4</th>\n",
       "      <td>58</td>\n",
       "      <td>M</td>\n",
       "      <td>1</td>\n",
       "    </tr>\n",
       "    <tr>\n",
       "      <th>4</th>\n",
       "      <td>58</td>\n",
       "      <td>M</td>\n",
       "      <td>1</td>\n",
       "    </tr>\n",
       "    <tr>\n",
       "      <th>2</th>\n",
       "      <td>36</td>\n",
       "      <td>M</td>\n",
       "      <td>1</td>\n",
       "    </tr>\n",
       "    <tr>\n",
       "      <th>4</th>\n",
       "      <td>58</td>\n",
       "      <td>M</td>\n",
       "      <td>1</td>\n",
       "    </tr>\n",
       "    <tr>\n",
       "      <th>2</th>\n",
       "      <td>36</td>\n",
       "      <td>M</td>\n",
       "      <td>1</td>\n",
       "    </tr>\n",
       "  </tbody>\n",
       "</table>\n",
       "</div>"
      ],
      "text/plain": [
       "   edad genero  contratado\n",
       "0    22      F           1\n",
       "3    29      F           0\n",
       "0    22      F           1\n",
       "0    22      F           1\n",
       "0    22      F           1\n",
       "0    22      F           1\n",
       "0    22      F           1\n",
       "3    29      F           0\n",
       "3    29      F           0\n",
       "0    22      F           1\n",
       "4    58      M           1\n",
       "2    36      M           1\n",
       "4    58      M           1\n",
       "4    58      M           1\n",
       "1    45      M           0\n",
       "4    58      M           1\n",
       "4    58      M           1\n",
       "2    36      M           1\n",
       "4    58      M           1\n",
       "2    36      M           1"
      ]
     },
     "execution_count": 29,
     "metadata": {},
     "output_type": "execute_result"
    }
   ],
   "source": [
    "data_balanceada"
   ]
  },
  {
   "cell_type": "code",
   "execution_count": null,
   "id": "d7cf26dc",
   "metadata": {},
   "outputs": [],
   "source": []
  }
 ],
 "metadata": {
  "kernelspec": {
   "display_name": "base",
   "language": "python",
   "name": "python3"
  },
  "language_info": {
   "codemirror_mode": {
    "name": "ipython",
    "version": 3
   },
   "file_extension": ".py",
   "mimetype": "text/x-python",
   "name": "python",
   "nbconvert_exporter": "python",
   "pygments_lexer": "ipython3",
   "version": "3.13.5"
  }
 },
 "nbformat": 4,
 "nbformat_minor": 5
}
