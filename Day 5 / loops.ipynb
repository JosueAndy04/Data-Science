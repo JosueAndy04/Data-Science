{
 "cells": [
  {
   "cell_type": "code",
   "execution_count": 2,
   "id": "b519d4b7",
   "metadata": {},
   "outputs": [
    {
     "name": "stdout",
     "output_type": "stream",
     "text": [
      "0\n",
      "1\n",
      "2\n",
      "3\n",
      "4\n",
      "5\n"
     ]
    }
   ],
   "source": [
    "for numero in [0, 1, 2, 3, 4, 5]:\n",
    "    print(numero)"
   ]
  },
  {
   "cell_type": "code",
   "execution_count": 3,
   "id": "13b0c318",
   "metadata": {},
   "outputs": [
    {
     "name": "stdout",
     "output_type": "stream",
     "text": [
      "p\n",
      "y\n",
      "t\n",
      "h\n",
      "o\n",
      "n\n"
     ]
    }
   ],
   "source": [
    "for letra in 'python':\n",
    "    print(letra)"
   ]
  },
  {
   "cell_type": "code",
   "execution_count": 4,
   "id": "7f3ae4e8",
   "metadata": {},
   "outputs": [
    {
     "name": "stdout",
     "output_type": "stream",
     "text": [
      "argentina tiene 9 letras\n",
      "colombia tiene 8 letras\n",
      "peru tiene 4 letras\n",
      "mexico tiene 6 letras\n"
     ]
    }
   ],
   "source": [
    "paises = [\"argentina\", \"colombia\", \"peru\", \"mexico\"]\n",
    "\n",
    "for p in paises:\n",
    "    largo = len(p)\n",
    "    print(f'{p} tiene {largo} letras')"
   ]
  },
  {
   "cell_type": "code",
   "execution_count": 5,
   "id": "689da685",
   "metadata": {},
   "outputs": [
    {
     "name": "stdout",
     "output_type": "stream",
     "text": [
      "argentina tiene nombre largo\n",
      "colombia tiene nombre largo\n",
      "peru tiene nombre corto\n",
      "mexico tiene nombre corto\n"
     ]
    }
   ],
   "source": [
    "for p in paises:\n",
    "    if len(p) > 6:\n",
    "        print(f'{p} tiene nombre largo')\n",
    "    else:\n",
    "        print(f'{p} tiene nombre corto')"
   ]
  },
  {
   "cell_type": "code",
   "execution_count": 6,
   "id": "ebf0938d",
   "metadata": {},
   "outputs": [
    {
     "name": "stdout",
     "output_type": "stream",
     "text": [
      "rojo sombrero\n",
      "rojo pantalon\n",
      "rojo zapato\n",
      "verde sombrero\n",
      "verde pantalon\n",
      "verde zapato\n",
      "azul sombrero\n",
      "azul pantalon\n",
      "azul zapato\n"
     ]
    }
   ],
   "source": [
    "colores = [\"rojo\", \"verde\", \"azul\"]\n",
    "prendas = [\"sombrero\", \"pantalon\", \"zapato\"]\n",
    "\n",
    "for color in colores:\n",
    "    for prenda in prendas:\n",
    "        print(color, prenda)"
   ]
  },
  {
   "cell_type": "code",
   "execution_count": null,
   "id": "d865abbe",
   "metadata": {},
   "outputs": [],
   "source": []
  },
  {
   "cell_type": "markdown",
   "id": "62d8efb1",
   "metadata": {},
   "source": [
    "# Funcion range"
   ]
  },
  {
   "cell_type": "code",
   "execution_count": 7,
   "id": "0369e91a",
   "metadata": {},
   "outputs": [],
   "source": [
    "miRango = range(7)\n"
   ]
  },
  {
   "cell_type": "code",
   "execution_count": 8,
   "id": "d8db7bc5",
   "metadata": {},
   "outputs": [
    {
     "name": "stdout",
     "output_type": "stream",
     "text": [
      "0\n",
      "1\n",
      "2\n",
      "3\n",
      "4\n",
      "5\n",
      "6\n"
     ]
    }
   ],
   "source": [
    "for n in miRango:\n",
    "    print(n)"
   ]
  },
  {
   "cell_type": "code",
   "execution_count": 9,
   "id": "f65933dd",
   "metadata": {},
   "outputs": [
    {
     "name": "stdout",
     "output_type": "stream",
     "text": [
      "5\n",
      "6\n",
      "7\n",
      "8\n",
      "9\n"
     ]
    }
   ],
   "source": [
    "miRango = range(5,10)\n",
    "for n in miRango:\n",
    "    print(n)"
   ]
  },
  {
   "cell_type": "code",
   "execution_count": 10,
   "id": "d57f8c0a",
   "metadata": {},
   "outputs": [
    {
     "name": "stdout",
     "output_type": "stream",
     "text": [
      "5\n",
      "7\n",
      "9\n"
     ]
    }
   ],
   "source": [
    "miRango = range(5, 10, 2)\n",
    "for n in miRango:\n",
    "    print(n)"
   ]
  },
  {
   "cell_type": "code",
   "execution_count": 11,
   "id": "853599f5",
   "metadata": {},
   "outputs": [
    {
     "name": "stdout",
     "output_type": "stream",
     "text": [
      "0\n",
      "1\n",
      "2\n",
      "3\n",
      "4\n",
      "5\n",
      "6\n",
      "7\n",
      "8\n",
      "9\n"
     ]
    }
   ],
   "source": [
    "palabra = 'veterianio'\n",
    "for n in range(len(palabra)):\n",
    "    print(n)"
   ]
  },
  {
   "cell_type": "markdown",
   "id": "6bde7298",
   "metadata": {},
   "source": []
  },
  {
   "cell_type": "markdown",
   "id": "8b057909",
   "metadata": {},
   "source": [
    "# Loop While"
   ]
  },
  {
   "cell_type": "code",
   "execution_count": 12,
   "id": "138e01af",
   "metadata": {},
   "outputs": [
    {
     "name": "stdout",
     "output_type": "stream",
     "text": [
      "0\n",
      "1\n",
      "2\n",
      "3\n",
      "4\n"
     ]
    }
   ],
   "source": [
    "contador = 0\n",
    "\n",
    "while contador < 5:\n",
    "    print(contador)\n",
    "    contador += 1"
   ]
  },
  {
   "cell_type": "markdown",
   "id": "7e3eeb2c",
   "metadata": {},
   "source": [
    "# Funciones"
   ]
  },
  {
   "cell_type": "code",
   "execution_count": 13,
   "id": "69a1c456",
   "metadata": {},
   "outputs": [
    {
     "data": {
      "text/plain": [
       "(5, 5)"
      ]
     },
     "execution_count": 13,
     "metadata": {},
     "output_type": "execute_result"
    }
   ],
   "source": [
    "def pedir_numeros():\n",
    "    num1 = int(input('Primer numero: '))\n",
    "    num2 = int(input('Segundo numero: '))\n",
    "    return num1, num2\n",
    "\n",
    "pedir_numeros()"
   ]
  },
  {
   "cell_type": "code",
   "execution_count": null,
   "id": "49676c5d",
   "metadata": {},
   "outputs": [],
   "source": [
    "def solicitar_numero():\n",
    "    numero = int(input(\"Ingrese un número entero positivo: \"))\n",
    "    return numero\n",
    "    \n",
    "def calcular_factorial(n):\n",
    "    fac = 1\n",
    "    for n in range(1, n+1):\n",
    "        fac *= n\n",
    "    return fac\n",
    "\n",
    "def mostrar_resultado():\n",
    "    n = solicitar_numero()\n",
    "    resultado = calcular_factorial(n)\n",
    "    print(f'El factorial de {n} es {resultado}')"
   ]
  },
  {
   "cell_type": "code",
   "execution_count": 18,
   "id": "272bddf8",
   "metadata": {},
   "outputs": [
    {
     "name": "stdout",
     "output_type": "stream",
     "text": [
      "El factorial de 5 es 120\n"
     ]
    }
   ],
   "source": [
    "mostrar_resultado()"
   ]
  }
 ],
 "metadata": {
  "kernelspec": {
   "display_name": "base",
   "language": "python",
   "name": "python3"
  },
  "language_info": {
   "codemirror_mode": {
    "name": "ipython",
    "version": 3
   },
   "file_extension": ".py",
   "mimetype": "text/x-python",
   "name": "python",
   "nbconvert_exporter": "python",
   "pygments_lexer": "ipython3",
   "version": "3.12.7"
  }
 },
 "nbformat": 4,
 "nbformat_minor": 5
}
