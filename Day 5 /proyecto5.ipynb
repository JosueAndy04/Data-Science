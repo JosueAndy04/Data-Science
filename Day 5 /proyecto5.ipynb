{
 "cells": [
  {
   "cell_type": "markdown",
   "id": "035fd159",
   "metadata": {},
   "source": [
    "# Proyecto 5 Generador de tablas de multiplicar"
   ]
  },
  {
   "cell_type": "code",
   "execution_count": 7,
   "id": "4c1c624d",
   "metadata": {},
   "outputs": [],
   "source": [
    "def crear_tablas(n, m):\n",
    "    #for i in range(1, n + 1):\n",
    "    for j in range(1, m + 1):\n",
    "            print(f\"{n} x {j} = {n * j}\")"
   ]
  },
  {
   "cell_type": "code",
   "execution_count": 8,
   "id": "199a0de0",
   "metadata": {},
   "outputs": [],
   "source": [
    "def pedir():\n",
    "    try:\n",
    "        n = int(input('Ingresen el numero para multiplicar: '))\n",
    "        m = int(input('Ingresen el numero limite: '))\n",
    "        if n <= 0 or m<= 0:\n",
    "            raise ValueError('Los numeros deben ser mayores que cero')\n",
    "        crear_tablas(n, m)\n",
    "    except ValueError:\n",
    "        print(\"Por favor, ingrese un número entero válido.\")\n",
    "        return"
   ]
  },
  {
   "cell_type": "code",
   "execution_count": 9,
   "id": "89fd79e4",
   "metadata": {},
   "outputs": [],
   "source": [
    "def main():\n",
    "    while True:\n",
    "        pedir()\n",
    "        continuar = input('Desea seguir? (s/n): ')\n",
    "        if continuar.lower() != 's':\n",
    "            print('Gracias')\n",
    "            break"
   ]
  },
  {
   "cell_type": "code",
   "execution_count": 10,
   "id": "52b83d58",
   "metadata": {},
   "outputs": [
    {
     "name": "stdout",
     "output_type": "stream",
     "text": [
      "5 x 1 = 5\n",
      "5 x 2 = 10\n",
      "5 x 3 = 15\n",
      "4 x 1 = 4\n",
      "4 x 2 = 8\n",
      "4 x 3 = 12\n",
      "4 x 4 = 16\n",
      "Gracias\n"
     ]
    }
   ],
   "source": [
    "main()"
   ]
  }
 ],
 "metadata": {
  "kernelspec": {
   "display_name": "base",
   "language": "python",
   "name": "python3"
  },
  "language_info": {
   "codemirror_mode": {
    "name": "ipython",
    "version": 3
   },
   "file_extension": ".py",
   "mimetype": "text/x-python",
   "name": "python",
   "nbconvert_exporter": "python",
   "pygments_lexer": "ipython3",
   "version": "3.12.7"
  }
 },
 "nbformat": 4,
 "nbformat_minor": 5
}
