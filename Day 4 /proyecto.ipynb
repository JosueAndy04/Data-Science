{
 "cells": [
  {
   "cell_type": "markdown",
   "id": "39c970d3",
   "metadata": {},
   "source": [
    "Agenda de contactos"
   ]
  },
  {
   "cell_type": "code",
   "execution_count": 8,
   "id": "941b2432",
   "metadata": {},
   "outputs": [],
   "source": [
    "#agenda vacia\n",
    "agenda = {}"
   ]
  },
  {
   "cell_type": "code",
   "execution_count": 39,
   "id": "b455ecd3",
   "metadata": {},
   "outputs": [
    {
     "name": "stdout",
     "output_type": "stream",
     "text": [
      "1. Add contacto\n",
      "2. Buscar contacto\n",
      "3. Editar contacto\n",
      "4. Eliminar contacto\n",
      "5. Mostrar todos los contacto\n",
      "Contactos\n",
      "Nombre: Andertson, Telefono: 4\n",
      "Nombre: Josue, Telefono: 0989\n",
      "Nombre: Anderson, Telefono: 0999999999\n"
     ]
    }
   ],
   "source": [
    "#Elegir opciones\n",
    "print(\"1. Add contacto\")\n",
    "print(\"2. Buscar contacto\")\n",
    "print(\"3. Editar contacto\")\n",
    "print(\"4. Eliminar contacto\")\n",
    "print(\"5. Mostrar todos los contacto\")\n",
    "\n",
    "op = int(input('Elige una opcion: '))\n",
    "\n",
    "if op == 1:\n",
    "    print('Agregar contacto')\n",
    "    nombre = input('Nombre: ')\n",
    "    telefono = input('Telefono: ')\n",
    "    agenda[nombre] = telefono\n",
    "elif op == 2:\n",
    "    print('Buscar contacto')\n",
    "    nombre = input('Nombre')\n",
    "    if nombre in agenda:\n",
    "        print(f'Contacto: {nombre}, Telefono: {agenda[nombre]}')\n",
    "    else:\n",
    "        print('NO existe el contacto')\n",
    "elif op == 3:\n",
    "    print('Editar contacto')\n",
    "    nombre = input('Nombre')\n",
    "    if nombre in agenda:\n",
    "        telefono = input('Nuevo Telefono: ')\n",
    "        agenda.update({nombre: telefono})\n",
    "        print(f'Contacto: {nombre}, Telefono: {agenda[nombre]}')\n",
    "    else:\n",
    "        print('NO existe el contacto')\n",
    "elif op == 4:\n",
    "    print('Eliminar contacto')\n",
    "    nombre = input('Nombre')\n",
    "    if nombre in agenda:\n",
    "        agenda.pop(nombre)\n",
    "        print('El contacto ha sido eliminado')\n",
    "    else:\n",
    "        print('NO existe el contacto')\n",
    "elif op == 5:\n",
    "    print('Contactos')\n",
    "    for nombre, telefono in agenda.items():\n",
    "        print(f'Nombre: {nombre}, Telefono: {telefono}')\n"
   ]
  }
 ],
 "metadata": {
  "kernelspec": {
   "display_name": "base",
   "language": "python",
   "name": "python3"
  },
  "language_info": {
   "codemirror_mode": {
    "name": "ipython",
    "version": 3
   },
   "file_extension": ".py",
   "mimetype": "text/x-python",
   "name": "python",
   "nbconvert_exporter": "python",
   "pygments_lexer": "ipython3",
   "version": "3.12.7"
  }
 },
 "nbformat": 4,
 "nbformat_minor": 5
}
