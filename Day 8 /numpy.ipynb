{
 "cells": [
  {
   "cell_type": "markdown",
   "id": "5452f80c",
   "metadata": {},
   "source": [
    "## Numpy"
   ]
  },
  {
   "cell_type": "code",
   "execution_count": 13,
   "id": "e1003207",
   "metadata": {},
   "outputs": [],
   "source": [
    "import numpy as np\n",
    "import pandas as pd\n",
    "import time"
   ]
  },
  {
   "cell_type": "code",
   "execution_count": 2,
   "id": "72312103",
   "metadata": {},
   "outputs": [
    {
     "data": {
      "text/html": [
       "<div>\n",
       "<style scoped>\n",
       "    .dataframe tbody tr th:only-of-type {\n",
       "        vertical-align: middle;\n",
       "    }\n",
       "\n",
       "    .dataframe tbody tr th {\n",
       "        vertical-align: top;\n",
       "    }\n",
       "\n",
       "    .dataframe thead th {\n",
       "        text-align: right;\n",
       "    }\n",
       "</style>\n",
       "<table border=\"1\" class=\"dataframe\">\n",
       "  <thead>\n",
       "    <tr style=\"text-align: right;\">\n",
       "      <th></th>\n",
       "      <th>Ciudad</th>\n",
       "      <th>País</th>\n",
       "      <th>Población</th>\n",
       "      <th>Visitantes</th>\n",
       "    </tr>\n",
       "  </thead>\n",
       "  <tbody>\n",
       "    <tr>\n",
       "      <th>0</th>\n",
       "      <td>Ciudad de México</td>\n",
       "      <td>México</td>\n",
       "      <td>9265833</td>\n",
       "      <td>21000000</td>\n",
       "    </tr>\n",
       "    <tr>\n",
       "      <th>1</th>\n",
       "      <td>Buenos Aires</td>\n",
       "      <td>Argentina</td>\n",
       "      <td>3059574</td>\n",
       "      <td>15000000</td>\n",
       "    </tr>\n",
       "    <tr>\n",
       "      <th>2</th>\n",
       "      <td>Río de Janeiro</td>\n",
       "      <td>Brasil</td>\n",
       "      <td>6748314</td>\n",
       "      <td>13000000</td>\n",
       "    </tr>\n",
       "    <tr>\n",
       "      <th>3</th>\n",
       "      <td>Lima</td>\n",
       "      <td>Perú</td>\n",
       "      <td>9756020</td>\n",
       "      <td>9000000</td>\n",
       "    </tr>\n",
       "    <tr>\n",
       "      <th>4</th>\n",
       "      <td>Bogotá</td>\n",
       "      <td>Colombia</td>\n",
       "      <td>7181663</td>\n",
       "      <td>8000000</td>\n",
       "    </tr>\n",
       "    <tr>\n",
       "      <th>5</th>\n",
       "      <td>Santiago de Chile</td>\n",
       "      <td>Chile</td>\n",
       "      <td>6199241</td>\n",
       "      <td>7500000</td>\n",
       "    </tr>\n",
       "    <tr>\n",
       "      <th>6</th>\n",
       "      <td>São Paulo</td>\n",
       "      <td>Brasil</td>\n",
       "      <td>12333146</td>\n",
       "      <td>20000000</td>\n",
       "    </tr>\n",
       "    <tr>\n",
       "      <th>7</th>\n",
       "      <td>La Habana</td>\n",
       "      <td>Cuba</td>\n",
       "      <td>2164182</td>\n",
       "      <td>4000000</td>\n",
       "    </tr>\n",
       "    <tr>\n",
       "      <th>8</th>\n",
       "      <td>Cancún</td>\n",
       "      <td>México</td>\n",
       "      <td>888124</td>\n",
       "      <td>5000000</td>\n",
       "    </tr>\n",
       "    <tr>\n",
       "      <th>9</th>\n",
       "      <td>Cartagena</td>\n",
       "      <td>Colombia</td>\n",
       "      <td>1036671</td>\n",
       "      <td>3000000</td>\n",
       "    </tr>\n",
       "  </tbody>\n",
       "</table>\n",
       "</div>"
      ],
      "text/plain": [
       "              Ciudad       País  Población  Visitantes\n",
       "0   Ciudad de México     México    9265833    21000000\n",
       "1       Buenos Aires  Argentina    3059574    15000000\n",
       "2     Río de Janeiro     Brasil    6748314    13000000\n",
       "3               Lima       Perú    9756020     9000000\n",
       "4             Bogotá   Colombia    7181663     8000000\n",
       "5  Santiago de Chile      Chile    6199241     7500000\n",
       "6          São Paulo     Brasil   12333146    20000000\n",
       "7          La Habana       Cuba    2164182     4000000\n",
       "8             Cancún     México     888124     5000000\n",
       "9          Cartagena   Colombia    1036671     3000000"
      ]
     },
     "execution_count": 2,
     "metadata": {},
     "output_type": "execute_result"
    }
   ],
   "source": [
    "ruta = '/home/anderson-josue/Documents/Data Science/Day 8 /Ciudades_Visitadas_Latinoamerica_2023.csv'\n",
    "df = pd.read_csv(ruta)\n",
    "df"
   ]
  },
  {
   "cell_type": "code",
   "execution_count": 3,
   "id": "e617b371",
   "metadata": {},
   "outputs": [
    {
     "data": {
      "text/plain": [
       "5863276.8"
      ]
     },
     "execution_count": 3,
     "metadata": {},
     "output_type": "execute_result"
    }
   ],
   "source": [
    "df['Población'].mean()"
   ]
  },
  {
   "cell_type": "code",
   "execution_count": 5,
   "id": "212e500b",
   "metadata": {},
   "outputs": [
    {
     "data": {
      "text/plain": [
       "5863277.0"
      ]
     },
     "execution_count": 5,
     "metadata": {},
     "output_type": "execute_result"
    }
   ],
   "source": [
    "np.round(df['Población'].mean())"
   ]
  },
  {
   "cell_type": "code",
   "execution_count": 6,
   "id": "cca9a39f",
   "metadata": {},
   "outputs": [
    {
     "data": {
      "text/plain": [
       "888124"
      ]
     },
     "execution_count": 6,
     "metadata": {},
     "output_type": "execute_result"
    }
   ],
   "source": [
    "np.min(df['Población'])"
   ]
  },
  {
   "cell_type": "code",
   "execution_count": 7,
   "id": "9a57bfcc",
   "metadata": {},
   "outputs": [
    {
     "data": {
      "text/plain": [
       "12333146"
      ]
     },
     "execution_count": 7,
     "metadata": {},
     "output_type": "execute_result"
    }
   ],
   "source": [
    "np.max(df['Población'])"
   ]
  },
  {
   "cell_type": "code",
   "execution_count": 9,
   "id": "ca927722",
   "metadata": {},
   "outputs": [
    {
     "data": {
      "text/plain": [
       "array([1, 2, 3, 4, 5])"
      ]
     },
     "execution_count": 9,
     "metadata": {},
     "output_type": "execute_result"
    }
   ],
   "source": [
    "mi_array = np.array([1, 2, 3, 4, 5])\n",
    "mi_array"
   ]
  },
  {
   "cell_type": "code",
   "execution_count": 10,
   "id": "c18c1b61",
   "metadata": {},
   "outputs": [
    {
     "data": {
      "text/plain": [
       "numpy.ndarray"
      ]
     },
     "execution_count": 10,
     "metadata": {},
     "output_type": "execute_result"
    }
   ],
   "source": [
    "type(mi_array)"
   ]
  },
  {
   "cell_type": "code",
   "execution_count": 11,
   "id": "27f9aa04",
   "metadata": {},
   "outputs": [],
   "source": [
    "lista_grande = list(range(1000000))\n",
    "array_grande = np.array(lista_grande)"
   ]
  },
  {
   "cell_type": "code",
   "execution_count": 12,
   "id": "951b6875",
   "metadata": {},
   "outputs": [
    {
     "data": {
      "text/plain": [
       "numpy.ndarray"
      ]
     },
     "execution_count": 12,
     "metadata": {},
     "output_type": "execute_result"
    }
   ],
   "source": [
    "type(lista_grande)\n",
    "type(array_grande)"
   ]
  },
  {
   "cell_type": "code",
   "execution_count": 15,
   "id": "aff987db",
   "metadata": {},
   "outputs": [
    {
     "name": "stdout",
     "output_type": "stream",
     "text": [
      "0.07504630088806152\n"
     ]
    }
   ],
   "source": [
    "inicio = time.time()\n",
    "for i in lista_grande:\n",
    "    i ** 2\n",
    "fin = time.time()\n",
    "print(fin - inicio)"
   ]
  },
  {
   "cell_type": "code",
   "execution_count": 17,
   "id": "67518c63",
   "metadata": {},
   "outputs": [
    {
     "name": "stdout",
     "output_type": "stream",
     "text": [
      "0.007486581802368164\n"
     ]
    }
   ],
   "source": [
    "inicio = time.time()\n",
    "array_grande ** 2\n",
    "fin = time.time()\n",
    "print(fin - inicio)"
   ]
  },
  {
   "cell_type": "code",
   "execution_count": 19,
   "id": "eb325167",
   "metadata": {},
   "outputs": [],
   "source": [
    "array = np.array([1, 2, 3])"
   ]
  },
  {
   "cell_type": "code",
   "execution_count": 20,
   "id": "e1aea28e",
   "metadata": {},
   "outputs": [
    {
     "data": {
      "text/plain": [
       "3"
      ]
     },
     "execution_count": 20,
     "metadata": {},
     "output_type": "execute_result"
    }
   ],
   "source": [
    "len(array)"
   ]
  },
  {
   "cell_type": "code",
   "execution_count": 21,
   "id": "1b4a86be",
   "metadata": {},
   "outputs": [
    {
     "data": {
      "text/plain": [
       "(3,)"
      ]
     },
     "execution_count": 21,
     "metadata": {},
     "output_type": "execute_result"
    }
   ],
   "source": [
    "array.shape"
   ]
  },
  {
   "cell_type": "code",
   "execution_count": 22,
   "id": "dce47200",
   "metadata": {},
   "outputs": [
    {
     "data": {
      "text/plain": [
       "array([[1, 2, 3],\n",
       "       [4, 5, 6]])"
      ]
     },
     "execution_count": 22,
     "metadata": {},
     "output_type": "execute_result"
    }
   ],
   "source": [
    "array_2d = np.array([[1, 2, 3], [4, 5, 6]])\n",
    "array_2d"
   ]
  },
  {
   "cell_type": "code",
   "execution_count": 23,
   "id": "36a502e6",
   "metadata": {},
   "outputs": [
    {
     "data": {
      "text/plain": [
       "(2, 3)"
      ]
     },
     "execution_count": 23,
     "metadata": {},
     "output_type": "execute_result"
    }
   ],
   "source": [
    "array_2d.shape"
   ]
  },
  {
   "cell_type": "code",
   "execution_count": 25,
   "id": "7ce2a814",
   "metadata": {},
   "outputs": [],
   "source": [
    "x = [1, 2, 3]\n",
    "y = [1, 2, 3]\n",
    "z = [1, 2, 3]"
   ]
  },
  {
   "cell_type": "code",
   "execution_count": 27,
   "id": "5b52e328",
   "metadata": {},
   "outputs": [
    {
     "data": {
      "text/plain": [
       "array([1, 2, 3, 1, 2, 3, 1, 2, 3])"
      ]
     },
     "execution_count": 27,
     "metadata": {},
     "output_type": "execute_result"
    }
   ],
   "source": [
    "np.concatenate([x, y, z])"
   ]
  },
  {
   "cell_type": "code",
   "execution_count": 28,
   "id": "01ab3324",
   "metadata": {},
   "outputs": [],
   "source": [
    "a = [[1, 2], [3, 4]]\n",
    "b = [[5, 6], [7, 8]]\n"
   ]
  },
  {
   "cell_type": "code",
   "execution_count": 29,
   "id": "1ae239ec",
   "metadata": {},
   "outputs": [
    {
     "data": {
      "text/plain": [
       "array([[1, 2, 5, 6],\n",
       "       [3, 4, 7, 8]])"
      ]
     },
     "execution_count": 29,
     "metadata": {},
     "output_type": "execute_result"
    }
   ],
   "source": [
    "np.concatenate([a, b], axis=1)"
   ]
  },
  {
   "cell_type": "code",
   "execution_count": 32,
   "id": "1c8e4f4a",
   "metadata": {},
   "outputs": [
    {
     "data": {
      "text/plain": [
       "array([[1, 2],\n",
       "       [3, 4],\n",
       "       [5, 6],\n",
       "       [7, 8]])"
      ]
     },
     "execution_count": 32,
     "metadata": {},
     "output_type": "execute_result"
    }
   ],
   "source": [
    "array_concatenado = np.concatenate([a, b], axis=0)\n",
    "array_concatenado"
   ]
  },
  {
   "cell_type": "code",
   "execution_count": 33,
   "id": "9ca74832",
   "metadata": {},
   "outputs": [
    {
     "data": {
      "text/plain": [
       "(4, 2)"
      ]
     },
     "execution_count": 33,
     "metadata": {},
     "output_type": "execute_result"
    }
   ],
   "source": [
    "array_concatenado.shape"
   ]
  },
  {
   "cell_type": "code",
   "execution_count": 36,
   "id": "3cfdc81d",
   "metadata": {},
   "outputs": [
    {
     "data": {
      "text/plain": [
       "array([[1, 2, 3, 4],\n",
       "       [5, 6, 7, 8]])"
      ]
     },
     "execution_count": 36,
     "metadata": {},
     "output_type": "execute_result"
    }
   ],
   "source": [
    "array_reformado = array_concatenado.reshape(2,4)\n",
    "array_reformado"
   ]
  },
  {
   "cell_type": "code",
   "execution_count": 38,
   "id": "fbb935c5",
   "metadata": {},
   "outputs": [
    {
     "data": {
      "text/plain": [
       "array([[ 2,  4,  6,  8],\n",
       "       [10, 12, 14, 16]])"
      ]
     },
     "execution_count": 38,
     "metadata": {},
     "output_type": "execute_result"
    }
   ],
   "source": [
    "array_sumado = array_reformado + array_reformado\n",
    "array_sumado"
   ]
  },
  {
   "cell_type": "code",
   "execution_count": 39,
   "id": "2b78f0ab",
   "metadata": {},
   "outputs": [
    {
     "data": {
      "text/plain": [
       "array([[ 1,  4,  9, 16],\n",
       "       [25, 36, 49, 64]])"
      ]
     },
     "execution_count": 39,
     "metadata": {},
     "output_type": "execute_result"
    }
   ],
   "source": [
    "array_multi = array_reformado * array_reformado\n",
    "array_multi"
   ]
  },
  {
   "cell_type": "code",
   "execution_count": 41,
   "id": "22ccdcab",
   "metadata": {},
   "outputs": [
    {
     "data": {
      "text/plain": [
       "array([[1., 2., 3., 4.],\n",
       "       [5., 6., 7., 8.]])"
      ]
     },
     "execution_count": 41,
     "metadata": {},
     "output_type": "execute_result"
    }
   ],
   "source": [
    "raices = np.sqrt(array_multi)\n",
    "raices"
   ]
  },
  {
   "cell_type": "code",
   "execution_count": 42,
   "id": "1ee12080",
   "metadata": {},
   "outputs": [
    {
     "data": {
      "text/plain": [
       "array([1, 2, 3, 4, 5, 6])"
      ]
     },
     "execution_count": 42,
     "metadata": {},
     "output_type": "execute_result"
    }
   ],
   "source": [
    "array_original = np.array([1,2,3,4,5,6])\n",
    "array_original"
   ]
  },
  {
   "cell_type": "code",
   "execution_count": 43,
   "id": "78281172",
   "metadata": {},
   "outputs": [
    {
     "data": {
      "text/plain": [
       "array([[1, 2, 3],\n",
       "       [4, 5, 6]])"
      ]
     },
     "execution_count": 43,
     "metadata": {},
     "output_type": "execute_result"
    }
   ],
   "source": [
    "array_reshaped = array_original.reshape(2,3)\n",
    "array_reshaped"
   ]
  },
  {
   "cell_type": "code",
   "execution_count": 44,
   "id": "e8fb256a",
   "metadata": {},
   "outputs": [],
   "source": [
    "array1d = np.array([1, 2, 3, 4, 5])"
   ]
  },
  {
   "cell_type": "code",
   "execution_count": 45,
   "id": "6d21f7e4",
   "metadata": {},
   "outputs": [
    {
     "data": {
      "text/plain": [
       "array([[1, 2, 3],\n",
       "       [4, 5, 6],\n",
       "       [7, 8, 9]])"
      ]
     },
     "execution_count": 45,
     "metadata": {},
     "output_type": "execute_result"
    }
   ],
   "source": [
    "array2d = np.array([[1, 2, 3], [4, 5, 6], [7, 8, 9]])\n",
    "array2d"
   ]
  },
  {
   "cell_type": "code",
   "execution_count": 46,
   "id": "883abc00",
   "metadata": {},
   "outputs": [
    {
     "data": {
      "text/plain": [
       "1"
      ]
     },
     "execution_count": 46,
     "metadata": {},
     "output_type": "execute_result"
    }
   ],
   "source": [
    "array1d[0]"
   ]
  },
  {
   "cell_type": "code",
   "execution_count": 48,
   "id": "614c1ce9",
   "metadata": {},
   "outputs": [
    {
     "data": {
      "text/plain": [
       "2"
      ]
     },
     "execution_count": 48,
     "metadata": {},
     "output_type": "execute_result"
    }
   ],
   "source": [
    "array1d[1]\n"
   ]
  },
  {
   "cell_type": "code",
   "execution_count": 49,
   "id": "9e34541b",
   "metadata": {},
   "outputs": [
    {
     "data": {
      "text/plain": [
       "5"
      ]
     },
     "execution_count": 49,
     "metadata": {},
     "output_type": "execute_result"
    }
   ],
   "source": [
    "array1d[-1]"
   ]
  },
  {
   "cell_type": "code",
   "execution_count": 50,
   "id": "558b66ca",
   "metadata": {},
   "outputs": [
    {
     "data": {
      "text/plain": [
       "array([1, 2, 3])"
      ]
     },
     "execution_count": 50,
     "metadata": {},
     "output_type": "execute_result"
    }
   ],
   "source": [
    "array2d[0]"
   ]
  },
  {
   "cell_type": "code",
   "execution_count": 51,
   "id": "8e0a6b05",
   "metadata": {},
   "outputs": [
    {
     "data": {
      "text/plain": [
       "array([4, 5, 6])"
      ]
     },
     "execution_count": 51,
     "metadata": {},
     "output_type": "execute_result"
    }
   ],
   "source": [
    "array2d[1]"
   ]
  },
  {
   "cell_type": "code",
   "execution_count": 52,
   "id": "accb9553",
   "metadata": {},
   "outputs": [
    {
     "data": {
      "text/plain": [
       "array([7, 8, 9])"
      ]
     },
     "execution_count": 52,
     "metadata": {},
     "output_type": "execute_result"
    }
   ],
   "source": [
    "array2d[2]"
   ]
  },
  {
   "cell_type": "code",
   "execution_count": 53,
   "id": "6d2f7b7d",
   "metadata": {},
   "outputs": [
    {
     "data": {
      "text/plain": [
       "6"
      ]
     },
     "execution_count": 53,
     "metadata": {},
     "output_type": "execute_result"
    }
   ],
   "source": [
    "array2d[1][2]"
   ]
  },
  {
   "cell_type": "code",
   "execution_count": 54,
   "id": "23b5dd5f",
   "metadata": {},
   "outputs": [
    {
     "data": {
      "text/plain": [
       "array([2, 3, 4])"
      ]
     },
     "execution_count": 54,
     "metadata": {},
     "output_type": "execute_result"
    }
   ],
   "source": [
    "array1d[1:4]"
   ]
  },
  {
   "cell_type": "code",
   "execution_count": 55,
   "id": "7b29369b",
   "metadata": {},
   "outputs": [
    {
     "data": {
      "text/plain": [
       "array([4, 5, 6])"
      ]
     },
     "execution_count": 55,
     "metadata": {},
     "output_type": "execute_result"
    }
   ],
   "source": [
    "array2d[1, :]"
   ]
  },
  {
   "cell_type": "code",
   "execution_count": 56,
   "id": "a2fa9e3a",
   "metadata": {},
   "outputs": [
    {
     "data": {
      "text/plain": [
       "array([5, 6])"
      ]
     },
     "execution_count": 56,
     "metadata": {},
     "output_type": "execute_result"
    }
   ],
   "source": [
    "array2d[1, 1:3]"
   ]
  },
  {
   "cell_type": "code",
   "execution_count": 58,
   "id": "eec67a84",
   "metadata": {},
   "outputs": [
    {
     "data": {
      "text/plain": [
       "array([1, 4, 7])"
      ]
     },
     "execution_count": 58,
     "metadata": {},
     "output_type": "execute_result"
    }
   ],
   "source": [
    "array2d[:, 0]"
   ]
  },
  {
   "cell_type": "code",
   "execution_count": 59,
   "id": "e99206b0",
   "metadata": {},
   "outputs": [
    {
     "data": {
      "text/plain": [
       "array([[1, 2],\n",
       "       [4, 5]])"
      ]
     },
     "execution_count": 59,
     "metadata": {},
     "output_type": "execute_result"
    }
   ],
   "source": [
    "array2d[:2, :2]"
   ]
  },
  {
   "cell_type": "code",
   "execution_count": 60,
   "id": "6b64f730",
   "metadata": {},
   "outputs": [
    {
     "data": {
      "text/plain": [
       "array([False, False, False,  True,  True])"
      ]
     },
     "execution_count": 60,
     "metadata": {},
     "output_type": "execute_result"
    }
   ],
   "source": [
    "array1d > 3"
   ]
  },
  {
   "cell_type": "code",
   "execution_count": 61,
   "id": "ad2678e5",
   "metadata": {},
   "outputs": [
    {
     "data": {
      "text/plain": [
       "array([[False,  True, False],\n",
       "       [ True, False,  True],\n",
       "       [False,  True, False]])"
      ]
     },
     "execution_count": 61,
     "metadata": {},
     "output_type": "execute_result"
    }
   ],
   "source": [
    "array2d % 2 == 0"
   ]
  },
  {
   "cell_type": "code",
   "execution_count": 63,
   "id": "d9c5df8d",
   "metadata": {},
   "outputs": [
    {
     "data": {
      "text/plain": [
       "array([[7, 8, 9]])"
      ]
     },
     "execution_count": 63,
     "metadata": {},
     "output_type": "execute_result"
    }
   ],
   "source": [
    "numeros = np.array([[1,2,3],\n",
    "                    [4,5,6],\n",
    "                    [7,8,9]])\n",
    "segunda_fila = numeros[2:]\n",
    "segunda_fila"
   ]
  },
  {
   "cell_type": "code",
   "execution_count": 64,
   "id": "c419db5a",
   "metadata": {},
   "outputs": [
    {
     "data": {
      "text/plain": [
       "array([1, 2, 3, 4, 5, 6, 7, 8, 9])"
      ]
     },
     "execution_count": 64,
     "metadata": {},
     "output_type": "execute_result"
    }
   ],
   "source": [
    "array = np.array([1,2,3,4,5,6,7,8,9])\n",
    "array"
   ]
  },
  {
   "cell_type": "code",
   "execution_count": 65,
   "id": "dfe81ada",
   "metadata": {},
   "outputs": [
    {
     "data": {
      "text/plain": [
       "(9,)"
      ]
     },
     "execution_count": 65,
     "metadata": {},
     "output_type": "execute_result"
    }
   ],
   "source": [
    "array.shape"
   ]
  },
  {
   "cell_type": "code",
   "execution_count": 66,
   "id": "09120359",
   "metadata": {},
   "outputs": [
    {
     "data": {
      "text/plain": [
       "array([[1, 2, 3],\n",
       "       [4, 5, 6],\n",
       "       [7, 8, 9]])"
      ]
     },
     "execution_count": 66,
     "metadata": {},
     "output_type": "execute_result"
    }
   ],
   "source": [
    "array_modificado = array.reshape(3, 3)\n",
    "array_modificado"
   ]
  },
  {
   "cell_type": "code",
   "execution_count": 68,
   "id": "1695a23c",
   "metadata": {},
   "outputs": [
    {
     "data": {
      "text/plain": [
       "array([[1, 2, 3],\n",
       "       [4, 5, 6],\n",
       "       [7, 8, 9]])"
      ]
     },
     "execution_count": 68,
     "metadata": {},
     "output_type": "execute_result"
    }
   ],
   "source": [
    "array_mod2 = array.reshape(-1, 3)\n",
    "array_mod2"
   ]
  },
  {
   "cell_type": "code",
   "execution_count": 70,
   "id": "53c768d0",
   "metadata": {},
   "outputs": [
    {
     "data": {
      "text/plain": [
       "array([[1, 4, 7],\n",
       "       [2, 5, 8],\n",
       "       [3, 6, 9]])"
      ]
     },
     "execution_count": 70,
     "metadata": {},
     "output_type": "execute_result"
    }
   ],
   "source": [
    "array_t = array_mod2.transpose()\n",
    "array_t"
   ]
  },
  {
   "cell_type": "code",
   "execution_count": 72,
   "id": "0bac8fca",
   "metadata": {},
   "outputs": [
    {
     "data": {
      "text/plain": [
       "array([1, 4, 7, 2, 5, 8, 3, 6, 9])"
      ]
     },
     "execution_count": 72,
     "metadata": {},
     "output_type": "execute_result"
    }
   ],
   "source": [
    "array_chato = array_t.flatten()\n",
    "array_chato"
   ]
  },
  {
   "cell_type": "code",
   "execution_count": 73,
   "id": "c6335511",
   "metadata": {},
   "outputs": [
    {
     "data": {
      "text/plain": [
       "array([1, 4, 7, 2, 5, 8, 3, 6, 9])"
      ]
     },
     "execution_count": 73,
     "metadata": {},
     "output_type": "execute_result"
    }
   ],
   "source": [
    "array_ravel = array_t.ravel()\n",
    "array_ravel"
   ]
  },
  {
   "cell_type": "code",
   "execution_count": 74,
   "id": "07194af5",
   "metadata": {},
   "outputs": [
    {
     "data": {
      "text/plain": [
       "array([1, 2, 3])"
      ]
     },
     "execution_count": 74,
     "metadata": {},
     "output_type": "execute_result"
    }
   ],
   "source": [
    "array1 = np.array([1, 2, 3])\n",
    "array1"
   ]
  },
  {
   "cell_type": "code",
   "execution_count": 75,
   "id": "db048adb",
   "metadata": {},
   "outputs": [
    {
     "data": {
      "text/plain": [
       "array([[ 0],\n",
       "       [10],\n",
       "       [20],\n",
       "       [30]])"
      ]
     },
     "execution_count": 75,
     "metadata": {},
     "output_type": "execute_result"
    }
   ],
   "source": [
    "array2 = np.array([[0],[10],[20],[30]])\n",
    "array2"
   ]
  },
  {
   "cell_type": "code",
   "execution_count": 77,
   "id": "9d4fdc8e",
   "metadata": {},
   "outputs": [
    {
     "data": {
      "text/plain": [
       "array([[ 1,  2,  3],\n",
       "       [11, 12, 13],\n",
       "       [21, 22, 23],\n",
       "       [31, 32, 33]])"
      ]
     },
     "execution_count": 77,
     "metadata": {},
     "output_type": "execute_result"
    }
   ],
   "source": [
    "broadcaast_suma = array2 + array1\n",
    "broadcaast_suma"
   ]
  },
  {
   "cell_type": "code",
   "execution_count": 78,
   "id": "a8d89036",
   "metadata": {},
   "outputs": [
    {
     "data": {
      "text/plain": [
       "array([[ 0,  0,  0],\n",
       "       [10, 20, 30],\n",
       "       [20, 40, 60],\n",
       "       [30, 60, 90]])"
      ]
     },
     "execution_count": 78,
     "metadata": {},
     "output_type": "execute_result"
    }
   ],
   "source": [
    "broadcaast_multi = array2 * array1\n",
    "broadcaast_multi"
   ]
  },
  {
   "cell_type": "code",
   "execution_count": 79,
   "id": "d366382d",
   "metadata": {},
   "outputs": [],
   "source": [
    "a = np.array([1, 2, 3])\n",
    "b = np.array([4, 5, 6])"
   ]
  },
  {
   "cell_type": "code",
   "execution_count": 80,
   "id": "d0b8eec3",
   "metadata": {},
   "outputs": [
    {
     "data": {
      "text/plain": [
       "array([5, 7, 9])"
      ]
     },
     "execution_count": 80,
     "metadata": {},
     "output_type": "execute_result"
    }
   ],
   "source": [
    "resultado = np.add(a, b)\n",
    "resultado"
   ]
  },
  {
   "cell_type": "code",
   "execution_count": 81,
   "id": "fba42a59",
   "metadata": {},
   "outputs": [],
   "source": [
    "# substract, multiply, divide"
   ]
  },
  {
   "cell_type": "code",
   "execution_count": 82,
   "id": "bffb198d",
   "metadata": {},
   "outputs": [
    {
     "data": {
      "text/plain": [
       "array([ 2.71828183,  7.3890561 , 20.08553692])"
      ]
     },
     "execution_count": 82,
     "metadata": {},
     "output_type": "execute_result"
    }
   ],
   "source": [
    "resultado2 = np.exp(a)\n",
    "resultado2"
   ]
  },
  {
   "cell_type": "code",
   "execution_count": 83,
   "id": "dbfed005",
   "metadata": {},
   "outputs": [
    {
     "data": {
      "text/plain": [
       "array([0.        , 0.69314718, 1.09861229])"
      ]
     },
     "execution_count": 83,
     "metadata": {},
     "output_type": "execute_result"
    }
   ],
   "source": [
    "resultado3 = np.log(a)\n",
    "resultado3"
   ]
  },
  {
   "cell_type": "code",
   "execution_count": 84,
   "id": "66f15cd1",
   "metadata": {},
   "outputs": [
    {
     "data": {
      "text/plain": [
       "array([1.        , 1.41421356, 1.73205081])"
      ]
     },
     "execution_count": 84,
     "metadata": {},
     "output_type": "execute_result"
    }
   ],
   "source": [
    "resultado4 = np.sqrt(a)\n",
    "resultado4"
   ]
  },
  {
   "cell_type": "code",
   "execution_count": 85,
   "id": "f17f312d",
   "metadata": {},
   "outputs": [
    {
     "data": {
      "text/plain": [
       "array([ 1.,  2., nan,  4.,  5.])"
      ]
     },
     "execution_count": 85,
     "metadata": {},
     "output_type": "execute_result"
    }
   ],
   "source": [
    "array = np.array([1, 2, np.nan, 4, 5])\n",
    "array"
   ]
  },
  {
   "cell_type": "code",
   "execution_count": 86,
   "id": "cb981a3c",
   "metadata": {},
   "outputs": [
    {
     "data": {
      "text/plain": [
       "array([False, False,  True, False, False])"
      ]
     },
     "execution_count": 86,
     "metadata": {},
     "output_type": "execute_result"
    }
   ],
   "source": [
    "np.isnan(array)"
   ]
  },
  {
   "cell_type": "code",
   "execution_count": 87,
   "id": "b7fd4385",
   "metadata": {},
   "outputs": [
    {
     "data": {
      "text/plain": [
       "nan"
      ]
     },
     "execution_count": 87,
     "metadata": {},
     "output_type": "execute_result"
    }
   ],
   "source": [
    "np.mean(array)"
   ]
  },
  {
   "cell_type": "code",
   "execution_count": 88,
   "id": "8863ce26",
   "metadata": {},
   "outputs": [
    {
     "data": {
      "text/plain": [
       "3.0"
      ]
     },
     "execution_count": 88,
     "metadata": {},
     "output_type": "execute_result"
    }
   ],
   "source": [
    "np.nanmean(array)"
   ]
  },
  {
   "cell_type": "code",
   "execution_count": 89,
   "id": "a89db346",
   "metadata": {},
   "outputs": [
    {
     "data": {
      "text/plain": [
       "array([1., 2., 0., 4., 5.])"
      ]
     },
     "execution_count": 89,
     "metadata": {},
     "output_type": "execute_result"
    }
   ],
   "source": [
    "array_con_0 = np.where(np.isnan(array), 0, array)\n",
    "array_con_0"
   ]
  },
  {
   "cell_type": "code",
   "execution_count": 90,
   "id": "e9b9eb33",
   "metadata": {},
   "outputs": [
    {
     "data": {
      "text/plain": [
       "array([1., 2., 3., 4., 5.])"
      ]
     },
     "execution_count": 90,
     "metadata": {},
     "output_type": "execute_result"
    }
   ],
   "source": [
    "promedio = np.nanmean(array)\n",
    "array_promedio = np.where(np.isnan(array), promedio, array)\n",
    "array_promedio\n"
   ]
  },
  {
   "cell_type": "code",
   "execution_count": 91,
   "id": "a7d507a5",
   "metadata": {},
   "outputs": [
    {
     "data": {
      "text/plain": [
       "array([nan])"
      ]
     },
     "execution_count": 91,
     "metadata": {},
     "output_type": "execute_result"
    }
   ],
   "source": [
    "array_filtrado = array[np.isnan(array)]\n",
    "array_filtrado"
   ]
  },
  {
   "cell_type": "code",
   "execution_count": 92,
   "id": "1a466b98",
   "metadata": {},
   "outputs": [
    {
     "data": {
      "text/plain": [
       "array([1., 2., 4., 5.])"
      ]
     },
     "execution_count": 92,
     "metadata": {},
     "output_type": "execute_result"
    }
   ],
   "source": [
    "array_filtrado = array[~np.isnan(array)]\n",
    "array_filtrado"
   ]
  },
  {
   "cell_type": "code",
   "execution_count": 93,
   "id": "749f8d90",
   "metadata": {},
   "outputs": [],
   "source": [
    "ruta = '/home/anderson-josue/Documents/Data Science/Day 8 /medallas.csv'\n"
   ]
  },
  {
   "cell_type": "code",
   "execution_count": 94,
   "id": "49178145",
   "metadata": {},
   "outputs": [
    {
     "ename": "ValueError",
     "evalue": "Some errors were detected !\n    Line #15 (got 2 columns instead of 1)\n    Line #17 (got 2 columns instead of 1)\n    Line #20 (got 2 columns instead of 1)\n    Line #22 (got 2 columns instead of 1)\n    Line #24 (got 2 columns instead of 1)\n    Line #27 (got 4 columns instead of 1)\n    Line #36 (got 2 columns instead of 1)\n    Line #39 (got 3 columns instead of 1)\n    Line #44 (got 4 columns instead of 1)\n    Line #63 (got 2 columns instead of 1)\n    Line #65 (got 2 columns instead of 1)\n    Line #70 (got 2 columns instead of 1)\n    Line #72 (got 3 columns instead of 1)\n    Line #73 (got 3 columns instead of 1)\n    Line #74 (got 4 columns instead of 1)\n    Line #77 (got 2 columns instead of 1)\n    Line #78 (got 2 columns instead of 1)\n    Line #82 (got 2 columns instead of 1)\n    Line #86 (got 3 columns instead of 1)",
     "output_type": "error",
     "traceback": [
      "\u001b[0;31m---------------------------------------------------------------------------\u001b[0m",
      "\u001b[0;31mValueError\u001b[0m                                Traceback (most recent call last)",
      "Cell \u001b[0;32mIn[94], line 1\u001b[0m\n\u001b[0;32m----> 1\u001b[0m array \u001b[38;5;241m=\u001b[39m np\u001b[38;5;241m.\u001b[39mgenfromtxt(ruta)\n",
      "File \u001b[0;32m~/anaconda3/lib/python3.12/site-packages/numpy/lib/npyio.py:2312\u001b[0m, in \u001b[0;36mgenfromtxt\u001b[0;34m(fname, dtype, comments, delimiter, skip_header, skip_footer, converters, missing_values, filling_values, usecols, names, excludelist, deletechars, replace_space, autostrip, case_sensitive, defaultfmt, unpack, usemask, loose, invalid_raise, max_rows, encoding, ndmin, like)\u001b[0m\n\u001b[1;32m   2310\u001b[0m \u001b[38;5;66;03m# Raise an exception ?\u001b[39;00m\n\u001b[1;32m   2311\u001b[0m \u001b[38;5;28;01mif\u001b[39;00m invalid_raise:\n\u001b[0;32m-> 2312\u001b[0m     \u001b[38;5;28;01mraise\u001b[39;00m \u001b[38;5;167;01mValueError\u001b[39;00m(errmsg)\n\u001b[1;32m   2313\u001b[0m \u001b[38;5;66;03m# Issue a warning ?\u001b[39;00m\n\u001b[1;32m   2314\u001b[0m \u001b[38;5;28;01melse\u001b[39;00m:\n\u001b[1;32m   2315\u001b[0m     warnings\u001b[38;5;241m.\u001b[39mwarn(errmsg, ConversionWarning, stacklevel\u001b[38;5;241m=\u001b[39m\u001b[38;5;241m2\u001b[39m)\n",
      "\u001b[0;31mValueError\u001b[0m: Some errors were detected !\n    Line #15 (got 2 columns instead of 1)\n    Line #17 (got 2 columns instead of 1)\n    Line #20 (got 2 columns instead of 1)\n    Line #22 (got 2 columns instead of 1)\n    Line #24 (got 2 columns instead of 1)\n    Line #27 (got 4 columns instead of 1)\n    Line #36 (got 2 columns instead of 1)\n    Line #39 (got 3 columns instead of 1)\n    Line #44 (got 4 columns instead of 1)\n    Line #63 (got 2 columns instead of 1)\n    Line #65 (got 2 columns instead of 1)\n    Line #70 (got 2 columns instead of 1)\n    Line #72 (got 3 columns instead of 1)\n    Line #73 (got 3 columns instead of 1)\n    Line #74 (got 4 columns instead of 1)\n    Line #77 (got 2 columns instead of 1)\n    Line #78 (got 2 columns instead of 1)\n    Line #82 (got 2 columns instead of 1)\n    Line #86 (got 3 columns instead of 1)"
     ]
    }
   ],
   "source": [
    "array = np.genfromtxt(ruta)"
   ]
  },
  {
   "cell_type": "code",
   "execution_count": 96,
   "id": "731d60f7",
   "metadata": {},
   "outputs": [
    {
     "data": {
      "text/plain": [
       "array([[ nan,  nan,  nan,  nan,  nan],\n",
       "       [ nan,   1.,   2.,   3.,  nan],\n",
       "       [ nan,   2.,   2.,   4.,  nan],\n",
       "       [ 17.,   7.,  22.,  46.,  nan],\n",
       "       [  1.,   1.,   5.,   7.,  nan],\n",
       "       [ nan,   3.,   4.,   7.,  nan],\n",
       "       [  2.,  nan,  nan,   2.,  nan],\n",
       "       [ nan,   1.,  nan,   1.,  nan],\n",
       "       [  1.,   3.,   3.,   7.,  nan],\n",
       "       [  3.,   1.,   3.,   7.,  nan],\n",
       "       [  1.,  nan,  nan,   1.,  nan],\n",
       "       [ nan,  nan,   1.,   1.,  nan],\n",
       "       [  7.,   6.,   8.,  21.,  nan],\n",
       "       [  3.,   1.,   2.,   6.,  nan],\n",
       "       [ nan,  nan,   1.,   1.,  nan],\n",
       "       [  7.,   6.,  11.,  24.,  nan],\n",
       "       [  2.,   4.,   6.,  12.,  nan],\n",
       "       [ nan,   4.,   1.,   5.,  nan],\n",
       "       [  3.,   3.,   2.,   8.,  nan],\n",
       "       [ nan,  nan,   1.,   1.,  nan],\n",
       "       [  7.,   3.,   5.,  15.,  nan],\n",
       "       [  4.,   4.,   3.,  11.,  nan],\n",
       "       [  3.,   4.,   4.,  11.,  nan],\n",
       "       [ nan,   3.,   2.,   5.,  nan],\n",
       "       [  2.,   1.,  nan,   3.,  nan],\n",
       "       [  1.,   1.,   4.,   6.,  nan],\n",
       "       [ 39.,  41.,  33., 113.,  nan],\n",
       "       [  1.,  nan,   1.,   2.,  nan],\n",
       "       [  1.,   1.,   2.,   4.,  nan],\n",
       "       [  1.,  nan,   1.,   2.,  nan],\n",
       "       [ nan,  nan,   2.,   2.,  nan],\n",
       "       [  1.,  12.,  11.,  33.,  nan],\n",
       "       [  2.,   5.,   1.,   8.,  nan],\n",
       "       [  1.,  11.,  16.,  37.,  nan],\n",
       "       [ nan,  nan,   1.,   1.,  nan],\n",
       "       [ 22.,  21.,  22.,  65.,  nan],\n",
       "       [  2.,   1.,   1.,   4.,  nan],\n",
       "       [ nan,  nan,   1.,   1.,  nan],\n",
       "       [ nan,   2.,   3.,   6.,  nan],\n",
       "       [  6.,   7.,   7.,   2.,  nan],\n",
       "       [  1.,   2.,   4.,   7.,  nan],\n",
       "       [  1.,   1.,   3.,   5.,  nan],\n",
       "       [  2.,  nan,   2.,   4.,  nan],\n",
       "       [  3.,   2.,   2.,   7.,  nan],\n",
       "       [  2.,  nan,   2.,   4.,  nan],\n",
       "       [  1.,   1.,   2.,   4.,  nan],\n",
       "       [  4.,   1.,   4.,   9.,  nan],\n",
       "       [ 27.,  14.,  17.,  58.,  nan],\n",
       "       [ nan,   1.,   1.,   2.,  nan],\n",
       "       [ nan,  nan,   8.,   8.,  nan],\n",
       "       [  4.,   4.,   2.,   1.,  nan],\n",
       "       [  2.,  nan,  nan,   2.,  nan],\n",
       "       [ nan,  nan,   1.,   1.,  nan],\n",
       "       [ nan,   2.,   1.,   3.,  nan],\n",
       "       [  1.,  nan,   1.,   2.,  nan],\n",
       "       [ nan,   1.,  nan,   1.,  nan],\n",
       "       [ nan,   1.,   1.,   2.,  nan],\n",
       "       [ nan,  nan,   4.,   4.,  nan],\n",
       "       [ nan,   1.,   3.,   4.,  nan],\n",
       "       [  1.,  nan,  nan,   1.,  nan],\n",
       "       [ nan,   1.,  nan,   1.,  nan],\n",
       "       [  1.,  12.,  14.,  36.,  nan],\n",
       "       [  7.,   6.,   7.,   2.,  nan],\n",
       "       [ nan,   1.,   1.,   2.,  nan],\n",
       "       [ nan,   1.,  nan,   1.,  nan],\n",
       "       [  4.,   2.,   2.,   8.,  nan],\n",
       "       [  1.,   2.,   1.,   4.,  nan],\n",
       "       [  4.,   5.,   5.,  14.,  nan],\n",
       "       [  1.,   1.,   2.,   4.,  nan],\n",
       "       [  1.,  nan,  nan,   1.,  nan],\n",
       "       [  2.,  nan,   1.,   3.,  nan],\n",
       "       [  6.,   4.,   1.,   2.,  nan],\n",
       "       [ nan,  nan,   1.,   1.,  nan],\n",
       "       [ 38.,  32.,  18.,  88.,  nan],\n",
       "       [  2.,  28.,  23.,  71.,  nan],\n",
       "       [  1.,   3.,  nan,   4.,  nan],\n",
       "       [ nan,   1.,   2.,   3.,  nan],\n",
       "       [ nan,   1.,  nan,   1.,  nan],\n",
       "       [  3.,   1.,   5.,   9.,  nan],\n",
       "       [  1.,   2.,   1.,   4.,  nan],\n",
       "       [  3.,   1.,   1.,   5.,  nan],\n",
       "       [  1.,   2.,  nan,   3.,  nan],\n",
       "       [  3.,   8.,   6.,  17.,  nan],\n",
       "       [  3.,   6.,  nan,   9.,  nan],\n",
       "       [  3.,   4.,   6.,  13.,  nan],\n",
       "       [ nan,  nan,   1.,   1.,  nan],\n",
       "       [  1.,  nan,   1.,   2.,  nan],\n",
       "       [  1.,   1.,  nan,   2.,  nan],\n",
       "       [  2.,   2.,   9.,  13.,  nan],\n",
       "       [ nan,   1.,  nan,   1.,  nan],\n",
       "       [  2.,   1.,   1.,   4.,  nan],\n",
       "       [  1.,   6.,  12.,  19.,  nan],\n",
       "       [  3.,  nan,   2.,   5.,  nan],\n",
       "       [  1.,   3.,  nan,   4.,  nan]])"
      ]
     },
     "execution_count": 96,
     "metadata": {},
     "output_type": "execute_result"
    }
   ],
   "source": [
    "array = np.genfromtxt(ruta, delimiter=',')\n",
    "array"
   ]
  },
  {
   "cell_type": "code",
   "execution_count": 97,
   "id": "5e7d500f",
   "metadata": {},
   "outputs": [
    {
     "data": {
      "text/plain": [
       "array([[  0.,   0.,   0.,   0.,   0.],\n",
       "       [  0.,   1.,   2.,   3.,   0.],\n",
       "       [  0.,   2.,   2.,   4.,   0.],\n",
       "       [ 17.,   7.,  22.,  46.,   0.],\n",
       "       [  1.,   1.,   5.,   7.,   0.],\n",
       "       [  0.,   3.,   4.,   7.,   0.],\n",
       "       [  2.,   0.,   0.,   2.,   0.],\n",
       "       [  0.,   1.,   0.,   1.,   0.],\n",
       "       [  1.,   3.,   3.,   7.,   0.],\n",
       "       [  3.,   1.,   3.,   7.,   0.],\n",
       "       [  1.,   0.,   0.,   1.,   0.],\n",
       "       [  0.,   0.,   1.,   1.,   0.],\n",
       "       [  7.,   6.,   8.,  21.,   0.],\n",
       "       [  3.,   1.,   2.,   6.,   0.],\n",
       "       [  0.,   0.,   1.,   1.,   0.],\n",
       "       [  7.,   6.,  11.,  24.,   0.],\n",
       "       [  2.,   4.,   6.,  12.,   0.],\n",
       "       [  0.,   4.,   1.,   5.,   0.],\n",
       "       [  3.,   3.,   2.,   8.,   0.],\n",
       "       [  0.,   0.,   1.,   1.,   0.],\n",
       "       [  7.,   3.,   5.,  15.,   0.],\n",
       "       [  4.,   4.,   3.,  11.,   0.],\n",
       "       [  3.,   4.,   4.,  11.,   0.],\n",
       "       [  0.,   3.,   2.,   5.,   0.],\n",
       "       [  2.,   1.,   0.,   3.,   0.],\n",
       "       [  1.,   1.,   4.,   6.,   0.],\n",
       "       [ 39.,  41.,  33., 113.,   0.],\n",
       "       [  1.,   0.,   1.,   2.,   0.],\n",
       "       [  1.,   1.,   2.,   4.,   0.],\n",
       "       [  1.,   0.,   1.,   2.,   0.],\n",
       "       [  0.,   0.,   2.,   2.,   0.],\n",
       "       [  1.,  12.,  11.,  33.,   0.],\n",
       "       [  2.,   5.,   1.,   8.,   0.],\n",
       "       [  1.,  11.,  16.,  37.,   0.],\n",
       "       [  0.,   0.,   1.,   1.,   0.],\n",
       "       [ 22.,  21.,  22.,  65.,   0.],\n",
       "       [  2.,   1.,   1.,   4.,   0.],\n",
       "       [  0.,   0.,   1.,   1.,   0.],\n",
       "       [  0.,   2.,   3.,   6.,   0.],\n",
       "       [  6.,   7.,   7.,   2.,   0.],\n",
       "       [  1.,   2.,   4.,   7.,   0.],\n",
       "       [  1.,   1.,   3.,   5.,   0.],\n",
       "       [  2.,   0.,   2.,   4.,   0.],\n",
       "       [  3.,   2.,   2.,   7.,   0.],\n",
       "       [  2.,   0.,   2.,   4.,   0.],\n",
       "       [  1.,   1.,   2.,   4.,   0.],\n",
       "       [  4.,   1.,   4.,   9.,   0.],\n",
       "       [ 27.,  14.,  17.,  58.,   0.],\n",
       "       [  0.,   1.,   1.,   2.,   0.],\n",
       "       [  0.,   0.,   8.,   8.,   0.],\n",
       "       [  4.,   4.,   2.,   1.,   0.],\n",
       "       [  2.,   0.,   0.,   2.,   0.],\n",
       "       [  0.,   0.,   1.,   1.,   0.],\n",
       "       [  0.,   2.,   1.,   3.,   0.],\n",
       "       [  1.,   0.,   1.,   2.,   0.],\n",
       "       [  0.,   1.,   0.,   1.,   0.],\n",
       "       [  0.,   1.,   1.,   2.,   0.],\n",
       "       [  0.,   0.,   4.,   4.,   0.],\n",
       "       [  0.,   1.,   3.,   4.,   0.],\n",
       "       [  1.,   0.,   0.,   1.,   0.],\n",
       "       [  0.,   1.,   0.,   1.,   0.],\n",
       "       [  1.,  12.,  14.,  36.,   0.],\n",
       "       [  7.,   6.,   7.,   2.,   0.],\n",
       "       [  0.,   1.,   1.,   2.,   0.],\n",
       "       [  0.,   1.,   0.,   1.,   0.],\n",
       "       [  4.,   2.,   2.,   8.,   0.],\n",
       "       [  1.,   2.,   1.,   4.,   0.],\n",
       "       [  4.,   5.,   5.,  14.,   0.],\n",
       "       [  1.,   1.,   2.,   4.,   0.],\n",
       "       [  1.,   0.,   0.,   1.,   0.],\n",
       "       [  2.,   0.,   1.,   3.,   0.],\n",
       "       [  6.,   4.,   1.,   2.,   0.],\n",
       "       [  0.,   0.,   1.,   1.,   0.],\n",
       "       [ 38.,  32.,  18.,  88.,   0.],\n",
       "       [  2.,  28.,  23.,  71.,   0.],\n",
       "       [  1.,   3.,   0.,   4.,   0.],\n",
       "       [  0.,   1.,   2.,   3.,   0.],\n",
       "       [  0.,   1.,   0.,   1.,   0.],\n",
       "       [  3.,   1.,   5.,   9.,   0.],\n",
       "       [  1.,   2.,   1.,   4.,   0.],\n",
       "       [  3.,   1.,   1.,   5.,   0.],\n",
       "       [  1.,   2.,   0.,   3.,   0.],\n",
       "       [  3.,   8.,   6.,  17.,   0.],\n",
       "       [  3.,   6.,   0.,   9.,   0.],\n",
       "       [  3.,   4.,   6.,  13.,   0.],\n",
       "       [  0.,   0.,   1.,   1.,   0.],\n",
       "       [  1.,   0.,   1.,   2.,   0.],\n",
       "       [  1.,   1.,   0.,   2.,   0.],\n",
       "       [  2.,   2.,   9.,  13.,   0.],\n",
       "       [  0.,   1.,   0.,   1.,   0.],\n",
       "       [  2.,   1.,   1.,   4.,   0.],\n",
       "       [  1.,   6.,  12.,  19.,   0.],\n",
       "       [  3.,   0.,   2.,   5.,   0.],\n",
       "       [  1.,   3.,   0.,   4.,   0.]])"
      ]
     },
     "execution_count": 97,
     "metadata": {},
     "output_type": "execute_result"
    }
   ],
   "source": [
    "array = np.genfromtxt(ruta, delimiter=',', filling_values=0)\n",
    "array"
   ]
  },
  {
   "cell_type": "code",
   "execution_count": 98,
   "id": "70ed2a32",
   "metadata": {},
   "outputs": [
    {
     "data": {
      "text/plain": [
       "array([[  0.,   1.,   2.,   3.,   0.],\n",
       "       [  0.,   2.,   2.,   4.,   0.],\n",
       "       [ 17.,   7.,  22.,  46.,   0.],\n",
       "       [  1.,   1.,   5.,   7.,   0.],\n",
       "       [  0.,   3.,   4.,   7.,   0.],\n",
       "       [  2.,   0.,   0.,   2.,   0.],\n",
       "       [  0.,   1.,   0.,   1.,   0.],\n",
       "       [  1.,   3.,   3.,   7.,   0.],\n",
       "       [  3.,   1.,   3.,   7.,   0.],\n",
       "       [  1.,   0.,   0.,   1.,   0.],\n",
       "       [  0.,   0.,   1.,   1.,   0.],\n",
       "       [  7.,   6.,   8.,  21.,   0.],\n",
       "       [  3.,   1.,   2.,   6.,   0.],\n",
       "       [  0.,   0.,   1.,   1.,   0.],\n",
       "       [  7.,   6.,  11.,  24.,   0.],\n",
       "       [  2.,   4.,   6.,  12.,   0.],\n",
       "       [  0.,   4.,   1.,   5.,   0.],\n",
       "       [  3.,   3.,   2.,   8.,   0.],\n",
       "       [  0.,   0.,   1.,   1.,   0.],\n",
       "       [  7.,   3.,   5.,  15.,   0.],\n",
       "       [  4.,   4.,   3.,  11.,   0.],\n",
       "       [  3.,   4.,   4.,  11.,   0.],\n",
       "       [  0.,   3.,   2.,   5.,   0.],\n",
       "       [  2.,   1.,   0.,   3.,   0.],\n",
       "       [  1.,   1.,   4.,   6.,   0.],\n",
       "       [ 39.,  41.,  33., 113.,   0.],\n",
       "       [  1.,   0.,   1.,   2.,   0.],\n",
       "       [  1.,   1.,   2.,   4.,   0.],\n",
       "       [  1.,   0.,   1.,   2.,   0.],\n",
       "       [  0.,   0.,   2.,   2.,   0.],\n",
       "       [  1.,  12.,  11.,  33.,   0.],\n",
       "       [  2.,   5.,   1.,   8.,   0.],\n",
       "       [  1.,  11.,  16.,  37.,   0.],\n",
       "       [  0.,   0.,   1.,   1.,   0.],\n",
       "       [ 22.,  21.,  22.,  65.,   0.],\n",
       "       [  2.,   1.,   1.,   4.,   0.],\n",
       "       [  0.,   0.,   1.,   1.,   0.],\n",
       "       [  0.,   2.,   3.,   6.,   0.],\n",
       "       [  6.,   7.,   7.,   2.,   0.],\n",
       "       [  1.,   2.,   4.,   7.,   0.],\n",
       "       [  1.,   1.,   3.,   5.,   0.],\n",
       "       [  2.,   0.,   2.,   4.,   0.],\n",
       "       [  3.,   2.,   2.,   7.,   0.],\n",
       "       [  2.,   0.,   2.,   4.,   0.],\n",
       "       [  1.,   1.,   2.,   4.,   0.],\n",
       "       [  4.,   1.,   4.,   9.,   0.],\n",
       "       [ 27.,  14.,  17.,  58.,   0.],\n",
       "       [  0.,   1.,   1.,   2.,   0.],\n",
       "       [  0.,   0.,   8.,   8.,   0.],\n",
       "       [  4.,   4.,   2.,   1.,   0.],\n",
       "       [  2.,   0.,   0.,   2.,   0.],\n",
       "       [  0.,   0.,   1.,   1.,   0.],\n",
       "       [  0.,   2.,   1.,   3.,   0.],\n",
       "       [  1.,   0.,   1.,   2.,   0.],\n",
       "       [  0.,   1.,   0.,   1.,   0.],\n",
       "       [  0.,   1.,   1.,   2.,   0.],\n",
       "       [  0.,   0.,   4.,   4.,   0.],\n",
       "       [  0.,   1.,   3.,   4.,   0.],\n",
       "       [  1.,   0.,   0.,   1.,   0.],\n",
       "       [  0.,   1.,   0.,   1.,   0.],\n",
       "       [  1.,  12.,  14.,  36.,   0.],\n",
       "       [  7.,   6.,   7.,   2.,   0.],\n",
       "       [  0.,   1.,   1.,   2.,   0.],\n",
       "       [  0.,   1.,   0.,   1.,   0.],\n",
       "       [  4.,   2.,   2.,   8.,   0.],\n",
       "       [  1.,   2.,   1.,   4.,   0.],\n",
       "       [  4.,   5.,   5.,  14.,   0.],\n",
       "       [  1.,   1.,   2.,   4.,   0.],\n",
       "       [  1.,   0.,   0.,   1.,   0.],\n",
       "       [  2.,   0.,   1.,   3.,   0.],\n",
       "       [  6.,   4.,   1.,   2.,   0.],\n",
       "       [  0.,   0.,   1.,   1.,   0.],\n",
       "       [ 38.,  32.,  18.,  88.,   0.],\n",
       "       [  2.,  28.,  23.,  71.,   0.],\n",
       "       [  1.,   3.,   0.,   4.,   0.],\n",
       "       [  0.,   1.,   2.,   3.,   0.],\n",
       "       [  0.,   1.,   0.,   1.,   0.],\n",
       "       [  3.,   1.,   5.,   9.,   0.],\n",
       "       [  1.,   2.,   1.,   4.,   0.],\n",
       "       [  3.,   1.,   1.,   5.,   0.],\n",
       "       [  1.,   2.,   0.,   3.,   0.],\n",
       "       [  3.,   8.,   6.,  17.,   0.],\n",
       "       [  3.,   6.,   0.,   9.,   0.],\n",
       "       [  3.,   4.,   6.,  13.,   0.],\n",
       "       [  0.,   0.,   1.,   1.,   0.],\n",
       "       [  1.,   0.,   1.,   2.,   0.],\n",
       "       [  1.,   1.,   0.,   2.,   0.],\n",
       "       [  2.,   2.,   9.,  13.,   0.],\n",
       "       [  0.,   1.,   0.,   1.,   0.],\n",
       "       [  2.,   1.,   1.,   4.,   0.],\n",
       "       [  1.,   6.,  12.,  19.,   0.],\n",
       "       [  3.,   0.,   2.,   5.,   0.],\n",
       "       [  1.,   3.,   0.,   4.,   0.]])"
      ]
     },
     "execution_count": 98,
     "metadata": {},
     "output_type": "execute_result"
    }
   ],
   "source": [
    "array = np.genfromtxt(ruta, delimiter=',', filling_values=0, skip_header=1)\n",
    "array"
   ]
  },
  {
   "cell_type": "code",
   "execution_count": 99,
   "id": "207307c4",
   "metadata": {},
   "outputs": [
    {
     "data": {
      "text/plain": [
       "array([[  0,   1,   2,   3,   0],\n",
       "       [  0,   2,   2,   4,   0],\n",
       "       [ 17,   7,  22,  46,   0],\n",
       "       [  1,   1,   5,   7,   0],\n",
       "       [  0,   3,   4,   7,   0],\n",
       "       [  2,   0,   0,   2,   0],\n",
       "       [  0,   1,   0,   1,   0],\n",
       "       [  1,   3,   3,   7,   0],\n",
       "       [  3,   1,   3,   7,   0],\n",
       "       [  1,   0,   0,   1,   0],\n",
       "       [  0,   0,   1,   1,   0],\n",
       "       [  7,   6,   8,  21,   0],\n",
       "       [  3,   1,   2,   6,   0],\n",
       "       [  0,   0,   1,   1,   0],\n",
       "       [  7,   6,  11,  24,   0],\n",
       "       [  2,   4,   6,  12,   0],\n",
       "       [  0,   4,   1,   5,   0],\n",
       "       [  3,   3,   2,   8,   0],\n",
       "       [  0,   0,   1,   1,   0],\n",
       "       [  7,   3,   5,  15,   0],\n",
       "       [  4,   4,   3,  11,   0],\n",
       "       [  3,   4,   4,  11,   0],\n",
       "       [  0,   3,   2,   5,   0],\n",
       "       [  2,   1,   0,   3,   0],\n",
       "       [  1,   1,   4,   6,   0],\n",
       "       [ 39,  41,  33, 113,   0],\n",
       "       [  1,   0,   1,   2,   0],\n",
       "       [  1,   1,   2,   4,   0],\n",
       "       [  1,   0,   1,   2,   0],\n",
       "       [  0,   0,   2,   2,   0],\n",
       "       [  1,  12,  11,  33,   0],\n",
       "       [  2,   5,   1,   8,   0],\n",
       "       [  1,  11,  16,  37,   0],\n",
       "       [  0,   0,   1,   1,   0],\n",
       "       [ 22,  21,  22,  65,   0],\n",
       "       [  2,   1,   1,   4,   0],\n",
       "       [  0,   0,   1,   1,   0],\n",
       "       [  0,   2,   3,   6,   0],\n",
       "       [  6,   7,   7,   2,   0],\n",
       "       [  1,   2,   4,   7,   0],\n",
       "       [  1,   1,   3,   5,   0],\n",
       "       [  2,   0,   2,   4,   0],\n",
       "       [  3,   2,   2,   7,   0],\n",
       "       [  2,   0,   2,   4,   0],\n",
       "       [  1,   1,   2,   4,   0],\n",
       "       [  4,   1,   4,   9,   0],\n",
       "       [ 27,  14,  17,  58,   0],\n",
       "       [  0,   1,   1,   2,   0],\n",
       "       [  0,   0,   8,   8,   0],\n",
       "       [  4,   4,   2,   1,   0],\n",
       "       [  2,   0,   0,   2,   0],\n",
       "       [  0,   0,   1,   1,   0],\n",
       "       [  0,   2,   1,   3,   0],\n",
       "       [  1,   0,   1,   2,   0],\n",
       "       [  0,   1,   0,   1,   0],\n",
       "       [  0,   1,   1,   2,   0],\n",
       "       [  0,   0,   4,   4,   0],\n",
       "       [  0,   1,   3,   4,   0],\n",
       "       [  1,   0,   0,   1,   0],\n",
       "       [  0,   1,   0,   1,   0],\n",
       "       [  1,  12,  14,  36,   0],\n",
       "       [  7,   6,   7,   2,   0],\n",
       "       [  0,   1,   1,   2,   0],\n",
       "       [  0,   1,   0,   1,   0],\n",
       "       [  4,   2,   2,   8,   0],\n",
       "       [  1,   2,   1,   4,   0],\n",
       "       [  4,   5,   5,  14,   0],\n",
       "       [  1,   1,   2,   4,   0],\n",
       "       [  1,   0,   0,   1,   0],\n",
       "       [  2,   0,   1,   3,   0],\n",
       "       [  6,   4,   1,   2,   0],\n",
       "       [  0,   0,   1,   1,   0],\n",
       "       [ 38,  32,  18,  88,   0],\n",
       "       [  2,  28,  23,  71,   0],\n",
       "       [  1,   3,   0,   4,   0],\n",
       "       [  0,   1,   2,   3,   0],\n",
       "       [  0,   1,   0,   1,   0],\n",
       "       [  3,   1,   5,   9,   0],\n",
       "       [  1,   2,   1,   4,   0],\n",
       "       [  3,   1,   1,   5,   0],\n",
       "       [  1,   2,   0,   3,   0],\n",
       "       [  3,   8,   6,  17,   0],\n",
       "       [  3,   6,   0,   9,   0],\n",
       "       [  3,   4,   6,  13,   0],\n",
       "       [  0,   0,   1,   1,   0],\n",
       "       [  1,   0,   1,   2,   0],\n",
       "       [  1,   1,   0,   2,   0],\n",
       "       [  2,   2,   9,  13,   0],\n",
       "       [  0,   1,   0,   1,   0],\n",
       "       [  2,   1,   1,   4,   0],\n",
       "       [  1,   6,  12,  19,   0],\n",
       "       [  3,   0,   2,   5,   0],\n",
       "       [  1,   3,   0,   4,   0]])"
      ]
     },
     "execution_count": 99,
     "metadata": {},
     "output_type": "execute_result"
    }
   ],
   "source": [
    "array = np.genfromtxt(ruta, delimiter=',', filling_values=0, skip_header=1, dtype=int)\n",
    "array"
   ]
  },
  {
   "cell_type": "code",
   "execution_count": 100,
   "id": "b8ef4e9e",
   "metadata": {},
   "outputs": [],
   "source": [
    "array_ejemplo = np.array([[1,2,3],\n",
    "                    [4,5,6],\n",
    "                    [7,8,9]])"
   ]
  },
  {
   "cell_type": "code",
   "execution_count": 101,
   "id": "0bb3d760",
   "metadata": {},
   "outputs": [],
   "source": [
    "ruta ='/home/anderson-josue/Documents/Data Science/Day 8 /array.csv'"
   ]
  },
  {
   "cell_type": "code",
   "execution_count": 103,
   "id": "f63b5f8d",
   "metadata": {},
   "outputs": [],
   "source": [
    "np.savetxt(ruta, array_ejemplo, delimiter=',', fmt='%d')"
   ]
  },
  {
   "cell_type": "code",
   "execution_count": 105,
   "id": "d723fa48",
   "metadata": {},
   "outputs": [
    {
     "data": {
      "text/html": [
       "<div>\n",
       "<style scoped>\n",
       "    .dataframe tbody tr th:only-of-type {\n",
       "        vertical-align: middle;\n",
       "    }\n",
       "\n",
       "    .dataframe tbody tr th {\n",
       "        vertical-align: top;\n",
       "    }\n",
       "\n",
       "    .dataframe thead th {\n",
       "        text-align: right;\n",
       "    }\n",
       "</style>\n",
       "<table border=\"1\" class=\"dataframe\">\n",
       "  <thead>\n",
       "    <tr style=\"text-align: right;\">\n",
       "      <th></th>\n",
       "      <th>Impares</th>\n",
       "      <th>Pares</th>\n",
       "    </tr>\n",
       "  </thead>\n",
       "  <tbody>\n",
       "    <tr>\n",
       "      <th>0</th>\n",
       "      <td>1</td>\n",
       "      <td>2</td>\n",
       "    </tr>\n",
       "    <tr>\n",
       "      <th>1</th>\n",
       "      <td>3</td>\n",
       "      <td>4</td>\n",
       "    </tr>\n",
       "    <tr>\n",
       "      <th>2</th>\n",
       "      <td>5</td>\n",
       "      <td>6</td>\n",
       "    </tr>\n",
       "  </tbody>\n",
       "</table>\n",
       "</div>"
      ],
      "text/plain": [
       "   Impares  Pares\n",
       "0        1      2\n",
       "1        3      4\n",
       "2        5      6"
      ]
     },
     "execution_count": 105,
     "metadata": {},
     "output_type": "execute_result"
    }
   ],
   "source": [
    "df = pd.DataFrame(\n",
    "    {\n",
    "        \"Impares\": [1, 3, 5],\n",
    "        \"Pares\": [2, 4, 6],\n",
    "    }\n",
    ")\n",
    "df"
   ]
  },
  {
   "cell_type": "code",
   "execution_count": 107,
   "id": "4621deea",
   "metadata": {},
   "outputs": [
    {
     "data": {
      "text/plain": [
       "array([[1, 2],\n",
       "       [3, 4],\n",
       "       [5, 6]])"
      ]
     },
     "execution_count": 107,
     "metadata": {},
     "output_type": "execute_result"
    }
   ],
   "source": [
    "array_np1 = df.values\n",
    "array_np1"
   ]
  },
  {
   "cell_type": "code",
   "execution_count": 108,
   "id": "53a90ec9",
   "metadata": {},
   "outputs": [
    {
     "data": {
      "text/plain": [
       "array([[1, 2],\n",
       "       [3, 4],\n",
       "       [5, 6]])"
      ]
     },
     "execution_count": 108,
     "metadata": {},
     "output_type": "execute_result"
    }
   ],
   "source": [
    "array_np2 =df.to_numpy()\n",
    "array_np2"
   ]
  },
  {
   "cell_type": "code",
   "execution_count": 109,
   "id": "e92f2a32",
   "metadata": {},
   "outputs": [
    {
     "data": {
      "text/html": [
       "<div>\n",
       "<style scoped>\n",
       "    .dataframe tbody tr th:only-of-type {\n",
       "        vertical-align: middle;\n",
       "    }\n",
       "\n",
       "    .dataframe tbody tr th {\n",
       "        vertical-align: top;\n",
       "    }\n",
       "\n",
       "    .dataframe thead th {\n",
       "        text-align: right;\n",
       "    }\n",
       "</style>\n",
       "<table border=\"1\" class=\"dataframe\">\n",
       "  <thead>\n",
       "    <tr style=\"text-align: right;\">\n",
       "      <th></th>\n",
       "      <th>Impares</th>\n",
       "      <th>Pares</th>\n",
       "    </tr>\n",
       "  </thead>\n",
       "  <tbody>\n",
       "    <tr>\n",
       "      <th>0</th>\n",
       "      <td>1.000000</td>\n",
       "      <td>1.414214</td>\n",
       "    </tr>\n",
       "    <tr>\n",
       "      <th>1</th>\n",
       "      <td>1.732051</td>\n",
       "      <td>2.000000</td>\n",
       "    </tr>\n",
       "    <tr>\n",
       "      <th>2</th>\n",
       "      <td>2.236068</td>\n",
       "      <td>2.449490</td>\n",
       "    </tr>\n",
       "  </tbody>\n",
       "</table>\n",
       "</div>"
      ],
      "text/plain": [
       "    Impares     Pares\n",
       "0  1.000000  1.414214\n",
       "1  1.732051  2.000000\n",
       "2  2.236068  2.449490"
      ]
     },
     "execution_count": 109,
     "metadata": {},
     "output_type": "execute_result"
    }
   ],
   "source": [
    "np.sqrt(df)"
   ]
  },
  {
   "cell_type": "code",
   "execution_count": 110,
   "id": "8214c8ca",
   "metadata": {},
   "outputs": [
    {
     "data": {
      "text/plain": [
       "6"
      ]
     },
     "execution_count": 110,
     "metadata": {},
     "output_type": "execute_result"
    }
   ],
   "source": [
    "np.max(df)"
   ]
  },
  {
   "cell_type": "code",
   "execution_count": 111,
   "id": "13e67172",
   "metadata": {},
   "outputs": [
    {
     "data": {
      "text/html": [
       "<div>\n",
       "<style scoped>\n",
       "    .dataframe tbody tr th:only-of-type {\n",
       "        vertical-align: middle;\n",
       "    }\n",
       "\n",
       "    .dataframe tbody tr th {\n",
       "        vertical-align: top;\n",
       "    }\n",
       "\n",
       "    .dataframe thead th {\n",
       "        text-align: right;\n",
       "    }\n",
       "</style>\n",
       "<table border=\"1\" class=\"dataframe\">\n",
       "  <thead>\n",
       "    <tr style=\"text-align: right;\">\n",
       "      <th></th>\n",
       "      <th>0</th>\n",
       "      <th>1</th>\n",
       "    </tr>\n",
       "  </thead>\n",
       "  <tbody>\n",
       "    <tr>\n",
       "      <th>0</th>\n",
       "      <td>1</td>\n",
       "      <td>2</td>\n",
       "    </tr>\n",
       "    <tr>\n",
       "      <th>1</th>\n",
       "      <td>3</td>\n",
       "      <td>4</td>\n",
       "    </tr>\n",
       "    <tr>\n",
       "      <th>2</th>\n",
       "      <td>5</td>\n",
       "      <td>6</td>\n",
       "    </tr>\n",
       "  </tbody>\n",
       "</table>\n",
       "</div>"
      ],
      "text/plain": [
       "   0  1\n",
       "0  1  2\n",
       "1  3  4\n",
       "2  5  6"
      ]
     },
     "execution_count": 111,
     "metadata": {},
     "output_type": "execute_result"
    }
   ],
   "source": [
    "df_desde_numpy = pd.DataFrame(array_np1)\n",
    "df_desde_numpy"
   ]
  },
  {
   "cell_type": "code",
   "execution_count": 112,
   "id": "11879144",
   "metadata": {},
   "outputs": [
    {
     "data": {
      "text/html": [
       "<div>\n",
       "<style scoped>\n",
       "    .dataframe tbody tr th:only-of-type {\n",
       "        vertical-align: middle;\n",
       "    }\n",
       "\n",
       "    .dataframe tbody tr th {\n",
       "        vertical-align: top;\n",
       "    }\n",
       "\n",
       "    .dataframe thead th {\n",
       "        text-align: right;\n",
       "    }\n",
       "</style>\n",
       "<table border=\"1\" class=\"dataframe\">\n",
       "  <thead>\n",
       "    <tr style=\"text-align: right;\">\n",
       "      <th></th>\n",
       "      <th>Columna1</th>\n",
       "      <th>Columna2</th>\n",
       "    </tr>\n",
       "  </thead>\n",
       "  <tbody>\n",
       "    <tr>\n",
       "      <th>0</th>\n",
       "      <td>1</td>\n",
       "      <td>2</td>\n",
       "    </tr>\n",
       "    <tr>\n",
       "      <th>1</th>\n",
       "      <td>3</td>\n",
       "      <td>4</td>\n",
       "    </tr>\n",
       "    <tr>\n",
       "      <th>2</th>\n",
       "      <td>5</td>\n",
       "      <td>6</td>\n",
       "    </tr>\n",
       "  </tbody>\n",
       "</table>\n",
       "</div>"
      ],
      "text/plain": [
       "   Columna1  Columna2\n",
       "0         1         2\n",
       "1         3         4\n",
       "2         5         6"
      ]
     },
     "execution_count": 112,
     "metadata": {},
     "output_type": "execute_result"
    }
   ],
   "source": [
    "df_desde_numpy = pd.DataFrame(array_np1, columns=['Columna1', 'Columna2'])\n",
    "df_desde_numpy"
   ]
  },
  {
   "cell_type": "code",
   "execution_count": null,
   "id": "48e0c909",
   "metadata": {},
   "outputs": [],
   "source": []
  }
 ],
 "metadata": {
  "kernelspec": {
   "display_name": "base",
   "language": "python",
   "name": "python3"
  },
  "language_info": {
   "codemirror_mode": {
    "name": "ipython",
    "version": 3
   },
   "file_extension": ".py",
   "mimetype": "text/x-python",
   "name": "python",
   "nbconvert_exporter": "python",
   "pygments_lexer": "ipython3",
   "version": "3.12.7"
  }
 },
 "nbformat": 4,
 "nbformat_minor": 5
}
