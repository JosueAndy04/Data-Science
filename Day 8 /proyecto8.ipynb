{
 "cells": [
  {
   "cell_type": "markdown",
   "id": "a94490d3",
   "metadata": {},
   "source": [
    "## Analisis de Datos Metereologicos\n"
   ]
  },
  {
   "cell_type": "code",
   "execution_count": 1,
   "id": "7addae9b",
   "metadata": {},
   "outputs": [],
   "source": [
    "import pandas as pd\n",
    "import numpy as np"
   ]
  },
  {
   "cell_type": "markdown",
   "id": "23853b49",
   "metadata": {},
   "source": [
    "1.- Dataframe a partir de un archivo\n"
   ]
  },
  {
   "cell_type": "code",
   "execution_count": null,
   "id": "3663f9b4",
   "metadata": {},
   "outputs": [],
   "source": [
    "ruta = \"/home/anderson-josue/Documents/Data Science/Day 8 /datos_meteorologicos.csv\"\n",
    "df = pd.read_csv(ruta)"
   ]
  },
  {
   "cell_type": "markdown",
   "id": "2321b52f",
   "metadata": {},
   "source": [
    "2.- Realizar observaciones iniciales\n"
   ]
  },
  {
   "cell_type": "code",
   "execution_count": 3,
   "id": "528bb25a",
   "metadata": {},
   "outputs": [
    {
     "data": {
      "text/html": [
       "<div>\n",
       "<style scoped>\n",
       "    .dataframe tbody tr th:only-of-type {\n",
       "        vertical-align: middle;\n",
       "    }\n",
       "\n",
       "    .dataframe tbody tr th {\n",
       "        vertical-align: top;\n",
       "    }\n",
       "\n",
       "    .dataframe thead th {\n",
       "        text-align: right;\n",
       "    }\n",
       "</style>\n",
       "<table border=\"1\" class=\"dataframe\">\n",
       "  <thead>\n",
       "    <tr style=\"text-align: right;\">\n",
       "      <th></th>\n",
       "      <th>Fecha</th>\n",
       "      <th>Temperatura</th>\n",
       "      <th>Precipitación</th>\n",
       "      <th>Humedad</th>\n",
       "    </tr>\n",
       "  </thead>\n",
       "  <tbody>\n",
       "    <tr>\n",
       "      <th>0</th>\n",
       "      <td>01/01/2010</td>\n",
       "      <td>17.440675</td>\n",
       "      <td>10.957482</td>\n",
       "      <td>52.384637</td>\n",
       "    </tr>\n",
       "    <tr>\n",
       "      <th>1</th>\n",
       "      <td>02/01/2010</td>\n",
       "      <td>25.759468</td>\n",
       "      <td>5.315628</td>\n",
       "      <td>30.633530</td>\n",
       "    </tr>\n",
       "    <tr>\n",
       "      <th>2</th>\n",
       "      <td>03/01/2010</td>\n",
       "      <td>20.138169</td>\n",
       "      <td>15.317706</td>\n",
       "      <td>41.496715</td>\n",
       "    </tr>\n",
       "    <tr>\n",
       "      <th>3</th>\n",
       "      <td>04/01/2010</td>\n",
       "      <td>17.244159</td>\n",
       "      <td>13.151008</td>\n",
       "      <td>90.684704</td>\n",
       "    </tr>\n",
       "    <tr>\n",
       "      <th>4</th>\n",
       "      <td>05/01/2010</td>\n",
       "      <td>11.182740</td>\n",
       "      <td>16.413667</td>\n",
       "      <td>22.116422</td>\n",
       "    </tr>\n",
       "    <tr>\n",
       "      <th>...</th>\n",
       "      <td>...</td>\n",
       "      <td>...</td>\n",
       "      <td>...</td>\n",
       "      <td>...</td>\n",
       "    </tr>\n",
       "    <tr>\n",
       "      <th>5105</th>\n",
       "      <td>24/12/2023</td>\n",
       "      <td>-9.554692</td>\n",
       "      <td>12.700998</td>\n",
       "      <td>50.094533</td>\n",
       "    </tr>\n",
       "    <tr>\n",
       "      <th>5106</th>\n",
       "      <td>25/12/2023</td>\n",
       "      <td>2.837831</td>\n",
       "      <td>5.475686</td>\n",
       "      <td>92.456057</td>\n",
       "    </tr>\n",
       "    <tr>\n",
       "      <th>5107</th>\n",
       "      <td>26/12/2023</td>\n",
       "      <td>29.873597</td>\n",
       "      <td>4.615012</td>\n",
       "      <td>18.362847</td>\n",
       "    </tr>\n",
       "    <tr>\n",
       "      <th>5108</th>\n",
       "      <td>27/12/2023</td>\n",
       "      <td>NaN</td>\n",
       "      <td>NaN</td>\n",
       "      <td>NaN</td>\n",
       "    </tr>\n",
       "    <tr>\n",
       "      <th>5109</th>\n",
       "      <td>28/12/2023</td>\n",
       "      <td>37.308043</td>\n",
       "      <td>7.330510</td>\n",
       "      <td>50.646211</td>\n",
       "    </tr>\n",
       "  </tbody>\n",
       "</table>\n",
       "<p>5110 rows × 4 columns</p>\n",
       "</div>"
      ],
      "text/plain": [
       "           Fecha  Temperatura  Precipitación    Humedad\n",
       "0     01/01/2010    17.440675      10.957482  52.384637\n",
       "1     02/01/2010    25.759468       5.315628  30.633530\n",
       "2     03/01/2010    20.138169      15.317706  41.496715\n",
       "3     04/01/2010    17.244159      13.151008  90.684704\n",
       "4     05/01/2010    11.182740      16.413667  22.116422\n",
       "...          ...          ...            ...        ...\n",
       "5105  24/12/2023    -9.554692      12.700998  50.094533\n",
       "5106  25/12/2023     2.837831       5.475686  92.456057\n",
       "5107  26/12/2023    29.873597       4.615012  18.362847\n",
       "5108  27/12/2023          NaN            NaN        NaN\n",
       "5109  28/12/2023    37.308043       7.330510  50.646211\n",
       "\n",
       "[5110 rows x 4 columns]"
      ]
     },
     "execution_count": 3,
     "metadata": {},
     "output_type": "execute_result"
    }
   ],
   "source": [
    "df"
   ]
  },
  {
   "cell_type": "code",
   "execution_count": 4,
   "id": "905b5a13",
   "metadata": {},
   "outputs": [
    {
     "data": {
      "text/html": [
       "<div>\n",
       "<style scoped>\n",
       "    .dataframe tbody tr th:only-of-type {\n",
       "        vertical-align: middle;\n",
       "    }\n",
       "\n",
       "    .dataframe tbody tr th {\n",
       "        vertical-align: top;\n",
       "    }\n",
       "\n",
       "    .dataframe thead th {\n",
       "        text-align: right;\n",
       "    }\n",
       "</style>\n",
       "<table border=\"1\" class=\"dataframe\">\n",
       "  <thead>\n",
       "    <tr style=\"text-align: right;\">\n",
       "      <th></th>\n",
       "      <th>Temperatura</th>\n",
       "      <th>Precipitación</th>\n",
       "      <th>Humedad</th>\n",
       "    </tr>\n",
       "  </thead>\n",
       "  <tbody>\n",
       "    <tr>\n",
       "      <th>count</th>\n",
       "      <td>4855.000000</td>\n",
       "      <td>4855.000000</td>\n",
       "      <td>4855.000000</td>\n",
       "    </tr>\n",
       "    <tr>\n",
       "      <th>mean</th>\n",
       "      <td>14.889296</td>\n",
       "      <td>9.901604</td>\n",
       "      <td>54.359061</td>\n",
       "    </tr>\n",
       "    <tr>\n",
       "      <th>std</th>\n",
       "      <td>14.440466</td>\n",
       "      <td>5.801842</td>\n",
       "      <td>26.096345</td>\n",
       "    </tr>\n",
       "    <tr>\n",
       "      <th>min</th>\n",
       "      <td>-9.996378</td>\n",
       "      <td>0.003008</td>\n",
       "      <td>10.014980</td>\n",
       "    </tr>\n",
       "    <tr>\n",
       "      <th>25%</th>\n",
       "      <td>2.651777</td>\n",
       "      <td>4.756907</td>\n",
       "      <td>31.866578</td>\n",
       "    </tr>\n",
       "    <tr>\n",
       "      <th>50%</th>\n",
       "      <td>14.693274</td>\n",
       "      <td>9.853698</td>\n",
       "      <td>54.254478</td>\n",
       "    </tr>\n",
       "    <tr>\n",
       "      <th>75%</th>\n",
       "      <td>27.381451</td>\n",
       "      <td>14.966997</td>\n",
       "      <td>77.029500</td>\n",
       "    </tr>\n",
       "    <tr>\n",
       "      <th>max</th>\n",
       "      <td>39.998201</td>\n",
       "      <td>19.999559</td>\n",
       "      <td>99.996582</td>\n",
       "    </tr>\n",
       "  </tbody>\n",
       "</table>\n",
       "</div>"
      ],
      "text/plain": [
       "       Temperatura  Precipitación      Humedad\n",
       "count  4855.000000    4855.000000  4855.000000\n",
       "mean     14.889296       9.901604    54.359061\n",
       "std      14.440466       5.801842    26.096345\n",
       "min      -9.996378       0.003008    10.014980\n",
       "25%       2.651777       4.756907    31.866578\n",
       "50%      14.693274       9.853698    54.254478\n",
       "75%      27.381451      14.966997    77.029500\n",
       "max      39.998201      19.999559    99.996582"
      ]
     },
     "execution_count": 4,
     "metadata": {},
     "output_type": "execute_result"
    }
   ],
   "source": [
    "df.describe()"
   ]
  },
  {
   "cell_type": "code",
   "execution_count": 5,
   "id": "867245ac",
   "metadata": {},
   "outputs": [
    {
     "name": "stdout",
     "output_type": "stream",
     "text": [
      "<class 'pandas.core.frame.DataFrame'>\n",
      "RangeIndex: 5110 entries, 0 to 5109\n",
      "Data columns (total 4 columns):\n",
      " #   Column         Non-Null Count  Dtype  \n",
      "---  ------         --------------  -----  \n",
      " 0   Fecha          5110 non-null   object \n",
      " 1   Temperatura    4855 non-null   float64\n",
      " 2   Precipitación  4855 non-null   float64\n",
      " 3   Humedad        4855 non-null   float64\n",
      "dtypes: float64(3), object(1)\n",
      "memory usage: 159.8+ KB\n"
     ]
    }
   ],
   "source": [
    "df.info()"
   ]
  },
  {
   "cell_type": "markdown",
   "id": "6b507b0f",
   "metadata": {},
   "source": [
    "3.- Convertir las columnas de dataframe en numpy array\n"
   ]
  },
  {
   "cell_type": "code",
   "execution_count": null,
   "id": "3d7715f9",
   "metadata": {},
   "outputs": [],
   "source": [
    "array = np.genfromtxt(ruta, delimiter=\",\", skip_header=1)"
   ]
  },
  {
   "cell_type": "code",
   "execution_count": 8,
   "id": "4be7e9ea",
   "metadata": {},
   "outputs": [
    {
     "data": {
      "text/plain": [
       "array([[        nan, 17.4406752 , 10.957482  , 52.38463749],\n",
       "       [        nan, 25.75946832,  5.31562765, 30.63352983],\n",
       "       [        nan, 20.1381688 , 15.31770609, 41.49671458],\n",
       "       ...,\n",
       "       [        nan, 29.87359717,  4.61501177, 18.36284738],\n",
       "       [        nan,         nan,         nan,         nan],\n",
       "       [        nan, 37.30804318,  7.33051023, 50.64621058]])"
      ]
     },
     "execution_count": 8,
     "metadata": {},
     "output_type": "execute_result"
    }
   ],
   "source": [
    "array"
   ]
  },
  {
   "cell_type": "markdown",
   "id": "5f863cbf",
   "metadata": {},
   "source": [
    "4.- Identificarlos datos faltantes en los arrays, y reemplazarlos por le promedio\n"
   ]
  },
  {
   "cell_type": "code",
   "execution_count": null,
   "id": "19ab5f17",
   "metadata": {},
   "outputs": [
    {
     "data": {
      "text/plain": [
       "array([[        nan, 17.4406752 , 10.957482  , 52.38463749],\n",
       "       [        nan, 25.75946832,  5.31562765, 30.63352983],\n",
       "       [        nan, 20.1381688 , 15.31770609, 41.49671458],\n",
       "       ...,\n",
       "       [        nan, 29.87359717,  4.61501177, 18.36284738],\n",
       "       [        nan, 14.88929572,         nan,         nan],\n",
       "       [        nan, 37.30804318,  7.33051023, 50.64621058]])"
      ]
     },
     "execution_count": 18,
     "metadata": {},
     "output_type": "execute_result"
    }
   ],
   "source": [
    "temperatura_promedio = np.nanmean(array[:, 1])\n",
    "array[:, 1] = np.where(np.isnan(array[:, 1]), temperatura_promedio, array[:, 1])\n",
    "array"
   ]
  },
  {
   "cell_type": "code",
   "execution_count": null,
   "id": "a776cae8",
   "metadata": {},
   "outputs": [
    {
     "data": {
      "text/plain": [
       "array([[        nan, 17.4406752 , 10.957482  , 52.38463749],\n",
       "       [        nan, 25.75946832,  5.31562765, 30.63352983],\n",
       "       [        nan, 20.1381688 , 15.31770609, 41.49671458],\n",
       "       ...,\n",
       "       [        nan, 29.87359717,  4.61501177, 18.36284738],\n",
       "       [        nan, 14.88929572,  9.9016036 ,         nan],\n",
       "       [        nan, 37.30804318,  7.33051023, 50.64621058]])"
      ]
     },
     "execution_count": 19,
     "metadata": {},
     "output_type": "execute_result"
    }
   ],
   "source": [
    "precipitacion_promedio = np.nanmean(array[:, 2])\n",
    "array[:, 2] = np.where(np.isnan(array[:, 2]), precipitacion_promedio, array[:, 2])\n",
    "array"
   ]
  },
  {
   "cell_type": "code",
   "execution_count": null,
   "id": "bedecb29",
   "metadata": {},
   "outputs": [
    {
     "data": {
      "text/plain": [
       "array([[        nan, 17.4406752 , 10.957482  , 52.38463749],\n",
       "       [        nan, 25.75946832,  5.31562765, 30.63352983],\n",
       "       [        nan, 20.1381688 , 15.31770609, 41.49671458],\n",
       "       ...,\n",
       "       [        nan, 29.87359717,  4.61501177, 18.36284738],\n",
       "       [        nan, 14.88929572,  9.9016036 , 54.3590608 ],\n",
       "       [        nan, 37.30804318,  7.33051023, 50.64621058]])"
      ]
     },
     "execution_count": 20,
     "metadata": {},
     "output_type": "execute_result"
    }
   ],
   "source": [
    "humedad_promedio = np.nanmean(array[:, 3])\n",
    "array[:, 3] = np.where(np.isnan(array[:, 3]), humedad_promedio, array[:, 3])\n",
    "array"
   ]
  },
  {
   "cell_type": "markdown",
   "id": "b53c237d",
   "metadata": {},
   "source": [
    "5.- Analisis estadisticos\n"
   ]
  },
  {
   "cell_type": "markdown",
   "id": "832e306b",
   "metadata": {},
   "source": [
    "5.1 Temperatura promedio\n"
   ]
  },
  {
   "cell_type": "code",
   "execution_count": null,
   "id": "34c98dea",
   "metadata": {},
   "outputs": [
    {
     "data": {
      "text/plain": [
       "'La temperatura promedio es: 14.9'"
      ]
     },
     "execution_count": 24,
     "metadata": {},
     "output_type": "execute_result"
    }
   ],
   "source": [
    "temperatura_promedio_no_nan = np.nanmean(array[:, 1])\n",
    "promedio_temperatura = np.round(temperatura_promedio_no_nan, 1)\n",
    "f\"La temperatura promedio es: {promedio_temperatura}\""
   ]
  },
  {
   "cell_type": "markdown",
   "id": "e1f178f2",
   "metadata": {},
   "source": [
    "5.2 Total de precipitaciones\n"
   ]
  },
  {
   "cell_type": "code",
   "execution_count": null,
   "id": "0356b1ea",
   "metadata": {},
   "outputs": [
    {
     "data": {
      "text/plain": [
       "'La cantidad total de precipitaciones es: 50597.19'"
      ]
     },
     "execution_count": 30,
     "metadata": {},
     "output_type": "execute_result"
    }
   ],
   "source": [
    "total_precipitacion = np.round(np.nansum(array[:, 2]), 2)\n",
    "f\"La cantidad total de precipitaciones es: {total_precipitacion}\"\n"
   ]
  },
  {
   "cell_type": "markdown",
   "id": "4abff76b",
   "metadata": {},
   "source": [
    "5.3 Maxima humedad registrada\n"
   ]
  },
  {
   "cell_type": "code",
   "execution_count": 39,
   "id": "f79a9191",
   "metadata": {},
   "outputs": [
    {
     "data": {
      "text/plain": [
       "'La humedad maxima es\" 40.0'"
      ]
     },
     "execution_count": 39,
     "metadata": {},
     "output_type": "execute_result"
    }
   ],
   "source": [
    "maxima_humedad = np.round(np.max(array[:, 1]))\n",
    "f'La humedad maxima es\" {maxima_humedad}'"
   ]
  },
  {
   "cell_type": "markdown",
   "id": "1d486bbc",
   "metadata": {},
   "source": [
    "5.4 Fecha mas calurosa\n"
   ]
  },
  {
   "cell_type": "code",
   "execution_count": null,
   "id": "592b47e1",
   "metadata": {},
   "outputs": [
    {
     "data": {
      "text/plain": [
       "'12/07/2017'"
      ]
     },
     "execution_count": 57,
     "metadata": {},
     "output_type": "execute_result"
    }
   ],
   "source": [
    "fecha_mas_calurosa = array[np.argmax(array[:, 1]), 1]\n",
    "registro_mas_caluroso = np.where(array[:, 1] == fecha_mas_calurosa)[0][0]\n",
    "fecha_calurosa = df.iloc[registro_mas_caluroso][\"Fecha\"]\n",
    "fecha_calurosa"
   ]
  },
  {
   "cell_type": "markdown",
   "id": "ce53f305",
   "metadata": {},
   "source": [
    "5.5 Fecha mas fria\n"
   ]
  },
  {
   "cell_type": "code",
   "execution_count": null,
   "id": "d904cd0e",
   "metadata": {},
   "outputs": [
    {
     "data": {
      "text/plain": [
       "'23/07/2020'"
      ]
     },
     "execution_count": 58,
     "metadata": {},
     "output_type": "execute_result"
    }
   ],
   "source": [
    "fecha_mas_fria = array[np.argmin(array[:, 1]), 1]\n",
    "registro_mas_frip = np.where(array[:, 1] == fecha_mas_fria)[0][0]\n",
    "fecha_fria = df.iloc[registro_mas_frip][\"Fecha\"]\n",
    "fecha_fria"
   ]
  },
  {
   "cell_type": "markdown",
   "id": "792b20f4",
   "metadata": {},
   "source": [
    "6.- Guardar en csv\n"
   ]
  },
  {
   "cell_type": "code",
   "execution_count": 38,
   "id": "dd17eef8",
   "metadata": {},
   "outputs": [
    {
     "data": {
      "text/plain": [
       "array([[        nan, 17.4406752 , 10.957482  , 52.38463749],\n",
       "       [        nan, 25.75946832,  5.31562765, 30.63352983],\n",
       "       [        nan, 20.1381688 , 15.31770609, 41.49671458],\n",
       "       ...,\n",
       "       [        nan, 29.87359717,  4.61501177, 18.36284738],\n",
       "       [        nan, 14.88929572,  9.9016036 , 54.3590608 ],\n",
       "       [        nan, 37.30804318,  7.33051023, 50.64621058]])"
      ]
     },
     "execution_count": 38,
     "metadata": {},
     "output_type": "execute_result"
    }
   ],
   "source": [
    "array"
   ]
  },
  {
   "cell_type": "code",
   "execution_count": null,
   "id": "b4208ccd",
   "metadata": {},
   "outputs": [],
   "source": [
    "resultados = pd.DataFrame(\n",
    "    {\n",
    "        \"Metrica\": [\n",
    "            \"Temperatura Promedio\",\n",
    "            \"Precipitacion Total\",\n",
    "            \"Humedad Maxima\",\n",
    "            \"Dia mas caluroso\",\n",
    "            \"Dia mas frio\",\n",
    "        ],\n",
    "        \"Valor\": [\n",
    "            promedio_temperatura,\n",
    "            total_precipitacion,\n",
    "            maxima_humedad,\n",
    "            fecha_calurosa,\n",
    "            fecha_fria,\n",
    "        ],\n",
    "    }\n",
    ")\n",
    "\n",
    "resultados.to_csv(\"resultados_meterologicos.csv\", index=False)"
   ]
  },
  {
   "cell_type": "code",
   "execution_count": null,
   "id": "2d942023",
   "metadata": {},
   "outputs": [],
   "source": []
  }
 ],
 "metadata": {
  "kernelspec": {
   "display_name": "base",
   "language": "python",
   "name": "python3"
  },
  "language_info": {
   "codemirror_mode": {
    "name": "ipython",
    "version": 3
   },
   "file_extension": ".py",
   "mimetype": "text/x-python",
   "name": "python",
   "nbconvert_exporter": "python",
   "pygments_lexer": "ipython3",
   "version": "3.12.7"
  }
 },
 "nbformat": 4,
 "nbformat_minor": 5
}
