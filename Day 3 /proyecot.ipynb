{
 "cells": [
  {
   "cell_type": "markdown",
   "id": "fa67f338",
   "metadata": {},
   "source": [
    "Santo Bacalao es el jefe"
   ]
  },
  {
   "cell_type": "code",
   "execution_count": 21,
   "id": "159e041b",
   "metadata": {},
   "outputs": [],
   "source": [
    "texto = input('Ingresa un frase de al menos 10 palabras')"
   ]
  },
  {
   "cell_type": "code",
   "execution_count": 22,
   "id": "073928df",
   "metadata": {},
   "outputs": [],
   "source": [
    "caracteres = len(texto)"
   ]
  },
  {
   "cell_type": "code",
   "execution_count": 23,
   "id": "ca203044",
   "metadata": {},
   "outputs": [],
   "source": [
    "caracteres_sin_espacio = len(texto.replace(' ',''))"
   ]
  },
  {
   "cell_type": "code",
   "execution_count": 24,
   "id": "5968d361",
   "metadata": {},
   "outputs": [],
   "source": [
    "a = int(texto.count(\"a\"))\n",
    "e = int(texto.count(\"e\"))\n",
    "i = int(texto.count(\"i\"))\n",
    "o = int(texto.count(\"o\"))\n",
    "u = int(texto.count(\"u\"))\n",
    "vocales = a + e + i + o + u"
   ]
  },
  {
   "cell_type": "code",
   "execution_count": null,
   "id": "ed55dee4",
   "metadata": {},
   "outputs": [
    {
     "name": "stdout",
     "output_type": "stream",
     "text": [
      "5\n"
     ]
    }
   ],
   "source": [
    "palabras = texto.strip().count(' ') + 1"
   ]
  },
  {
   "cell_type": "code",
   "execution_count": null,
   "id": "cc02154c",
   "metadata": {},
   "outputs": [
    {
     "name": "stdout",
     "output_type": "stream",
     "text": [
      "bacalao es el jefe\n"
     ]
    }
   ],
   "source": [
    "texto_nuevo = texto.split()\n",
    "primer_palabra = ' '.join(texto_nuevo[1:])"
   ]
  },
  {
   "cell_type": "code",
   "execution_count": null,
   "id": "5f1a4d63",
   "metadata": {},
   "outputs": [
    {
     "name": "stdout",
     "output_type": "stream",
     "text": [
      "Santo-bacalao-es-el-jefe\n"
     ]
    }
   ],
   "source": [
    "guiones = texto.replace(' ','-')"
   ]
  },
  {
   "cell_type": "code",
   "execution_count": null,
   "id": "276ea8ef",
   "metadata": {},
   "outputs": [
    {
     "name": "stdout",
     "output_type": "stream",
     "text": [
      "sANTO BACALAO ES EL JEFE\n"
     ]
    }
   ],
   "source": [
    "may_min = texto.swapcase()"
   ]
  },
  {
   "cell_type": "code",
   "execution_count": 29,
   "id": "5f5a5a4c",
   "metadata": {},
   "outputs": [
    {
     "name": "stdout",
     "output_type": "stream",
     "text": [
      "Estos son los resultados: \n",
      "Total de caracteres contando espacios: 24\n",
      "Total de caracteres sin espacios: 20\n",
      "Total de vocales: 10, a: 4, e: 4,i: 0,o: 2,u: 0\n",
      "Total de palabras en la frase: 5\n",
      "Frase sin la primer palabra: bacalao es el jefe\n",
      "Frase con los espacios reemplazados por guione: Santo-bacalao-es-el-jefe\n",
      "Frase con los mayusculas y minusculas inveritdas: sANTO BACALAO ES EL JEFE\n"
     ]
    }
   ],
   "source": [
    "print('Estos son los resultados: ')\n",
    "print(f'Total de caracteres contando espacios: {caracteres}')\n",
    "print(f'Total de caracteres sin espacios: {caracteres_sin_espacio}')\n",
    "print(f'Total de vocales: {vocales}, a: {a}, e: {e},i: {i},o: {o},u: {u}')\n",
    "print(f'Total de palabras en la frase: {palabras}')\n",
    "print(f'Frase sin la primer palabra: {primer_palabra}')\n",
    "print(f'Frase con los espacios reemplazados por guione: {guiones}')\n",
    "print(f'Frase con los mayusculas y minusculas inveritdas: {may_min}')\n"
   ]
  },
  {
   "cell_type": "code",
   "execution_count": null,
   "id": "6399ac2d",
   "metadata": {},
   "outputs": [],
   "source": []
  }
 ],
 "metadata": {
  "kernelspec": {
   "display_name": "base",
   "language": "python",
   "name": "python3"
  },
  "language_info": {
   "codemirror_mode": {
    "name": "ipython",
    "version": 3
   },
   "file_extension": ".py",
   "mimetype": "text/x-python",
   "name": "python",
   "nbconvert_exporter": "python",
   "pygments_lexer": "ipython3",
   "version": "3.12.7"
  }
 },
 "nbformat": 4,
 "nbformat_minor": 5
}
